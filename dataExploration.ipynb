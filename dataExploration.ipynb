{
 "cells": [
  {
   "cell_type": "code",
   "execution_count": 3,
   "metadata": {
    "colab": {
     "base_uri": "https://localhost:8080/"
    },
    "id": "jk4-Im6PIp1H",
    "outputId": "e936a58f-5b01-4091-e54e-93f1b9b616da",
    "scrolled": true
   },
   "outputs": [
    {
     "name": "stdout",
     "output_type": "stream",
     "text": [
      "Requirement already satisfied: texthero in c:\\users\\bryan kheirallah\\appdata\\local\\programs\\python\\python37\\lib\\site-packages (1.1.0)\n",
      "Requirement already satisfied: tqdm>=4.3 in c:\\users\\bryan kheirallah\\appdata\\local\\programs\\python\\python37\\lib\\site-packages (from texthero) (4.64.0)\n",
      "Requirement already satisfied: wordcloud>=1.5.0 in c:\\users\\bryan kheirallah\\appdata\\local\\programs\\python\\python37\\lib\\site-packages (from texthero) (1.8.1)\n",
      "Requirement already satisfied: scikit-learn>=0.22 in c:\\users\\bryan kheirallah\\appdata\\local\\programs\\python\\python37\\lib\\site-packages (from texthero) (1.0.2)\n",
      "Requirement already satisfied: numpy>=1.17 in c:\\users\\bryan kheirallah\\appdata\\local\\programs\\python\\python37\\lib\\site-packages (from texthero) (1.21.5)\n",
      "Requirement already satisfied: matplotlib>=3.1.0 in c:\\users\\bryan kheirallah\\appdata\\local\\programs\\python\\python37\\lib\\site-packages (from texthero) (3.5.2)\n",
      "Requirement already satisfied: spacy<3.0.0 in c:\\users\\bryan kheirallah\\appdata\\local\\programs\\python\\python37\\lib\\site-packages (from texthero) (2.3.7)\n",
      "Requirement already satisfied: nltk>=3.3 in c:\\users\\bryan kheirallah\\appdata\\local\\programs\\python\\python37\\lib\\site-packages (from texthero) (3.7)\n",
      "Requirement already satisfied: pandas>=1.0.2 in c:\\users\\bryan kheirallah\\appdata\\local\\programs\\python\\python37\\lib\\site-packages (from texthero) (1.3.5)\n",
      "Requirement already satisfied: plotly>=4.2.0 in c:\\users\\bryan kheirallah\\appdata\\local\\programs\\python\\python37\\lib\\site-packages (from texthero) (5.8.0)\n",
      "Requirement already satisfied: gensim<4.0,>=3.6.0 in c:\\users\\bryan kheirallah\\appdata\\local\\programs\\python\\python37\\lib\\site-packages (from texthero) (3.8.3)\n",
      "Requirement already satisfied: unidecode>=1.1.1 in c:\\users\\bryan kheirallah\\appdata\\local\\programs\\python\\python37\\lib\\site-packages (from texthero) (1.3.4)\n",
      "Requirement already satisfied: smart-open>=1.8.1 in c:\\users\\bryan kheirallah\\appdata\\local\\programs\\python\\python37\\lib\\site-packages (from gensim<4.0,>=3.6.0->texthero) (6.0.0)\n",
      "Requirement already satisfied: Cython==0.29.14 in c:\\users\\bryan kheirallah\\appdata\\local\\programs\\python\\python37\\lib\\site-packages (from gensim<4.0,>=3.6.0->texthero) (0.29.14)\n",
      "Requirement already satisfied: scipy>=0.18.1 in c:\\users\\bryan kheirallah\\appdata\\local\\programs\\python\\python37\\lib\\site-packages (from gensim<4.0,>=3.6.0->texthero) (1.7.3)\n",
      "Requirement already satisfied: six>=1.5.0 in c:\\users\\bryan kheirallah\\appdata\\local\\programs\\python\\python37\\lib\\site-packages (from gensim<4.0,>=3.6.0->texthero) (1.16.0)\n",
      "Requirement already satisfied: fonttools>=4.22.0 in c:\\users\\bryan kheirallah\\appdata\\local\\programs\\python\\python37\\lib\\site-packages (from matplotlib>=3.1.0->texthero) (4.33.3)\n",
      "Requirement already satisfied: python-dateutil>=2.7 in c:\\users\\bryan kheirallah\\appdata\\local\\programs\\python\\python37\\lib\\site-packages (from matplotlib>=3.1.0->texthero) (2.8.2)\n",
      "Requirement already satisfied: cycler>=0.10 in c:\\users\\bryan kheirallah\\appdata\\local\\programs\\python\\python37\\lib\\site-packages (from matplotlib>=3.1.0->texthero) (0.11.0)\n",
      "Requirement already satisfied: packaging>=20.0 in c:\\users\\bryan kheirallah\\appdata\\local\\programs\\python\\python37\\lib\\site-packages (from matplotlib>=3.1.0->texthero) (21.3)\n",
      "Requirement already satisfied: pillow>=6.2.0 in c:\\users\\bryan kheirallah\\appdata\\local\\programs\\python\\python37\\lib\\site-packages (from matplotlib>=3.1.0->texthero) (9.1.0)\n",
      "Requirement already satisfied: kiwisolver>=1.0.1 in c:\\users\\bryan kheirallah\\appdata\\local\\programs\\python\\python37\\lib\\site-packages (from matplotlib>=3.1.0->texthero) (1.4.2)\n",
      "Requirement already satisfied: pyparsing>=2.2.1 in c:\\users\\bryan kheirallah\\appdata\\local\\programs\\python\\python37\\lib\\site-packages (from matplotlib>=3.1.0->texthero) (3.0.8)\n",
      "Requirement already satisfied: regex>=2021.8.3 in c:\\users\\bryan kheirallah\\appdata\\local\\programs\\python\\python37\\lib\\site-packages (from nltk>=3.3->texthero) (2022.4.24)\n",
      "Requirement already satisfied: joblib in c:\\users\\bryan kheirallah\\appdata\\local\\programs\\python\\python37\\lib\\site-packages (from nltk>=3.3->texthero) (1.1.0)\n",
      "Requirement already satisfied: click in c:\\users\\bryan kheirallah\\appdata\\local\\programs\\python\\python37\\lib\\site-packages (from nltk>=3.3->texthero) (8.1.3)\n",
      "Requirement already satisfied: pytz>=2017.3 in c:\\users\\bryan kheirallah\\appdata\\local\\programs\\python\\python37\\lib\\site-packages (from pandas>=1.0.2->texthero) (2022.1)\n",
      "Requirement already satisfied: tenacity>=6.2.0 in c:\\users\\bryan kheirallah\\appdata\\local\\programs\\python\\python37\\lib\\site-packages (from plotly>=4.2.0->texthero) (8.0.1)\n",
      "Requirement already satisfied: threadpoolctl>=2.0.0 in c:\\users\\bryan kheirallah\\appdata\\local\\programs\\python\\python37\\lib\\site-packages (from scikit-learn>=0.22->texthero) (3.1.0)\n",
      "Requirement already satisfied: srsly<1.1.0,>=1.0.2 in c:\\users\\bryan kheirallah\\appdata\\local\\programs\\python\\python37\\lib\\site-packages (from spacy<3.0.0->texthero) (1.0.5)\n",
      "Requirement already satisfied: wasabi<1.1.0,>=0.4.0 in c:\\users\\bryan kheirallah\\appdata\\local\\programs\\python\\python37\\lib\\site-packages (from spacy<3.0.0->texthero) (0.9.1)\n",
      "Requirement already satisfied: catalogue<1.1.0,>=0.0.7 in c:\\users\\bryan kheirallah\\appdata\\local\\programs\\python\\python37\\lib\\site-packages (from spacy<3.0.0->texthero) (1.0.0)\n",
      "Requirement already satisfied: cymem<2.1.0,>=2.0.2 in c:\\users\\bryan kheirallah\\appdata\\local\\programs\\python\\python37\\lib\\site-packages (from spacy<3.0.0->texthero) (2.0.6)\n",
      "Requirement already satisfied: setuptools in c:\\users\\bryan kheirallah\\appdata\\local\\programs\\python\\python37\\lib\\site-packages (from spacy<3.0.0->texthero) (41.2.0)\n",
      "Requirement already satisfied: murmurhash<1.1.0,>=0.28.0 in c:\\users\\bryan kheirallah\\appdata\\local\\programs\\python\\python37\\lib\\site-packages (from spacy<3.0.0->texthero) (1.0.7)\n",
      "Requirement already satisfied: plac<1.2.0,>=0.9.6 in c:\\users\\bryan kheirallah\\appdata\\local\\programs\\python\\python37\\lib\\site-packages (from spacy<3.0.0->texthero) (1.1.3)\n",
      "Requirement already satisfied: thinc<7.5.0,>=7.4.1 in c:\\users\\bryan kheirallah\\appdata\\local\\programs\\python\\python37\\lib\\site-packages (from spacy<3.0.0->texthero) (7.4.5)\n",
      "Requirement already satisfied: requests<3.0.0,>=2.13.0 in c:\\users\\bryan kheirallah\\appdata\\local\\programs\\python\\python37\\lib\\site-packages (from spacy<3.0.0->texthero) (2.27.1)\n",
      "Requirement already satisfied: preshed<3.1.0,>=3.0.2 in c:\\users\\bryan kheirallah\\appdata\\local\\programs\\python\\python37\\lib\\site-packages (from spacy<3.0.0->texthero) (3.0.6)\n",
      "Requirement already satisfied: blis<0.8.0,>=0.4.0 in c:\\users\\bryan kheirallah\\appdata\\local\\programs\\python\\python37\\lib\\site-packages (from spacy<3.0.0->texthero) (0.7.7)\n",
      "Requirement already satisfied: colorama in c:\\users\\bryan kheirallah\\appdata\\local\\programs\\python\\python37\\lib\\site-packages (from tqdm>=4.3->texthero) (0.4.4)\n",
      "Requirement already satisfied: importlib-metadata>=0.20 in c:\\users\\bryan kheirallah\\appdata\\local\\programs\\python\\python37\\lib\\site-packages (from catalogue<1.1.0,>=0.0.7->spacy<3.0.0->texthero) (4.11.3)\n",
      "Requirement already satisfied: typing-extensions in c:\\users\\bryan kheirallah\\appdata\\local\\programs\\python\\python37\\lib\\site-packages (from kiwisolver>=1.0.1->matplotlib>=3.1.0->texthero) (4.2.0)\n",
      "Requirement already satisfied: idna<4,>=2.5 in c:\\users\\bryan kheirallah\\appdata\\local\\programs\\python\\python37\\lib\\site-packages (from requests<3.0.0,>=2.13.0->spacy<3.0.0->texthero) (3.3)\n",
      "Requirement already satisfied: certifi>=2017.4.17 in c:\\users\\bryan kheirallah\\appdata\\local\\programs\\python\\python37\\lib\\site-packages (from requests<3.0.0,>=2.13.0->spacy<3.0.0->texthero) (2021.10.8)\n",
      "Requirement already satisfied: urllib3<1.27,>=1.21.1 in c:\\users\\bryan kheirallah\\appdata\\local\\programs\\python\\python37\\lib\\site-packages (from requests<3.0.0,>=2.13.0->spacy<3.0.0->texthero) (1.26.9)\n",
      "Requirement already satisfied: charset-normalizer~=2.0.0 in c:\\users\\bryan kheirallah\\appdata\\local\\programs\\python\\python37\\lib\\site-packages (from requests<3.0.0,>=2.13.0->spacy<3.0.0->texthero) (2.0.12)\n",
      "Requirement already satisfied: zipp>=0.5 in c:\\users\\bryan kheirallah\\appdata\\local\\programs\\python\\python37\\lib\\site-packages (from importlib-metadata>=0.20->catalogue<1.1.0,>=0.0.7->spacy<3.0.0->texthero) (3.8.0)\n"
     ]
    },
    {
     "name": "stderr",
     "output_type": "stream",
     "text": [
      "WARNING: You are using pip version 22.0.3; however, version 22.0.4 is available.\n",
      "You should consider upgrading via the 'c:\\users\\bryan kheirallah\\appdata\\local\\programs\\python\\python37\\python.exe -m pip install --upgrade pip' command.\n"
     ]
    }
   ],
   "source": [
    "!pip install texthero"
   ]
  },
  {
   "cell_type": "code",
   "execution_count": 4,
   "metadata": {
    "id": "txoSw0JIIp1K"
   },
   "outputs": [],
   "source": [
    "import pandas as pd\n",
    "import matplotlib.pyplot as plt\n",
    "import seaborn as sns\n",
    "import datetime\n",
    "import scipy.stats as stats\n",
    "import texthero as hero\n",
    "from texthero import preprocessing as hp\n",
    "from texthero import stopwords\n",
    "import nltk\n",
    "import numpy as np\n",
    "import regex as re"
   ]
  },
  {
   "cell_type": "code",
   "execution_count": 5,
   "metadata": {
    "id": "fr4rvpwQIp1K"
   },
   "outputs": [],
   "source": [
    "#Plotting an histogram.\n",
    "def plothisto(toPlot, xlabel,ylabel,title,bins = 50):\n",
    "    plt.hist(toPlot, bins = bins)\n",
    "    plt.xlabel(xlabel)\n",
    "    plt.ylabel(ylabel)\n",
    "    plt.title(title)\n",
    "    plt.show()"
   ]
  },
  {
   "cell_type": "code",
   "execution_count": 6,
   "metadata": {
    "colab": {
     "base_uri": "https://localhost:8080/",
     "height": 423
    },
    "id": "HZVLwn8rIp1L",
    "outputId": "d5710e24-c82d-4964-e0d6-f652ff6d8e75",
    "scrolled": true
   },
   "outputs": [
    {
     "data": {
      "text/html": [
       "<div>\n",
       "<style scoped>\n",
       "    .dataframe tbody tr th:only-of-type {\n",
       "        vertical-align: middle;\n",
       "    }\n",
       "\n",
       "    .dataframe tbody tr th {\n",
       "        vertical-align: top;\n",
       "    }\n",
       "\n",
       "    .dataframe thead th {\n",
       "        text-align: right;\n",
       "    }\n",
       "</style>\n",
       "<table border=\"1\" class=\"dataframe\">\n",
       "  <thead>\n",
       "    <tr style=\"text-align: right;\">\n",
       "      <th></th>\n",
       "      <th>PERMNO</th>\n",
       "      <th>date</th>\n",
       "      <th>RET</th>\n",
       "    </tr>\n",
       "  </thead>\n",
       "  <tbody>\n",
       "    <tr>\n",
       "      <th>0</th>\n",
       "      <td>93436</td>\n",
       "      <td>20100629</td>\n",
       "      <td>C</td>\n",
       "    </tr>\n",
       "    <tr>\n",
       "      <th>1</th>\n",
       "      <td>93436</td>\n",
       "      <td>20100630</td>\n",
       "      <td>-0.002511</td>\n",
       "    </tr>\n",
       "    <tr>\n",
       "      <th>2</th>\n",
       "      <td>93436</td>\n",
       "      <td>20100701</td>\n",
       "      <td>-0.078473</td>\n",
       "    </tr>\n",
       "    <tr>\n",
       "      <th>3</th>\n",
       "      <td>93436</td>\n",
       "      <td>20100702</td>\n",
       "      <td>-0.125683</td>\n",
       "    </tr>\n",
       "    <tr>\n",
       "      <th>4</th>\n",
       "      <td>93436</td>\n",
       "      <td>20100706</td>\n",
       "      <td>-0.160938</td>\n",
       "    </tr>\n",
       "    <tr>\n",
       "      <th>...</th>\n",
       "      <td>...</td>\n",
       "      <td>...</td>\n",
       "      <td>...</td>\n",
       "    </tr>\n",
       "    <tr>\n",
       "      <th>2894</th>\n",
       "      <td>93436</td>\n",
       "      <td>20211227</td>\n",
       "      <td>0.025248</td>\n",
       "    </tr>\n",
       "    <tr>\n",
       "      <th>2895</th>\n",
       "      <td>93436</td>\n",
       "      <td>20211228</td>\n",
       "      <td>-0.005000</td>\n",
       "    </tr>\n",
       "    <tr>\n",
       "      <th>2896</th>\n",
       "      <td>93436</td>\n",
       "      <td>20211229</td>\n",
       "      <td>-0.002095</td>\n",
       "    </tr>\n",
       "    <tr>\n",
       "      <th>2897</th>\n",
       "      <td>93436</td>\n",
       "      <td>20211230</td>\n",
       "      <td>-0.014592</td>\n",
       "    </tr>\n",
       "    <tr>\n",
       "      <th>2898</th>\n",
       "      <td>93436</td>\n",
       "      <td>20211231</td>\n",
       "      <td>-0.012669</td>\n",
       "    </tr>\n",
       "  </tbody>\n",
       "</table>\n",
       "<p>2899 rows × 3 columns</p>\n",
       "</div>"
      ],
      "text/plain": [
       "      PERMNO      date        RET\n",
       "0      93436  20100629          C\n",
       "1      93436  20100630  -0.002511\n",
       "2      93436  20100701  -0.078473\n",
       "3      93436  20100702  -0.125683\n",
       "4      93436  20100706  -0.160938\n",
       "...      ...       ...        ...\n",
       "2894   93436  20211227   0.025248\n",
       "2895   93436  20211228  -0.005000\n",
       "2896   93436  20211229  -0.002095\n",
       "2897   93436  20211230  -0.014592\n",
       "2898   93436  20211231  -0.012669\n",
       "\n",
       "[2899 rows x 3 columns]"
      ]
     },
     "metadata": {},
     "output_type": "display_data"
    }
   ],
   "source": [
    "tsla = pd.read_csv(\"TSLA.csv\")\n",
    "display(tsla)"
   ]
  },
  {
   "cell_type": "code",
   "execution_count": 7,
   "metadata": {
    "colab": {
     "base_uri": "https://localhost:8080/",
     "height": 362
    },
    "id": "sJv56skZIp1L",
    "outputId": "5869ea0c-632a-4d78-b0f5-8b12297a19a6"
   },
   "outputs": [
    {
     "name": "stderr",
     "output_type": "stream",
     "text": [
      "c:\\users\\bryan kheirallah\\appdata\\local\\programs\\python\\python37\\lib\\site-packages\\seaborn\\distributions.py:2619: FutureWarning: `distplot` is a deprecated function and will be removed in a future version. Please adapt your code to use either `displot` (a figure-level function with similar flexibility) or `histplot` (an axes-level function for histograms).\n",
      "  warnings.warn(msg, FutureWarning)\n"
     ]
    },
    {
     "data": {
      "image/png": "[encoded data removed]",
      "text/plain": [
       "<Figure size 432x288 with 1 Axes>"
      ]
     },
     "metadata": {
      "needs_background": "light"
     },
     "output_type": "display_data"
    }
   ],
   "source": [
    "sns.distplot(tsla['RET'].drop(0),bins=100,color='purple')\n",
    "plt.suptitle('Daily % return of Alphabet Inc. stock price,\\n01-04-2020 to 30-09-2020', fontsize=12, color='black')\n",
    "plt.grid(True)\n",
    "plt.show()"
   ]
  },
  {
   "cell_type": "markdown",
   "metadata": {
    "id": "yPtAirubIp1L"
   },
   "source": [
    "## Since this are returns of a stock we expect the distribution to be heavy tailed\n",
    "We dont have enough datapoints to show that the distribution is heavy tailes, still we can see that the mass of the distribution seems to be more concentrated in the middle and in the tail and less on the middle part!"
   ]
  },
  {
   "cell_type": "code",
   "execution_count": 8,
   "metadata": {
    "colab": {
     "base_uri": "https://localhost:8080/",
     "height": 265
    },
    "id": "QOy3jYwBIp1N",
    "outputId": "2451bd7b-64ff-4419-ee27-a8762df7b486"
   },
   "outputs": [
    {
     "data": {
      "image/png": "[encoded data removed]",
      "text/plain": [
       "<Figure size 432x288 with 1 Axes>"
      ]
     },
     "metadata": {
      "needs_background": "light"
     },
     "output_type": "display_data"
    }
   ],
   "source": [
    "values = tsla['RET'].drop(0).values.astype(float)\n",
    "plt.hist(values, bins=100, density = True, log = False, label = 'Distribution of TSLA returns')\n",
    "mu = values.mean()\n",
    "sigma = values.std()\n",
    "x = np.linspace(mu - 3*sigma, mu + 3*sigma, 100)\n",
    "plt.plot(x, stats.norm.pdf(x, mu, sigma), label = 'Normal distribution')\n",
    "plt.legend()\n",
    "plt.show()"
   ]
  },
  {
   "cell_type": "markdown",
   "metadata": {
    "id": "H0APhgyyb3xa"
   },
   "source": [
    "Let's look at the most extreeme values to check if there are some outliers that are unreasonable. We can observe below that most extreeme values are have magnitude less than 0.25. Everything looks good as expected (data source is wrds)."
   ]
  },
  {
   "cell_type": "code",
   "execution_count": 9,
   "metadata": {
    "colab": {
     "base_uri": "https://localhost:8080/"
    },
    "id": "tu6VLreAb1sr",
    "outputId": "0bfd9d1b-25db-49f0-dc31-ad3db3632e19",
    "scrolled": true
   },
   "outputs": [
    {
     "name": "stdout",
     "output_type": "stream",
     "text": [
      "smallest rets [-0.210628 -0.193274 -0.185778 -0.171758 -0.160938 -0.160344 -0.150914\n",
      " -0.145071 -0.143093 -0.139015]\n",
      "biggest rets [0.165338 0.167179 0.170392 0.173471 0.176692 0.183877 0.192042 0.196412\n",
      " 0.198949 0.244029]\n"
     ]
    }
   ],
   "source": [
    "sortedVals = np.sort(tsla['RET'].drop(0).astype(float).values)\n",
    "print('smallest rets',sortedVals[:10])\n",
    "print('biggest rets',sortedVals[-10:])"
   ]
  },
  {
   "cell_type": "code",
   "execution_count": 10,
   "metadata": {
    "colab": {
     "base_uri": "https://localhost:8080/",
     "height": 661
    },
    "id": "KaJGreNUIp1O",
    "outputId": "85742aee-ec2f-41f9-f1f8-753e3a8d2d56"
   },
   "outputs": [
    {
     "data": {
      "text/html": [
       "<div>\n",
       "<style scoped>\n",
       "    .dataframe tbody tr th:only-of-type {\n",
       "        vertical-align: middle;\n",
       "    }\n",
       "\n",
       "    .dataframe tbody tr th {\n",
       "        vertical-align: top;\n",
       "    }\n",
       "\n",
       "    .dataframe thead th {\n",
       "        text-align: right;\n",
       "    }\n",
       "</style>\n",
       "<table border=\"1\" class=\"dataframe\">\n",
       "  <thead>\n",
       "    <tr style=\"text-align: right;\">\n",
       "      <th></th>\n",
       "      <th>Tweet</th>\n",
       "      <th>UserScreenName</th>\n",
       "      <th>UserName</th>\n",
       "      <th>Timestamp</th>\n",
       "      <th>text</th>\n",
       "      <th>Emojis</th>\n",
       "      <th>Comments</th>\n",
       "      <th>Likes</th>\n",
       "      <th>Retweets</th>\n",
       "      <th>Image link</th>\n",
       "      <th>Tweet URL</th>\n",
       "    </tr>\n",
       "  </thead>\n",
       "  <tbody>\n",
       "    <tr>\n",
       "      <th>0</th>\n",
       "      <td>0</td>\n",
       "      <td>Elon Musk</td>\n",
       "      <td>@elonmusk</td>\n",
       "      <td>2010-06-04T18:31:57.000Z</td>\n",
       "      <td>Please ignore prior tweets, as that was someon...</td>\n",
       "      <td>NaN</td>\n",
       "      <td>873</td>\n",
       "      <td>648</td>\n",
       "      <td>5,453</td>\n",
       "      <td>[]</td>\n",
       "      <td>https://twitter.com/elonmusk/status/15434727182</td>\n",
       "    </tr>\n",
       "    <tr>\n",
       "      <th>1</th>\n",
       "      <td>1</td>\n",
       "      <td>Elon Musk</td>\n",
       "      <td>@elonmusk</td>\n",
       "      <td>2011-12-01T09:55:11.000Z</td>\n",
       "      <td>Went to Iceland on Sat to ride bumper cars on ...</td>\n",
       "      <td>NaN</td>\n",
       "      <td>30</td>\n",
       "      <td>24</td>\n",
       "      <td>188</td>\n",
       "      <td>['https://pbs.twimg.com/media/Afkf5DMCAAEJGFr?...</td>\n",
       "      <td>https://twitter.com/elonmusk/status/1421799282...</td>\n",
       "    </tr>\n",
       "    <tr>\n",
       "      <th>2</th>\n",
       "      <td>2</td>\n",
       "      <td>Elon Musk</td>\n",
       "      <td>@elonmusk</td>\n",
       "      <td>2011-12-01T10:29:04.000Z</td>\n",
       "      <td>I made the volume on the Model S http://ow.ly/...</td>\n",
       "      <td>NaN</td>\n",
       "      <td>29</td>\n",
       "      <td>17</td>\n",
       "      <td>78</td>\n",
       "      <td>[]</td>\n",
       "      <td>https://twitter.com/elonmusk/status/1421884581...</td>\n",
       "    </tr>\n",
       "    <tr>\n",
       "      <th>3</th>\n",
       "      <td>3</td>\n",
       "      <td>Elon Musk</td>\n",
       "      <td>@elonmusk</td>\n",
       "      <td>2011-12-03T08:20:28.000Z</td>\n",
       "      <td>Great Voltaire quote, arguably better than Twa...</td>\n",
       "      <td>NaN</td>\n",
       "      <td>23</td>\n",
       "      <td>30</td>\n",
       "      <td>44</td>\n",
       "      <td>[]</td>\n",
       "      <td>https://twitter.com/elonmusk/status/1428808713...</td>\n",
       "    </tr>\n",
       "    <tr>\n",
       "      <th>4</th>\n",
       "      <td>4</td>\n",
       "      <td>Elon Musk</td>\n",
       "      <td>@elonmusk</td>\n",
       "      <td>2011-12-03T08:22:07.000Z</td>\n",
       "      <td>That was a total non sequitur btw\\n26\\n14\\n50</td>\n",
       "      <td>NaN</td>\n",
       "      <td>26</td>\n",
       "      <td>14</td>\n",
       "      <td>50</td>\n",
       "      <td>[]</td>\n",
       "      <td>https://twitter.com/elonmusk/status/1428812840...</td>\n",
       "    </tr>\n",
       "    <tr>\n",
       "      <th>...</th>\n",
       "      <td>...</td>\n",
       "      <td>...</td>\n",
       "      <td>...</td>\n",
       "      <td>...</td>\n",
       "      <td>...</td>\n",
       "      <td>...</td>\n",
       "      <td>...</td>\n",
       "      <td>...</td>\n",
       "      <td>...</td>\n",
       "      <td>...</td>\n",
       "      <td>...</td>\n",
       "    </tr>\n",
       "    <tr>\n",
       "      <th>12201</th>\n",
       "      <td>12201</td>\n",
       "      <td>Elon Musk</td>\n",
       "      <td>@elonmusk</td>\n",
       "      <td>2022-03-03T04:25:03.000Z</td>\n",
       "      <td>Replying to \\n@TheBabylonBee\\n515\\n464\\n14.5K</td>\n",
       "      <td>🤣</td>\n",
       "      <td>515</td>\n",
       "      <td>464</td>\n",
       "      <td>14.5K</td>\n",
       "      <td>[]</td>\n",
       "      <td>https://twitter.com/elonmusk/status/1499239406...</td>\n",
       "    </tr>\n",
       "    <tr>\n",
       "      <th>12202</th>\n",
       "      <td>12202</td>\n",
       "      <td>Elon Musk</td>\n",
       "      <td>@elonmusk</td>\n",
       "      <td>2022-03-03T08:13:32.000Z</td>\n",
       "      <td>Replying to \\n@OwenSparks_\\n @ICannot_Enough\\n...</td>\n",
       "      <td>NaN</td>\n",
       "      <td>286</td>\n",
       "      <td>204</td>\n",
       "      <td>4,003</td>\n",
       "      <td>[]</td>\n",
       "      <td>https://twitter.com/elonmusk/status/1499296906...</td>\n",
       "    </tr>\n",
       "    <tr>\n",
       "      <th>12203</th>\n",
       "      <td>12203</td>\n",
       "      <td>Elon Musk</td>\n",
       "      <td>@elonmusk</td>\n",
       "      <td>2022-03-02T03:15:03.000Z</td>\n",
       "      <td>Replying to \\n@DBurkland\\nInvestigating\\n350\\n...</td>\n",
       "      <td>NaN</td>\n",
       "      <td>350</td>\n",
       "      <td>165</td>\n",
       "      <td>5,133</td>\n",
       "      <td>[]</td>\n",
       "      <td>https://twitter.com/elonmusk/status/1498859400...</td>\n",
       "    </tr>\n",
       "    <tr>\n",
       "      <th>12204</th>\n",
       "      <td>12204</td>\n",
       "      <td>Elon Musk</td>\n",
       "      <td>@elonmusk</td>\n",
       "      <td>2022-03-04T21:40:29.000Z</td>\n",
       "      <td>Replying to \\n@RenataKonkoly\\n @MLUKBrandenbur...</td>\n",
       "      <td>NaN</td>\n",
       "      <td>233</td>\n",
       "      <td>185</td>\n",
       "      <td>4,191</td>\n",
       "      <td>[]</td>\n",
       "      <td>https://twitter.com/elonmusk/status/1499862369...</td>\n",
       "    </tr>\n",
       "    <tr>\n",
       "      <th>12205</th>\n",
       "      <td>12205</td>\n",
       "      <td>Elon Musk</td>\n",
       "      <td>@elonmusk</td>\n",
       "      <td>2022-03-04T19:17:16.000Z</td>\n",
       "      <td>Replying to \\n@MLUKBrandenburg\\n @gigafactory_...</td>\n",
       "      <td>NaN</td>\n",
       "      <td>620</td>\n",
       "      <td>822</td>\n",
       "      <td>11K</td>\n",
       "      <td>[]</td>\n",
       "      <td>https://twitter.com/elonmusk/status/1499826328...</td>\n",
       "    </tr>\n",
       "  </tbody>\n",
       "</table>\n",
       "<p>12206 rows × 11 columns</p>\n",
       "</div>"
      ],
      "text/plain": [
       "       Tweet UserScreenName   UserName                 Timestamp  \\\n",
       "0          0      Elon Musk  @elonmusk  2010-06-04T18:31:57.000Z   \n",
       "1          1      Elon Musk  @elonmusk  2011-12-01T09:55:11.000Z   \n",
       "2          2      Elon Musk  @elonmusk  2011-12-01T10:29:04.000Z   \n",
       "3          3      Elon Musk  @elonmusk  2011-12-03T08:20:28.000Z   \n",
       "4          4      Elon Musk  @elonmusk  2011-12-03T08:22:07.000Z   \n",
       "...      ...            ...        ...                       ...   \n",
       "12201  12201      Elon Musk  @elonmusk  2022-03-03T04:25:03.000Z   \n",
       "12202  12202      Elon Musk  @elonmusk  2022-03-03T08:13:32.000Z   \n",
       "12203  12203      Elon Musk  @elonmusk  2022-03-02T03:15:03.000Z   \n",
       "12204  12204      Elon Musk  @elonmusk  2022-03-04T21:40:29.000Z   \n",
       "12205  12205      Elon Musk  @elonmusk  2022-03-04T19:17:16.000Z   \n",
       "\n",
       "                                                    text Emojis Comments  \\\n",
       "0      Please ignore prior tweets, as that was someon...    NaN      873   \n",
       "1      Went to Iceland on Sat to ride bumper cars on ...    NaN       30   \n",
       "2      I made the volume on the Model S http://ow.ly/...    NaN       29   \n",
       "3      Great Voltaire quote, arguably better than Twa...    NaN       23   \n",
       "4          That was a total non sequitur btw\\n26\\n14\\n50    NaN       26   \n",
       "...                                                  ...    ...      ...   \n",
       "12201      Replying to \\n@TheBabylonBee\\n515\\n464\\n14.5K      🤣      515   \n",
       "12202  Replying to \\n@OwenSparks_\\n @ICannot_Enough\\n...    NaN      286   \n",
       "12203  Replying to \\n@DBurkland\\nInvestigating\\n350\\n...    NaN      350   \n",
       "12204  Replying to \\n@RenataKonkoly\\n @MLUKBrandenbur...    NaN      233   \n",
       "12205  Replying to \\n@MLUKBrandenburg\\n @gigafactory_...    NaN      620   \n",
       "\n",
       "      Likes Retweets                                         Image link  \\\n",
       "0       648    5,453                                                 []   \n",
       "1        24      188  ['https://pbs.twimg.com/media/Afkf5DMCAAEJGFr?...   \n",
       "2        17       78                                                 []   \n",
       "3        30       44                                                 []   \n",
       "4        14       50                                                 []   \n",
       "...     ...      ...                                                ...   \n",
       "12201   464    14.5K                                                 []   \n",
       "12202   204    4,003                                                 []   \n",
       "12203   165    5,133                                                 []   \n",
       "12204   185    4,191                                                 []   \n",
       "12205   822      11K                                                 []   \n",
       "\n",
       "                                               Tweet URL  \n",
       "0        https://twitter.com/elonmusk/status/15434727182  \n",
       "1      https://twitter.com/elonmusk/status/1421799282...  \n",
       "2      https://twitter.com/elonmusk/status/1421884581...  \n",
       "3      https://twitter.com/elonmusk/status/1428808713...  \n",
       "4      https://twitter.com/elonmusk/status/1428812840...  \n",
       "...                                                  ...  \n",
       "12201  https://twitter.com/elonmusk/status/1499239406...  \n",
       "12202  https://twitter.com/elonmusk/status/1499296906...  \n",
       "12203  https://twitter.com/elonmusk/status/1498859400...  \n",
       "12204  https://twitter.com/elonmusk/status/1499862369...  \n",
       "12205  https://twitter.com/elonmusk/status/1499826328...  \n",
       "\n",
       "[12206 rows x 11 columns]"
      ]
     },
     "execution_count": 10,
     "metadata": {},
     "output_type": "execute_result"
    }
   ],
   "source": [
    "df = pd.read_csv(\"elonmusk.csv\")\n",
    "df"
   ]
  },
  {
   "cell_type": "code",
   "execution_count": 11,
   "metadata": {
    "id": "U6lBRMt7K_I9"
   },
   "outputs": [],
   "source": [
    "df['text']= df['text'].astype(str)"
   ]
  },
  {
   "cell_type": "markdown",
   "metadata": {
    "id": "cnywy300d-Sg"
   },
   "source": [
    "Let's look at some of our tweets:\n",
    "after looking at some tweets here is one that explain all our unexpected foundings."
   ]
  },
  {
   "cell_type": "code",
   "execution_count": 12,
   "metadata": {
    "colab": {
     "base_uri": "https://localhost:8080/"
    },
    "id": "2m9a-xbXOUH4",
    "outputId": "fc9556c9-1414-4844-e04b-00d0a4a59e67",
    "scrolled": true
   },
   "outputs": [
    {
     "name": "stdout",
     "output_type": "stream",
     "text": [
      "Replying to \n",
      "@TheMilns\n",
      "@TheMilns\n",
      " Try this: http://m.youtube.com/#/watch?feature=youtu.be&v=se7_JpbtPwA&desktop_uri=%2Fwatch%3Fv%3Dse7_JpbtPwA%26feature%3Dyoutu.be…\n",
      "2\n",
      "4\n",
      "3\n",
      "----------------------------------------------\n",
      "Replying to \n",
      "@OwenSparks_\n",
      " @ICannot_Enough\n",
      " and 2 others\n",
      "Yes\n",
      "286\n",
      "204\n",
      "4,003\n"
     ]
    }
   ],
   "source": [
    "for text in list(df['text'][df['text'].apply(lambda x: x[:13] == ('Replying to ' + '\\n'))].iloc[88:89]):\n",
    "  print(text)\n",
    "  print(\"----------------------------------------------\")\n",
    "print(df['text'].iloc[12202])"
   ]
  },
  {
   "cell_type": "code",
   "execution_count": 13,
   "metadata": {
    "id": "eczv9gAzUdUx"
   },
   "outputs": [],
   "source": [
    "for i in range(100,1000):\n",
    "  for text in list(df['text'][df['text'].apply(lambda x: 'and '+str(i) +'others' in x)].values[0:100]):\n",
    "    print(text)\n",
    "    print(\"----------------------------------------------\")"
   ]
  },
  {
   "cell_type": "markdown",
   "metadata": {
    "id": "WQJLhE0qOyBo"
   },
   "source": [
    "By looking into some tweets we can see that:\n",
    "* We have the last 3 numbers that are the number of comments/likes/retweets that we need to remove!\n",
    "* Some tweets starts with \n",
    "\n",
    "      Replying to \n",
    "\n",
    "      @FareedZakaria\n",
    "\n",
    "      @FareedZakaria\n",
    "\n",
    "      (Could be followed by) 'and number others'\n",
    "We need to remove it.\n",
    "* There are many websites url that are not really informative and we could think about removing them\n",
    "* From last cell above we can see that the maximum number contained in a 'and number others' inside a tweet is 100. (We will assume that in the following implementation)\n"
   ]
  },
  {
   "cell_type": "code",
   "execution_count": 14,
   "metadata": {
    "id": "wqtrkdCRKJoi"
   },
   "outputs": [],
   "source": [
    "def reformat(text):\n",
    "  \"\"\"for every line in the tweets remove white spaces\n",
    "  that are at the beginning or at the end of the line\"\"\"\n",
    "  return \"\\n\".join([line.strip() for line in text.split('\\n')])\n",
    "  \n",
    "def removeReplyingTo(text):\n",
    "  \"\"\"Remove all expression 'Replying to' followed by a list\n",
    "  of '@user' (and sometimes) and n others\"\"\"\n",
    "  # if the sentence contains an expression\n",
    "  # of type 'Replying to' followed by a list\n",
    "  # of '@user' we remove them\n",
    "  if text[:12] == ('Replying to' + '\\n'):\n",
    "    text = text[12:]\n",
    "    while (text != '' and text[0] == '@'):\n",
    "      try : \n",
    "        idx = text.index('\\n') \n",
    "        idx += 1\n",
    "      except:\n",
    "        break\n",
    "      if(len(text[:idx].split(\" \")) == 1):\n",
    "        text = text[idx:]\n",
    "      else: break\n",
    "  # if the sentence contains an expression\n",
    "  # of type 'and number others' we remove it\n",
    "  if text[0:4] == 'and ':\n",
    "    if text[6:12] == 'others':\n",
    "      text = text[13:]\n",
    "    elif text[7:13] == 'others':\n",
    "      text = text[14:]\n",
    "  return text\n",
    "\n",
    "def removeEndNumbers(text):\n",
    "  \"\"\"Removes last three lines from a tweet, this lines are containing number of \\\n",
    "   comments/likes/retweets\"\"\"\n",
    "  return \"\\n\".join(text.split('\\n')[0:-3])\n",
    "\n",
    "def removeUrls(text):\n",
    "  \"\"\"Remove URLS\"\"\"\n",
    "  text = re.sub(r\"http\\S+\", \"\", text)\n",
    "  text = re.sub(r\"https\\S+\", \"\", text)\n",
    "  return text\n",
    "\n",
    "def clean_prepro(df):\n",
    "  df = df.apply(lambda text: reformat(text))\n",
    "  df_clean = df.apply(lambda text: removeEndNumbers(text))\n",
    "  print(\"I'm done part 1\")\n",
    "  df_clean = df_clean.apply(lambda text: removeUrls(text))\n",
    "  print(\"I'm done part 2\")\n",
    "  df_clean = df_clean.apply(lambda text: removeReplyingTo(text))\n",
    "  print(\"I'm done part 3\")\n",
    "  return df_clean"
   ]
  },
  {
   "cell_type": "code",
   "execution_count": 15,
   "metadata": {
    "colab": {
     "base_uri": "https://localhost:8080/",
     "height": 418
    },
    "id": "LniZLA-DXsJW",
    "outputId": "220c00ce-0227-4f52-9f50-b558b2ed0bf1"
   },
   "outputs": [
    {
     "name": "stdout",
     "output_type": "stream",
     "text": [
      "--------------------FIRST TEST--------------------------------\n",
      "Replying to \n",
      "@OwenSparks_\n",
      " @ICannot_Enough\n",
      " and 2 others\n",
      "Yes\n",
      "286\n",
      "204\n",
      "4,003\n",
      "Replying to \n",
      "@OwenSparks_\n",
      " @ICannot_Enough\n",
      " and 2 others\n",
      "Yes\n",
      "--------------------SECOND TEST--------------------------------\n",
      "Replying to \n",
      "@TheMilns\n",
      "@TheMilns\n",
      " Try this: http://m.youtube.com/#/watch?feature=youtu.be&v=se7_JpbtPwA&desktop_uri=%2Fwatch%3Fv%3Dse7_JpbtPwA%26feature%3Dyoutu.be…\n",
      "2\n",
      "4\n",
      "3\n"
     ]
    },
    {
     "data": {
      "text/plain": [
       "'Replying to \\n@TheMilns\\n@TheMilns\\n Try this: '"
      ]
     },
     "execution_count": 15,
     "metadata": {},
     "output_type": "execute_result"
    }
   ],
   "source": [
    "# testing\n",
    "print(\"--------------------FIRST TEST--------------------------------\")\n",
    "text = df['text'].iloc[12202]\n",
    "print(text)\n",
    "print(removeReplyingTo(removeEndNumbers(text)))\n",
    "print(\"--------------------SECOND TEST--------------------------------\")\n",
    "text = df['text'].iloc[457]\t\n",
    "print(text)\n",
    "removeReplyingTo(removeUrls(removeEndNumbers(text)))"
   ]
  },
  {
   "cell_type": "code",
   "execution_count": 16,
   "metadata": {
    "id": "4x-AcR4DXxEK"
   },
   "outputs": [],
   "source": [
    "df['length'] = df['text'].apply(lambda text: len(text.split()))\n"
   ]
  },
  {
   "cell_type": "code",
   "execution_count": 17,
   "metadata": {
    "id": "p0a2snLjIp1P"
   },
   "outputs": [],
   "source": [
    "df['day'] = pd.to_datetime(df['Timestamp'].apply(lambda date : date[0:10]))"
   ]
  },
  {
   "cell_type": "markdown",
   "metadata": {
    "id": "6Hdyoc52PY1F"
   },
   "source": [
    "We can see that often tweets are starting with Replying to @USER, this part of the tweet is not informative for us, and will probably be removed from the dataset."
   ]
  },
  {
   "cell_type": "markdown",
   "metadata": {
    "id": "_JNKw-gBIp1P"
   },
   "source": [
    "## 2. Let's explore the distribution of lenght of tweets."
   ]
  },
  {
   "cell_type": "code",
   "execution_count": 18,
   "metadata": {
    "colab": {
     "base_uri": "https://localhost:8080/",
     "height": 295
    },
    "id": "Kq15PoFxIp1P",
    "outputId": "714f6d8c-eb4f-4a0d-c91f-4ac5d4110836"
   },
   "outputs": [
    {
     "data": {
      "image/png": "[encoded data removed]",
      "text/plain": [
       "<Figure size 432x288 with 1 Axes>"
      ]
     },
     "metadata": {
      "needs_background": "light"
     },
     "output_type": "display_data"
    }
   ],
   "source": [
    "#Plotting an histogram of the length of the quotations in words.   \n",
    "plothisto(df['length'], 'length','number of occurences','distribution of number of words in the quotes',50)"
   ]
  },
  {
   "cell_type": "markdown",
   "metadata": {
    "id": "6SAufSYiIp1Q"
   },
   "source": [
    "## 2. Let's explore the tweets mean lenght over time."
   ]
  },
  {
   "cell_type": "code",
   "execution_count": 19,
   "metadata": {
    "colab": {
     "base_uri": "https://localhost:8080/",
     "height": 423
    },
    "id": "vCzTM-yyIp1Q",
    "outputId": "d296a4c9-5b57-4c0e-f2c7-4945edb04ba3"
   },
   "outputs": [
    {
     "data": {
      "text/html": [
       "<div>\n",
       "<style scoped>\n",
       "    .dataframe tbody tr th:only-of-type {\n",
       "        vertical-align: middle;\n",
       "    }\n",
       "\n",
       "    .dataframe tbody tr th {\n",
       "        vertical-align: top;\n",
       "    }\n",
       "\n",
       "    .dataframe thead th {\n",
       "        text-align: right;\n",
       "    }\n",
       "</style>\n",
       "<table border=\"1\" class=\"dataframe\">\n",
       "  <thead>\n",
       "    <tr style=\"text-align: right;\">\n",
       "      <th></th>\n",
       "      <th>day</th>\n",
       "      <th>length</th>\n",
       "    </tr>\n",
       "  </thead>\n",
       "  <tbody>\n",
       "    <tr>\n",
       "      <th>0</th>\n",
       "      <td>2010-06-04</td>\n",
       "      <td>20.000000</td>\n",
       "    </tr>\n",
       "    <tr>\n",
       "      <th>1</th>\n",
       "      <td>2011-12-01</td>\n",
       "      <td>26.000000</td>\n",
       "    </tr>\n",
       "    <tr>\n",
       "      <th>2</th>\n",
       "      <td>2011-12-03</td>\n",
       "      <td>17.000000</td>\n",
       "    </tr>\n",
       "    <tr>\n",
       "      <th>3</th>\n",
       "      <td>2011-12-04</td>\n",
       "      <td>15.000000</td>\n",
       "    </tr>\n",
       "    <tr>\n",
       "      <th>4</th>\n",
       "      <td>2011-12-21</td>\n",
       "      <td>27.142857</td>\n",
       "    </tr>\n",
       "    <tr>\n",
       "      <th>...</th>\n",
       "      <td>...</td>\n",
       "      <td>...</td>\n",
       "    </tr>\n",
       "    <tr>\n",
       "      <th>2224</th>\n",
       "      <td>2022-02-26</td>\n",
       "      <td>11.333333</td>\n",
       "    </tr>\n",
       "    <tr>\n",
       "      <th>2225</th>\n",
       "      <td>2022-03-01</td>\n",
       "      <td>26.000000</td>\n",
       "    </tr>\n",
       "    <tr>\n",
       "      <th>2226</th>\n",
       "      <td>2022-03-02</td>\n",
       "      <td>29.428571</td>\n",
       "    </tr>\n",
       "    <tr>\n",
       "      <th>2227</th>\n",
       "      <td>2022-03-03</td>\n",
       "      <td>28.285714</td>\n",
       "    </tr>\n",
       "    <tr>\n",
       "      <th>2228</th>\n",
       "      <td>2022-03-04</td>\n",
       "      <td>15.000000</td>\n",
       "    </tr>\n",
       "  </tbody>\n",
       "</table>\n",
       "<p>2229 rows × 2 columns</p>\n",
       "</div>"
      ],
      "text/plain": [
       "            day     length\n",
       "0    2010-06-04  20.000000\n",
       "1    2011-12-01  26.000000\n",
       "2    2011-12-03  17.000000\n",
       "3    2011-12-04  15.000000\n",
       "4    2011-12-21  27.142857\n",
       "...         ...        ...\n",
       "2224 2022-02-26  11.333333\n",
       "2225 2022-03-01  26.000000\n",
       "2226 2022-03-02  29.428571\n",
       "2227 2022-03-03  28.285714\n",
       "2228 2022-03-04  15.000000\n",
       "\n",
       "[2229 rows x 2 columns]"
      ]
     },
     "metadata": {},
     "output_type": "display_data"
    }
   ],
   "source": [
    "dailylen = df[['length','day']].groupby(by = 'day').mean().reset_index()\n",
    "display(dailylen)"
   ]
  },
  {
   "cell_type": "code",
   "execution_count": 20,
   "metadata": {
    "colab": {
     "base_uri": "https://localhost:8080/",
     "height": 265
    },
    "id": "2pUCg8-HIp1Q",
    "outputId": "34ef96b9-8931-4f3c-f297-26b779614970"
   },
   "outputs": [
    {
     "data": {
      "image/png": "[encoded data removed]",
      "text/plain": [
       "<Figure size 432x288 with 1 Axes>"
      ]
     },
     "metadata": {
      "needs_background": "light"
     },
     "output_type": "display_data"
    }
   ],
   "source": [
    "plt.scatter(dailylen['day'], dailylen['length']);"
   ]
  },
  {
   "cell_type": "code",
   "execution_count": 21,
   "metadata": {
    "colab": {
     "base_uri": "https://localhost:8080/",
     "height": 226
    },
    "id": "Xckqh90TIp1Q",
    "outputId": "3e957110-1d18-4845-a0fd-65393ad946e1"
   },
   "outputs": [
    {
     "data": {
      "text/plain": [
       "0        733927\n",
       "1        734472\n",
       "2        734472\n",
       "3        734474\n",
       "4        734474\n",
       "          ...  \n",
       "12201    738217\n",
       "12202    738217\n",
       "12203    738216\n",
       "12204    738218\n",
       "12205    738218\n",
       "Name: date_ordinal, Length: 12206, dtype: int64"
      ]
     },
     "metadata": {},
     "output_type": "display_data"
    }
   ],
   "source": [
    "df['date_ordinal'] = pd.to_datetime(df['Timestamp']).apply(lambda date: date.toordinal())\n",
    "display(df['date_ordinal'])"
   ]
  },
  {
   "cell_type": "code",
   "execution_count": 22,
   "metadata": {
    "colab": {
     "base_uri": "https://localhost:8080/",
     "height": 280
    },
    "id": "ERx-SPZ4Ip1R",
    "outputId": "554f4030-fa08-42f2-ae64-d2440a81b708"
   },
   "outputs": [
    {
     "data": {
      "image/png": "[encoded data removed]",
      "text/plain": [
       "<Figure size 432x288 with 1 Axes>"
      ]
     },
     "metadata": {
      "needs_background": "light"
     },
     "output_type": "display_data"
    }
   ],
   "source": [
    "sns.regplot(x='date_ordinal', y='length', data=df,marker=\"None\");"
   ]
  },
  {
   "cell_type": "markdown",
   "metadata": {
    "id": "FQkjF6g_Ip1R"
   },
   "source": [
    "The lenght of the tweets of Elon Musk is decreasing over time!"
   ]
  },
  {
   "cell_type": "markdown",
   "metadata": {
    "id": "sjb5jn06Ip1R"
   },
   "source": [
    "## 2. Let's analyize the distribution of number of tweets over time."
   ]
  },
  {
   "cell_type": "code",
   "execution_count": 23,
   "metadata": {
    "colab": {
     "base_uri": "https://localhost:8080/",
     "height": 295
    },
    "id": "wlWCcGcUIp1S",
    "outputId": "251a47c2-4c30-401b-9b62-c91bcb8ff398"
   },
   "outputs": [
    {
     "data": {
      "image/png": "[encoded data removed]",
      "text/plain": [
       "<Figure size 432x288 with 1 Axes>"
      ]
     },
     "metadata": {
      "needs_background": "light"
     },
     "output_type": "display_data"
    }
   ],
   "source": [
    "formatted_df = df.copy()\n",
    "#change time format\n",
    "formatted_df[\"date\"] = pd.to_datetime(formatted_df['Timestamp'], format='%Y-%m-%d %H:%M:%S')\n",
    "\n",
    "#plot the data\n",
    "bins = 100\n",
    "hist = plt.hist(formatted_df[\"date\"].dt.date,bins)\n",
    "plt.xlabel(\"Date\")\n",
    "plt.ylabel(\"Number of quotes\")\n",
    "plt.title(\"Number of quotes per date\")\n",
    "plt.show()"
   ]
  },
  {
   "cell_type": "markdown",
   "metadata": {
    "id": "jTnYZKuhIp1S"
   },
   "source": [
    "We can observe that the number of Elon Musk's tweets has increased over time"
   ]
  },
  {
   "cell_type": "markdown",
   "metadata": {
    "id": "1KtI1GKNkNjy"
   },
   "source": [
    "## How many tweets are tweets and how many are replies?\n",
    "Let's check how many tweets are reply to others, and how many are posts on the account."
   ]
  },
  {
   "cell_type": "code",
   "execution_count": 25,
   "metadata": {
    "colab": {
     "base_uri": "https://localhost:8080/"
    },
    "id": "HXNmaUeakOEy",
    "outputId": "33f8ce5e-1e9e-4184-eb08-eaed2eb0d07a"
   },
   "outputs": [
    {
     "name": "stdout",
     "output_type": "stream",
     "text": [
      "The total number of tweets is:  12206\n",
      "The total number of replies is:  8844\n",
      "The total number of main posts is:  3362\n"
     ]
    }
   ],
   "source": [
    "reformattedtext = df['text'].apply(lambda text: reformat(text))\n",
    "print('The total number of tweets is: ',reformattedtext.size)\n",
    "replies = reformattedtext[reformattedtext.apply(lambda x: x[:12] == ('Replying to' + '\\n'))]\n",
    "print('The total number of replies is: ',replies.size)\n",
    "print('The total number of main posts is: ',reformattedtext.size-replies.size)                                                     "
   ]
  },
  {
   "cell_type": "markdown",
   "metadata": {
    "id": "KS2knkQxkOxe"
   },
   "source": [
    "We can see that Elon Musk main activity on the platform is post answering."
   ]
  },
  {
   "cell_type": "markdown",
   "metadata": {
    "id": "aSPJ05NTmBNu"
   },
   "source": [
    "## At what time does Elon Musk uses twitter?\n",
    "Let's see at what time Elon Musk uses twitter."
   ]
  },
  {
   "cell_type": "code",
   "execution_count": 26,
   "metadata": {
    "colab": {
     "base_uri": "https://localhost:8080/",
     "height": 282
    },
    "id": "LKpy5vv9kPNr",
    "outputId": "c3611490-ccff-4696-c78a-dd03256335bc"
   },
   "outputs": [
    {
     "data": {
      "text/plain": [
       "[]"
      ]
     },
     "execution_count": 26,
     "metadata": {},
     "output_type": "execute_result"
    },
    {
     "data": {
      "image/png": "[encoded data removed]",
      "text/plain": [
       "<Figure size 432x288 with 1 Axes>"
      ]
     },
     "metadata": {
      "needs_background": "light"
     },
     "output_type": "display_data"
    }
   ],
   "source": [
    "x = df['Timestamp'].apply(lambda time: time[11:13]).value_counts().index.values\n",
    "y = df['Timestamp'].apply(lambda time: time[11:13]).value_counts().values\n",
    "plt.scatter(x,y)\n",
    "plt.plot()"
   ]
  },
  {
   "cell_type": "markdown",
   "metadata": {
    "id": "FZJX9WztIp1S"
   },
   "source": [
    "## What about the content of the tweets?\n",
    "Let's check the most frequend words that are not stopwords or punctuation or verbs or tags"
   ]
  },
  {
   "cell_type": "code",
   "execution_count": 34,
   "metadata": {
    "id": "Da_6MQiAIp1S"
   },
   "outputs": [],
   "source": [
    "def clean(series):\n",
    "    \"function that cleans a quote\"\n",
    "    series = hp.fillna(series)\n",
    "    series = hp.lowercase(series)\n",
    "    series = hp.remove_digits(series)\n",
    "    series = hp.remove_diacritics(series)\n",
    "    default_stopwords = stopwords.DEFAULT\n",
    "    custom_stopwords = default_stopwords - (set([\"above\", \"below\", \"up\", \"down\", \"over\", \"under\", \"most\", \"few\"]))\n",
    "    custom_stopwords = custom_stopwords.union(set([\"yes\", \"would\", \"yeah\", \"like\", \"get\"]))\n",
    "    series = hp.remove_stopwords(series, custom_stopwords)\n",
    "    series = hp.remove_whitespace(series)\n",
    "    series = hp.remove_punctuation(series)\n",
    "    series = hp.fillna(series)\n",
    "    return series\n",
    "\n",
    "def remove_verbs(series):\n",
    "    \"\"\" function that removes all verbs from a series of sentences (series in the sense of pandas)\"\"\"\n",
    "    def remove_verbs_from_sentence(sentence):\n",
    "        \"\"\" function that removes all verbs from a sentence\"\"\"\n",
    "        #tokenizes the sentence (makes it become a list of words)\n",
    "        tokens = nltk.word_tokenize(sentence)\n",
    "\n",
    "        #tags words, for example if the word is a verb in it's base form then it tags it with 'VB'\n",
    "        #tagged becomes a list of tuples with (verb,tag) as format\n",
    "        tagged = nltk.pos_tag(tokens)\n",
    "\n",
    "        #filter all verbs from list\n",
    "        tagged =list(filter(lambda x: x[1] not in  ['VB','VBD','VBG','VBN','VBP','VBZ','MD'],tagged))\n",
    " \n",
    "        #remove tags from words\n",
    "        words = list(map(lambda x: x[0], tagged))\n",
    "\n",
    "        #join the words to have a sentence once againg\n",
    "        sentence = ' '.join(words)\n",
    "        return sentence\n",
    "\n",
    "    return series.apply(remove_verbs_from_sentence)"
   ]
  },
  {
   "cell_type": "code",
   "execution_count": 62,
   "metadata": {
    "colab": {
     "base_uri": "https://localhost:8080/"
    },
    "id": "0LNWB6eCIp1V",
    "outputId": "ab162faf-120e-4416-af2d-870baf230bb0",
    "scrolled": false
   },
   "outputs": [
    {
     "name": "stdout",
     "output_type": "stream",
     "text": [
      "I'm done part 1\n",
      "I'm done part 2\n",
      "I'm done part 3\n"
     ]
    }
   ],
   "source": [
    "cleanedtxt = clean(clean_prepro(df['text']))"
   ]
  },
  {
   "cell_type": "code",
   "execution_count": 63,
   "metadata": {
    "colab": {
     "base_uri": "https://localhost:8080/"
    },
    "id": "c_5j5KG2Ip1V",
    "outputId": "02b23ef1-9298-42e0-fbe1-2d7cff3d7d54",
    "scrolled": true
   },
   "outputs": [
    {
     "name": "stdout",
     "output_type": "stream",
     "text": [
      "showing info https://raw.githubusercontent.com/nltk/nltk_data/gh-pages/index.xml\n"
     ]
    },
    {
     "ename": "LookupError",
     "evalue": "\n**********************************************************************\n  Resource \u001b[93mpunkt\u001b[0m not found.\n  Please use the NLTK Downloader to obtain the resource:\n\n  \u001b[31m>>> import nltk\n  >>> nltk.download('punkt')\n  \u001b[0m\n  For more information see: https://www.nltk.org/data.html\n\n  Attempted to load \u001b[93mtokenizers/punkt/english.pickle\u001b[0m\n\n  Searched in:\n    - 'C:\\\\Users\\\\Bryan Kheirallah/nltk_data'\n    - 'c:\\\\users\\\\bryan kheirallah\\\\appdata\\\\local\\\\programs\\\\python\\\\python37\\\\nltk_data'\n    - 'c:\\\\users\\\\bryan kheirallah\\\\appdata\\\\local\\\\programs\\\\python\\\\python37\\\\share\\\\nltk_data'\n    - 'c:\\\\users\\\\bryan kheirallah\\\\appdata\\\\local\\\\programs\\\\python\\\\python37\\\\lib\\\\nltk_data'\n    - 'C:\\\\Users\\\\Bryan Kheirallah\\\\AppData\\\\Roaming\\\\nltk_data'\n    - 'C:\\\\nltk_data'\n    - 'D:\\\\nltk_data'\n    - 'E:\\\\nltk_data'\n    - ''\n**********************************************************************\n",
     "output_type": "error",
     "traceback": [
      "\u001b[1;31m---------------------------------------------------------------------------\u001b[0m",
      "\u001b[1;31mLookupError\u001b[0m                               Traceback (most recent call last)",
      "\u001b[1;32m~\\AppData\\Local\\Temp\\ipykernel_5636\\258822324.py\u001b[0m in \u001b[0;36m<module>\u001b[1;34m\u001b[0m\n\u001b[0;32m      2\u001b[0m \u001b[1;31m# averaged_perceptron_tagger\u001b[0m\u001b[1;33m\u001b[0m\u001b[1;33m\u001b[0m\u001b[1;33m\u001b[0m\u001b[0m\n\u001b[0;32m      3\u001b[0m \u001b[0mnltk\u001b[0m\u001b[1;33m.\u001b[0m\u001b[0mdownload\u001b[0m\u001b[1;33m(\u001b[0m\u001b[1;33m)\u001b[0m\u001b[1;33m\u001b[0m\u001b[1;33m\u001b[0m\u001b[0m\n\u001b[1;32m----> 4\u001b[1;33m \u001b[0mcleanedtxtNoVerbs\u001b[0m \u001b[1;33m=\u001b[0m \u001b[0mremove_verbs\u001b[0m\u001b[1;33m(\u001b[0m\u001b[0mcleanedtxt\u001b[0m\u001b[1;33m)\u001b[0m\u001b[1;33m\u001b[0m\u001b[1;33m\u001b[0m\u001b[0m\n\u001b[0m",
      "\u001b[1;32m~\\AppData\\Local\\Temp\\ipykernel_5636\\289740279.py\u001b[0m in \u001b[0;36mremove_verbs\u001b[1;34m(series)\u001b[0m\n\u001b[0;32m     35\u001b[0m         \u001b[1;32mreturn\u001b[0m \u001b[0msentence\u001b[0m\u001b[1;33m\u001b[0m\u001b[1;33m\u001b[0m\u001b[0m\n\u001b[0;32m     36\u001b[0m \u001b[1;33m\u001b[0m\u001b[0m\n\u001b[1;32m---> 37\u001b[1;33m     \u001b[1;32mreturn\u001b[0m \u001b[0mseries\u001b[0m\u001b[1;33m.\u001b[0m\u001b[0mapply\u001b[0m\u001b[1;33m(\u001b[0m\u001b[0mremove_verbs_from_sentence\u001b[0m\u001b[1;33m)\u001b[0m\u001b[1;33m\u001b[0m\u001b[1;33m\u001b[0m\u001b[0m\n\u001b[0m",
      "\u001b[1;32mc:\\users\\bryan kheirallah\\appdata\\local\\programs\\python\\python37\\lib\\site-packages\\pandas\\core\\series.py\u001b[0m in \u001b[0;36mapply\u001b[1;34m(self, func, convert_dtype, args, **kwargs)\u001b[0m\n\u001b[0;32m   4355\u001b[0m         \u001b[0mdtype\u001b[0m\u001b[1;33m:\u001b[0m \u001b[0mfloat64\u001b[0m\u001b[1;33m\u001b[0m\u001b[1;33m\u001b[0m\u001b[0m\n\u001b[0;32m   4356\u001b[0m         \"\"\"\n\u001b[1;32m-> 4357\u001b[1;33m         \u001b[1;32mreturn\u001b[0m \u001b[0mSeriesApply\u001b[0m\u001b[1;33m(\u001b[0m\u001b[0mself\u001b[0m\u001b[1;33m,\u001b[0m \u001b[0mfunc\u001b[0m\u001b[1;33m,\u001b[0m \u001b[0mconvert_dtype\u001b[0m\u001b[1;33m,\u001b[0m \u001b[0margs\u001b[0m\u001b[1;33m,\u001b[0m \u001b[0mkwargs\u001b[0m\u001b[1;33m)\u001b[0m\u001b[1;33m.\u001b[0m\u001b[0mapply\u001b[0m\u001b[1;33m(\u001b[0m\u001b[1;33m)\u001b[0m\u001b[1;33m\u001b[0m\u001b[1;33m\u001b[0m\u001b[0m\n\u001b[0m\u001b[0;32m   4358\u001b[0m \u001b[1;33m\u001b[0m\u001b[0m\n\u001b[0;32m   4359\u001b[0m     def _reduce(\n",
      "\u001b[1;32mc:\\users\\bryan kheirallah\\appdata\\local\\programs\\python\\python37\\lib\\site-packages\\pandas\\core\\apply.py\u001b[0m in \u001b[0;36mapply\u001b[1;34m(self)\u001b[0m\n\u001b[0;32m   1041\u001b[0m             \u001b[1;32mreturn\u001b[0m \u001b[0mself\u001b[0m\u001b[1;33m.\u001b[0m\u001b[0mapply_str\u001b[0m\u001b[1;33m(\u001b[0m\u001b[1;33m)\u001b[0m\u001b[1;33m\u001b[0m\u001b[1;33m\u001b[0m\u001b[0m\n\u001b[0;32m   1042\u001b[0m \u001b[1;33m\u001b[0m\u001b[0m\n\u001b[1;32m-> 1043\u001b[1;33m         \u001b[1;32mreturn\u001b[0m \u001b[0mself\u001b[0m\u001b[1;33m.\u001b[0m\u001b[0mapply_standard\u001b[0m\u001b[1;33m(\u001b[0m\u001b[1;33m)\u001b[0m\u001b[1;33m\u001b[0m\u001b[1;33m\u001b[0m\u001b[0m\n\u001b[0m\u001b[0;32m   1044\u001b[0m \u001b[1;33m\u001b[0m\u001b[0m\n\u001b[0;32m   1045\u001b[0m     \u001b[1;32mdef\u001b[0m \u001b[0magg\u001b[0m\u001b[1;33m(\u001b[0m\u001b[0mself\u001b[0m\u001b[1;33m)\u001b[0m\u001b[1;33m:\u001b[0m\u001b[1;33m\u001b[0m\u001b[1;33m\u001b[0m\u001b[0m\n",
      "\u001b[1;32mc:\\users\\bryan kheirallah\\appdata\\local\\programs\\python\\python37\\lib\\site-packages\\pandas\\core\\apply.py\u001b[0m in \u001b[0;36mapply_standard\u001b[1;34m(self)\u001b[0m\n\u001b[0;32m   1099\u001b[0m                     \u001b[0mvalues\u001b[0m\u001b[1;33m,\u001b[0m\u001b[1;33m\u001b[0m\u001b[1;33m\u001b[0m\u001b[0m\n\u001b[0;32m   1100\u001b[0m                     \u001b[0mf\u001b[0m\u001b[1;33m,\u001b[0m  \u001b[1;31m# type: ignore[arg-type]\u001b[0m\u001b[1;33m\u001b[0m\u001b[1;33m\u001b[0m\u001b[0m\n\u001b[1;32m-> 1101\u001b[1;33m                     \u001b[0mconvert\u001b[0m\u001b[1;33m=\u001b[0m\u001b[0mself\u001b[0m\u001b[1;33m.\u001b[0m\u001b[0mconvert_dtype\u001b[0m\u001b[1;33m,\u001b[0m\u001b[1;33m\u001b[0m\u001b[1;33m\u001b[0m\u001b[0m\n\u001b[0m\u001b[0;32m   1102\u001b[0m                 )\n\u001b[0;32m   1103\u001b[0m \u001b[1;33m\u001b[0m\u001b[0m\n",
      "\u001b[1;32mc:\\users\\bryan kheirallah\\appdata\\local\\programs\\python\\python37\\lib\\site-packages\\pandas\\_libs\\lib.pyx\u001b[0m in \u001b[0;36mpandas._libs.lib.map_infer\u001b[1;34m()\u001b[0m\n",
      "\u001b[1;32m~\\AppData\\Local\\Temp\\ipykernel_5636\\289740279.py\u001b[0m in \u001b[0;36mremove_verbs_from_sentence\u001b[1;34m(sentence)\u001b[0m\n\u001b[0;32m     19\u001b[0m         \u001b[1;34m\"\"\" function that removes all verbs from a sentence\"\"\"\u001b[0m\u001b[1;33m\u001b[0m\u001b[1;33m\u001b[0m\u001b[0m\n\u001b[0;32m     20\u001b[0m         \u001b[1;31m#tokenizes the sentence (makes it become a list of words)\u001b[0m\u001b[1;33m\u001b[0m\u001b[1;33m\u001b[0m\u001b[1;33m\u001b[0m\u001b[0m\n\u001b[1;32m---> 21\u001b[1;33m         \u001b[0mtokens\u001b[0m \u001b[1;33m=\u001b[0m \u001b[0mnltk\u001b[0m\u001b[1;33m.\u001b[0m\u001b[0mword_tokenize\u001b[0m\u001b[1;33m(\u001b[0m\u001b[0msentence\u001b[0m\u001b[1;33m)\u001b[0m\u001b[1;33m\u001b[0m\u001b[1;33m\u001b[0m\u001b[0m\n\u001b[0m\u001b[0;32m     22\u001b[0m \u001b[1;33m\u001b[0m\u001b[0m\n\u001b[0;32m     23\u001b[0m         \u001b[1;31m#tags words, for example if the word is a verb in it's base form then it tags it with 'VB'\u001b[0m\u001b[1;33m\u001b[0m\u001b[1;33m\u001b[0m\u001b[1;33m\u001b[0m\u001b[0m\n",
      "\u001b[1;32mc:\\users\\bryan kheirallah\\appdata\\local\\programs\\python\\python37\\lib\\site-packages\\nltk\\tokenize\\__init__.py\u001b[0m in \u001b[0;36mword_tokenize\u001b[1;34m(text, language, preserve_line)\u001b[0m\n\u001b[0;32m    127\u001b[0m     \u001b[1;33m:\u001b[0m\u001b[0mtype\u001b[0m \u001b[0mpreserve_line\u001b[0m\u001b[1;33m:\u001b[0m \u001b[0mbool\u001b[0m\u001b[1;33m\u001b[0m\u001b[1;33m\u001b[0m\u001b[0m\n\u001b[0;32m    128\u001b[0m     \"\"\"\n\u001b[1;32m--> 129\u001b[1;33m     \u001b[0msentences\u001b[0m \u001b[1;33m=\u001b[0m \u001b[1;33m[\u001b[0m\u001b[0mtext\u001b[0m\u001b[1;33m]\u001b[0m \u001b[1;32mif\u001b[0m \u001b[0mpreserve_line\u001b[0m \u001b[1;32melse\u001b[0m \u001b[0msent_tokenize\u001b[0m\u001b[1;33m(\u001b[0m\u001b[0mtext\u001b[0m\u001b[1;33m,\u001b[0m \u001b[0mlanguage\u001b[0m\u001b[1;33m)\u001b[0m\u001b[1;33m\u001b[0m\u001b[1;33m\u001b[0m\u001b[0m\n\u001b[0m\u001b[0;32m    130\u001b[0m     return [\n\u001b[0;32m    131\u001b[0m         \u001b[0mtoken\u001b[0m \u001b[1;32mfor\u001b[0m \u001b[0msent\u001b[0m \u001b[1;32min\u001b[0m \u001b[0msentences\u001b[0m \u001b[1;32mfor\u001b[0m \u001b[0mtoken\u001b[0m \u001b[1;32min\u001b[0m \u001b[0m_treebank_word_tokenizer\u001b[0m\u001b[1;33m.\u001b[0m\u001b[0mtokenize\u001b[0m\u001b[1;33m(\u001b[0m\u001b[0msent\u001b[0m\u001b[1;33m)\u001b[0m\u001b[1;33m\u001b[0m\u001b[1;33m\u001b[0m\u001b[0m\n",
      "\u001b[1;32mc:\\users\\bryan kheirallah\\appdata\\local\\programs\\python\\python37\\lib\\site-packages\\nltk\\tokenize\\__init__.py\u001b[0m in \u001b[0;36msent_tokenize\u001b[1;34m(text, language)\u001b[0m\n\u001b[0;32m    104\u001b[0m     \u001b[1;33m:\u001b[0m\u001b[0mparam\u001b[0m \u001b[0mlanguage\u001b[0m\u001b[1;33m:\u001b[0m \u001b[0mthe\u001b[0m \u001b[0mmodel\u001b[0m \u001b[0mname\u001b[0m \u001b[1;32min\u001b[0m \u001b[0mthe\u001b[0m \u001b[0mPunkt\u001b[0m \u001b[0mcorpus\u001b[0m\u001b[1;33m\u001b[0m\u001b[1;33m\u001b[0m\u001b[0m\n\u001b[0;32m    105\u001b[0m     \"\"\"\n\u001b[1;32m--> 106\u001b[1;33m     \u001b[0mtokenizer\u001b[0m \u001b[1;33m=\u001b[0m \u001b[0mload\u001b[0m\u001b[1;33m(\u001b[0m\u001b[1;34mf\"tokenizers/punkt/{language}.pickle\"\u001b[0m\u001b[1;33m)\u001b[0m\u001b[1;33m\u001b[0m\u001b[1;33m\u001b[0m\u001b[0m\n\u001b[0m\u001b[0;32m    107\u001b[0m     \u001b[1;32mreturn\u001b[0m \u001b[0mtokenizer\u001b[0m\u001b[1;33m.\u001b[0m\u001b[0mtokenize\u001b[0m\u001b[1;33m(\u001b[0m\u001b[0mtext\u001b[0m\u001b[1;33m)\u001b[0m\u001b[1;33m\u001b[0m\u001b[1;33m\u001b[0m\u001b[0m\n\u001b[0;32m    108\u001b[0m \u001b[1;33m\u001b[0m\u001b[0m\n",
      "\u001b[1;32mc:\\users\\bryan kheirallah\\appdata\\local\\programs\\python\\python37\\lib\\site-packages\\nltk\\data.py\u001b[0m in \u001b[0;36mload\u001b[1;34m(resource_url, format, cache, verbose, logic_parser, fstruct_reader, encoding)\u001b[0m\n\u001b[0;32m    748\u001b[0m \u001b[1;33m\u001b[0m\u001b[0m\n\u001b[0;32m    749\u001b[0m     \u001b[1;31m# Load the resource.\u001b[0m\u001b[1;33m\u001b[0m\u001b[1;33m\u001b[0m\u001b[1;33m\u001b[0m\u001b[0m\n\u001b[1;32m--> 750\u001b[1;33m     \u001b[0mopened_resource\u001b[0m \u001b[1;33m=\u001b[0m \u001b[0m_open\u001b[0m\u001b[1;33m(\u001b[0m\u001b[0mresource_url\u001b[0m\u001b[1;33m)\u001b[0m\u001b[1;33m\u001b[0m\u001b[1;33m\u001b[0m\u001b[0m\n\u001b[0m\u001b[0;32m    751\u001b[0m \u001b[1;33m\u001b[0m\u001b[0m\n\u001b[0;32m    752\u001b[0m     \u001b[1;32mif\u001b[0m \u001b[0mformat\u001b[0m \u001b[1;33m==\u001b[0m \u001b[1;34m\"raw\"\u001b[0m\u001b[1;33m:\u001b[0m\u001b[1;33m\u001b[0m\u001b[1;33m\u001b[0m\u001b[0m\n",
      "\u001b[1;32mc:\\users\\bryan kheirallah\\appdata\\local\\programs\\python\\python37\\lib\\site-packages\\nltk\\data.py\u001b[0m in \u001b[0;36m_open\u001b[1;34m(resource_url)\u001b[0m\n\u001b[0;32m    874\u001b[0m \u001b[1;33m\u001b[0m\u001b[0m\n\u001b[0;32m    875\u001b[0m     \u001b[1;32mif\u001b[0m \u001b[0mprotocol\u001b[0m \u001b[1;32mis\u001b[0m \u001b[1;32mNone\u001b[0m \u001b[1;32mor\u001b[0m \u001b[0mprotocol\u001b[0m\u001b[1;33m.\u001b[0m\u001b[0mlower\u001b[0m\u001b[1;33m(\u001b[0m\u001b[1;33m)\u001b[0m \u001b[1;33m==\u001b[0m \u001b[1;34m\"nltk\"\u001b[0m\u001b[1;33m:\u001b[0m\u001b[1;33m\u001b[0m\u001b[1;33m\u001b[0m\u001b[0m\n\u001b[1;32m--> 876\u001b[1;33m         \u001b[1;32mreturn\u001b[0m \u001b[0mfind\u001b[0m\u001b[1;33m(\u001b[0m\u001b[0mpath_\u001b[0m\u001b[1;33m,\u001b[0m \u001b[0mpath\u001b[0m \u001b[1;33m+\u001b[0m \u001b[1;33m[\u001b[0m\u001b[1;34m\"\"\u001b[0m\u001b[1;33m]\u001b[0m\u001b[1;33m)\u001b[0m\u001b[1;33m.\u001b[0m\u001b[0mopen\u001b[0m\u001b[1;33m(\u001b[0m\u001b[1;33m)\u001b[0m\u001b[1;33m\u001b[0m\u001b[1;33m\u001b[0m\u001b[0m\n\u001b[0m\u001b[0;32m    877\u001b[0m     \u001b[1;32melif\u001b[0m \u001b[0mprotocol\u001b[0m\u001b[1;33m.\u001b[0m\u001b[0mlower\u001b[0m\u001b[1;33m(\u001b[0m\u001b[1;33m)\u001b[0m \u001b[1;33m==\u001b[0m \u001b[1;34m\"file\"\u001b[0m\u001b[1;33m:\u001b[0m\u001b[1;33m\u001b[0m\u001b[1;33m\u001b[0m\u001b[0m\n\u001b[0;32m    878\u001b[0m         \u001b[1;31m# urllib might not use mode='rb', so handle this one ourselves:\u001b[0m\u001b[1;33m\u001b[0m\u001b[1;33m\u001b[0m\u001b[1;33m\u001b[0m\u001b[0m\n",
      "\u001b[1;32mc:\\users\\bryan kheirallah\\appdata\\local\\programs\\python\\python37\\lib\\site-packages\\nltk\\data.py\u001b[0m in \u001b[0;36mfind\u001b[1;34m(resource_name, paths)\u001b[0m\n\u001b[0;32m    581\u001b[0m     \u001b[0msep\u001b[0m \u001b[1;33m=\u001b[0m \u001b[1;34m\"*\"\u001b[0m \u001b[1;33m*\u001b[0m \u001b[1;36m70\u001b[0m\u001b[1;33m\u001b[0m\u001b[1;33m\u001b[0m\u001b[0m\n\u001b[0;32m    582\u001b[0m     \u001b[0mresource_not_found\u001b[0m \u001b[1;33m=\u001b[0m \u001b[1;34mf\"\\n{sep}\\n{msg}\\n{sep}\\n\"\u001b[0m\u001b[1;33m\u001b[0m\u001b[1;33m\u001b[0m\u001b[0m\n\u001b[1;32m--> 583\u001b[1;33m     \u001b[1;32mraise\u001b[0m \u001b[0mLookupError\u001b[0m\u001b[1;33m(\u001b[0m\u001b[0mresource_not_found\u001b[0m\u001b[1;33m)\u001b[0m\u001b[1;33m\u001b[0m\u001b[1;33m\u001b[0m\u001b[0m\n\u001b[0m\u001b[0;32m    584\u001b[0m \u001b[1;33m\u001b[0m\u001b[0m\n\u001b[0;32m    585\u001b[0m \u001b[1;33m\u001b[0m\u001b[0m\n",
      "\u001b[1;31mLookupError\u001b[0m: \n**********************************************************************\n  Resource \u001b[93mpunkt\u001b[0m not found.\n  Please use the NLTK Downloader to obtain the resource:\n\n  \u001b[31m>>> import nltk\n  >>> nltk.download('punkt')\n  \u001b[0m\n  For more information see: https://www.nltk.org/data.html\n\n  Attempted to load \u001b[93mtokenizers/punkt/english.pickle\u001b[0m\n\n  Searched in:\n    - 'C:\\\\Users\\\\Bryan Kheirallah/nltk_data'\n    - 'c:\\\\users\\\\bryan kheirallah\\\\appdata\\\\local\\\\programs\\\\python\\\\python37\\\\nltk_data'\n    - 'c:\\\\users\\\\bryan kheirallah\\\\appdata\\\\local\\\\programs\\\\python\\\\python37\\\\share\\\\nltk_data'\n    - 'c:\\\\users\\\\bryan kheirallah\\\\appdata\\\\local\\\\programs\\\\python\\\\python37\\\\lib\\\\nltk_data'\n    - 'C:\\\\Users\\\\Bryan Kheirallah\\\\AppData\\\\Roaming\\\\nltk_data'\n    - 'C:\\\\nltk_data'\n    - 'D:\\\\nltk_data'\n    - 'E:\\\\nltk_data'\n    - ''\n**********************************************************************\n"
     ]
    }
   ],
   "source": [
    "# punkt\n",
    "# averaged_perceptron_tagger\n",
    "nltk.download()\n",
    "cleanedtxtNoVerbs = remove_verbs(cleanedtxt)"
   ]
  },
  {
   "cell_type": "code",
   "execution_count": 65,
   "metadata": {
    "colab": {
     "base_uri": "https://localhost:8080/"
    },
    "id": "FfktEq9LIp1V",
    "outputId": "01ec81cf-4127-4d9c-984a-ad65446e05fb",
    "scrolled": false
   },
   "outputs": [],
   "source": [
    "hero.top_words(cleanedtxt)[:500].to_csv(\"topwords.csv\")"
   ]
  },
  {
   "cell_type": "markdown",
   "metadata": {
    "id": "AgOCVCW2QGZu"
   },
   "source": [
    "We see that many words present are still some wird punctuation that needs to be removed to see the real most frequent words. We see that mosto of the content is related to elon musk in general (spacex,elonmusk...) but we are happy to remark that the first, most frequent significant word is TESLA!\n",
    "That said we can deduce that many tweets are not involving tesla for example we can see (with no surprise) that between the  tranding word there are spaceX and rocket. \n",
    "Even if it's true that tesla and spaceX could be correlated, and therefore the tweets of spaceX could potentially impact tesla's returns, we have to keep in mind that topic selection to keep only relevant tweets is an option for the preprocessing."
   ]
  },
  {
   "cell_type": "markdown",
   "metadata": {
    "id": "VEp_cYstTV6g"
   },
   "source": [
    "## PREPROCESSING\n",
    "We are going to add the following columns to the dataset:\n",
    "* clean_txt which contains cleaned version of the text\n",
    "* clean_txt25,clean_txt50,clean_txt75,clean_txt100 which contains cleaned version of the text limited to a maximum number of words\n",
    "\n",
    "\n"
   ]
  },
  {
   "cell_type": "code",
   "execution_count": 57,
   "metadata": {
    "colab": {
     "base_uri": "https://localhost:8080/"
    },
    "id": "isMdzSVsNVH5",
    "outputId": "dd9861e6-90b6-4c49-cce9-f3f3b0e51962",
    "scrolled": true
   },
   "outputs": [
    {
     "name": "stdout",
     "output_type": "stream",
     "text": [
      "I'm done part 1\n",
      "I'm done part 2\n",
      "I'm done part 3\n"
     ]
    }
   ],
   "source": [
    "df['cleantext'] = clean(clean_prepro(df['text']))\n",
    "df = df[df['cleantext'] != \"\"]"
   ]
  },
  {
   "cell_type": "code",
   "execution_count": 58,
   "metadata": {
    "colab": {
     "base_uri": "https://localhost:8080/"
    },
    "id": "N9qBbUSTTZzG",
    "outputId": "7ceaa4a4-b431-4946-cdaf-ba63f37dfe4f"
   },
   "outputs": [
    {
     "name": "stderr",
     "output_type": "stream",
     "text": [
      "c:\\users\\bryan kheirallah\\appdata\\local\\programs\\python\\python37\\lib\\site-packages\\ipykernel_launcher.py:4: SettingWithCopyWarning: \n",
      "A value is trying to be set on a copy of a slice from a DataFrame.\n",
      "Try using .loc[row_indexer,col_indexer] = value instead\n",
      "\n",
      "See the caveats in the documentation: https://pandas.pydata.org/pandas-docs/stable/user_guide/indexing.html#returning-a-view-versus-a-copy\n",
      "  after removing the cwd from sys.path.\n",
      "c:\\users\\bryan kheirallah\\appdata\\local\\programs\\python\\python37\\lib\\site-packages\\ipykernel_launcher.py:5: SettingWithCopyWarning: \n",
      "A value is trying to be set on a copy of a slice from a DataFrame.\n",
      "Try using .loc[row_indexer,col_indexer] = value instead\n",
      "\n",
      "See the caveats in the documentation: https://pandas.pydata.org/pandas-docs/stable/user_guide/indexing.html#returning-a-view-versus-a-copy\n",
      "  \"\"\"\n",
      "c:\\users\\bryan kheirallah\\appdata\\local\\programs\\python\\python37\\lib\\site-packages\\ipykernel_launcher.py:6: SettingWithCopyWarning: \n",
      "A value is trying to be set on a copy of a slice from a DataFrame.\n",
      "Try using .loc[row_indexer,col_indexer] = value instead\n",
      "\n",
      "See the caveats in the documentation: https://pandas.pydata.org/pandas-docs/stable/user_guide/indexing.html#returning-a-view-versus-a-copy\n",
      "  \n",
      "c:\\users\\bryan kheirallah\\appdata\\local\\programs\\python\\python37\\lib\\site-packages\\ipykernel_launcher.py:7: SettingWithCopyWarning: \n",
      "A value is trying to be set on a copy of a slice from a DataFrame.\n",
      "Try using .loc[row_indexer,col_indexer] = value instead\n",
      "\n",
      "See the caveats in the documentation: https://pandas.pydata.org/pandas-docs/stable/user_guide/indexing.html#returning-a-view-versus-a-copy\n",
      "  import sys\n"
     ]
    }
   ],
   "source": [
    "def keepNwords(text,numWords):\n",
    "  return \" \".join(text.split(\" \")[:numWords])\n",
    "\n",
    "df['clean25'] = df['cleantext'].apply(lambda text: keepNwords(text,25))\n",
    "df['clean50'] = df['cleantext'].apply(lambda text: keepNwords(text,50))\n",
    "df['clean75'] = df['cleantext'].apply(lambda text: keepNwords(text,75))\n",
    "df['clean100'] = df['cleantext'].apply(lambda text: keepNwords(text,100))\n"
   ]
  },
  {
   "cell_type": "code",
   "execution_count": 59,
   "metadata": {
    "colab": {
     "base_uri": "https://localhost:8080/"
    },
    "id": "KY1WbI8LVuUE",
    "outputId": "1abb2fc0-42ef-4757-ddff-4e6fc4b630a2",
    "scrolled": true
   },
   "outputs": [
    {
     "data": {
      "text/plain": [
       "Tweet                 0\n",
       "UserScreenName        0\n",
       "UserName              0\n",
       "Timestamp             0\n",
       "text                  0\n",
       "Emojis            10985\n",
       "Comments             18\n",
       "Likes                22\n",
       "Retweets              0\n",
       "Image link            0\n",
       "Tweet URL             0\n",
       "length                0\n",
       "day                   0\n",
       "date_ordinal          0\n",
       "cleantext             0\n",
       "clean25               0\n",
       "clean50               0\n",
       "clean75               0\n",
       "clean100              0\n",
       "dtype: int64"
      ]
     },
     "execution_count": 59,
     "metadata": {},
     "output_type": "execute_result"
    }
   ],
   "source": [
    "df.isnull().sum()"
   ]
  },
  {
   "cell_type": "code",
   "execution_count": 61,
   "metadata": {
    "id": "CjhqAOZvVSgp"
   },
   "outputs": [],
   "source": [
    "filepath = 'elonmuskClean.csv'\n",
    "df.to_csv(filepath)"
   ]
  },
  {
   "cell_type": "code",
   "execution_count": null,
   "metadata": {
    "id": "0swtpzxDsjo4"
   },
   "outputs": [],
   "source": []
  }
 ],
 "metadata": {
  "colab": {
   "collapsed_sections": [],
   "name": "dataExploration.ipynb",
   "provenance": []
  },
  "kernelspec": {
   "display_name": "Python 3 (ipykernel)",
   "language": "python",
   "name": "python3"
  },
  "language_info": {
   "codemirror_mode": {
    "name": "ipython",
    "version": 3
   },
   "file_extension": ".py",
   "mimetype": "text/x-python",
   "name": "python",
   "nbconvert_exporter": "python",
   "pygments_lexer": "ipython3",
   "version": "3.7.6"
  }
 },
 "nbformat": 4,
 "nbformat_minor": 1
}
