{
  "cells": [
    {
      "cell_type": "code",
      "execution_count": 54,
      "metadata": {
        "colab": {
          "base_uri": "https://localhost:8080/"
        },
        "id": "jk4-Im6PIp1H",
        "outputId": "9f626035-9c2f-4793-a1f2-66afaea101f7"
      },
      "outputs": [
        {
          "output_type": "stream",
          "name": "stdout",
          "text": [
            "Requirement already satisfied: texthero in /usr/local/lib/python3.7/dist-packages (1.1.0)\n",
            "Requirement already satisfied: tqdm>=4.3 in /usr/local/lib/python3.7/dist-packages (from texthero) (4.64.0)\n",
            "Requirement already satisfied: nltk>=3.3 in /usr/local/lib/python3.7/dist-packages (from texthero) (3.7)\n",
            "Requirement already satisfied: plotly>=4.2.0 in /usr/local/lib/python3.7/dist-packages (from texthero) (5.5.0)\n",
            "Requirement already satisfied: matplotlib>=3.1.0 in /usr/local/lib/python3.7/dist-packages (from texthero) (3.2.2)\n",
            "Requirement already satisfied: gensim<4.0,>=3.6.0 in /usr/local/lib/python3.7/dist-packages (from texthero) (3.6.0)\n",
            "Requirement already satisfied: numpy>=1.17 in /usr/local/lib/python3.7/dist-packages (from texthero) (1.21.6)\n",
            "Requirement already satisfied: wordcloud>=1.5.0 in /usr/local/lib/python3.7/dist-packages (from texthero) (1.5.0)\n",
            "Requirement already satisfied: pandas>=1.0.2 in /usr/local/lib/python3.7/dist-packages (from texthero) (1.3.5)\n",
            "Requirement already satisfied: unidecode>=1.1.1 in /usr/local/lib/python3.7/dist-packages (from texthero) (1.3.4)\n",
            "Requirement already satisfied: spacy<3.0.0 in /usr/local/lib/python3.7/dist-packages (from texthero) (2.2.4)\n",
            "Requirement already satisfied: scikit-learn>=0.22 in /usr/local/lib/python3.7/dist-packages (from texthero) (1.0.2)\n",
            "Requirement already satisfied: smart-open>=1.2.1 in /usr/local/lib/python3.7/dist-packages (from gensim<4.0,>=3.6.0->texthero) (6.0.0)\n",
            "Requirement already satisfied: scipy>=0.18.1 in /usr/local/lib/python3.7/dist-packages (from gensim<4.0,>=3.6.0->texthero) (1.4.1)\n",
            "Requirement already satisfied: six>=1.5.0 in /usr/local/lib/python3.7/dist-packages (from gensim<4.0,>=3.6.0->texthero) (1.15.0)\n",
            "Requirement already satisfied: cycler>=0.10 in /usr/local/lib/python3.7/dist-packages (from matplotlib>=3.1.0->texthero) (0.11.0)\n",
            "Requirement already satisfied: pyparsing!=2.0.4,!=2.1.2,!=2.1.6,>=2.0.1 in /usr/local/lib/python3.7/dist-packages (from matplotlib>=3.1.0->texthero) (3.0.8)\n",
            "Requirement already satisfied: python-dateutil>=2.1 in /usr/local/lib/python3.7/dist-packages (from matplotlib>=3.1.0->texthero) (2.8.2)\n",
            "Requirement already satisfied: kiwisolver>=1.0.1 in /usr/local/lib/python3.7/dist-packages (from matplotlib>=3.1.0->texthero) (1.4.2)\n",
            "Requirement already satisfied: typing-extensions in /usr/local/lib/python3.7/dist-packages (from kiwisolver>=1.0.1->matplotlib>=3.1.0->texthero) (4.2.0)\n",
            "Requirement already satisfied: click in /usr/local/lib/python3.7/dist-packages (from nltk>=3.3->texthero) (7.1.2)\n",
            "Requirement already satisfied: regex>=2021.8.3 in /usr/local/lib/python3.7/dist-packages (from nltk>=3.3->texthero) (2022.4.24)\n",
            "Requirement already satisfied: joblib in /usr/local/lib/python3.7/dist-packages (from nltk>=3.3->texthero) (1.1.0)\n",
            "Requirement already satisfied: pytz>=2017.3 in /usr/local/lib/python3.7/dist-packages (from pandas>=1.0.2->texthero) (2022.1)\n",
            "Requirement already satisfied: tenacity>=6.2.0 in /usr/local/lib/python3.7/dist-packages (from plotly>=4.2.0->texthero) (8.0.1)\n",
            "Requirement already satisfied: threadpoolctl>=2.0.0 in /usr/local/lib/python3.7/dist-packages (from scikit-learn>=0.22->texthero) (3.1.0)\n",
            "Requirement already satisfied: setuptools in /usr/local/lib/python3.7/dist-packages (from spacy<3.0.0->texthero) (57.4.0)\n",
            "Requirement already satisfied: thinc==7.4.0 in /usr/local/lib/python3.7/dist-packages (from spacy<3.0.0->texthero) (7.4.0)\n",
            "Requirement already satisfied: preshed<3.1.0,>=3.0.2 in /usr/local/lib/python3.7/dist-packages (from spacy<3.0.0->texthero) (3.0.6)\n",
            "Requirement already satisfied: wasabi<1.1.0,>=0.4.0 in /usr/local/lib/python3.7/dist-packages (from spacy<3.0.0->texthero) (0.9.1)\n",
            "Requirement already satisfied: catalogue<1.1.0,>=0.0.7 in /usr/local/lib/python3.7/dist-packages (from spacy<3.0.0->texthero) (1.0.0)\n",
            "Requirement already satisfied: requests<3.0.0,>=2.13.0 in /usr/local/lib/python3.7/dist-packages (from spacy<3.0.0->texthero) (2.23.0)\n",
            "Requirement already satisfied: murmurhash<1.1.0,>=0.28.0 in /usr/local/lib/python3.7/dist-packages (from spacy<3.0.0->texthero) (1.0.7)\n",
            "Requirement already satisfied: cymem<2.1.0,>=2.0.2 in /usr/local/lib/python3.7/dist-packages (from spacy<3.0.0->texthero) (2.0.6)\n",
            "Requirement already satisfied: blis<0.5.0,>=0.4.0 in /usr/local/lib/python3.7/dist-packages (from spacy<3.0.0->texthero) (0.4.1)\n",
            "Requirement already satisfied: srsly<1.1.0,>=1.0.2 in /usr/local/lib/python3.7/dist-packages (from spacy<3.0.0->texthero) (1.0.5)\n",
            "Requirement already satisfied: plac<1.2.0,>=0.9.6 in /usr/local/lib/python3.7/dist-packages (from spacy<3.0.0->texthero) (1.1.3)\n",
            "Requirement already satisfied: importlib-metadata>=0.20 in /usr/local/lib/python3.7/dist-packages (from catalogue<1.1.0,>=0.0.7->spacy<3.0.0->texthero) (4.11.3)\n",
            "Requirement already satisfied: zipp>=0.5 in /usr/local/lib/python3.7/dist-packages (from importlib-metadata>=0.20->catalogue<1.1.0,>=0.0.7->spacy<3.0.0->texthero) (3.8.0)\n",
            "Requirement already satisfied: certifi>=2017.4.17 in /usr/local/lib/python3.7/dist-packages (from requests<3.0.0,>=2.13.0->spacy<3.0.0->texthero) (2021.10.8)\n",
            "Requirement already satisfied: urllib3!=1.25.0,!=1.25.1,<1.26,>=1.21.1 in /usr/local/lib/python3.7/dist-packages (from requests<3.0.0,>=2.13.0->spacy<3.0.0->texthero) (1.24.3)\n",
            "Requirement already satisfied: idna<3,>=2.5 in /usr/local/lib/python3.7/dist-packages (from requests<3.0.0,>=2.13.0->spacy<3.0.0->texthero) (2.10)\n",
            "Requirement already satisfied: chardet<4,>=3.0.2 in /usr/local/lib/python3.7/dist-packages (from requests<3.0.0,>=2.13.0->spacy<3.0.0->texthero) (3.0.4)\n",
            "Requirement already satisfied: pillow in /usr/local/lib/python3.7/dist-packages (from wordcloud>=1.5.0->texthero) (7.1.2)\n"
          ]
        }
      ],
      "source": [
        "!pip install texthero"
      ]
    },
    {
      "cell_type": "code",
      "execution_count": 55,
      "metadata": {
        "id": "txoSw0JIIp1K"
      },
      "outputs": [],
      "source": [
        "import pandas as pd\n",
        "import matplotlib.pyplot as plt\n",
        "import seaborn as sns\n",
        "import datetime\n",
        "import scipy.stats as stats\n",
        "import texthero as hero\n",
        "from texthero import preprocessing as hp\n",
        "import nltk\n",
        "import numpy as np\n",
        "import regex as re"
      ]
    },
    {
      "cell_type": "code",
      "execution_count": 56,
      "metadata": {
        "id": "fr4rvpwQIp1K"
      },
      "outputs": [],
      "source": [
        "#Plotting an histogram.\n",
        "def plothisto(toPlot, xlabel,ylabel,title,bins = 50):\n",
        "    plt.hist(toPlot, bins = bins)\n",
        "    plt.xlabel(xlabel)\n",
        "    plt.ylabel(ylabel)\n",
        "    plt.title(title)\n",
        "    plt.show()"
      ]
    },
    {
      "cell_type": "code",
      "execution_count": 57,
      "metadata": {
        "colab": {
          "base_uri": "https://localhost:8080/",
          "height": 423
        },
        "id": "HZVLwn8rIp1L",
        "outputId": "a28da4fd-770c-4345-dd5b-e41fc667f72a"
      },
      "outputs": [
        {
          "output_type": "display_data",
          "data": {
            "text/plain": [
              "      PERMNO      date        RET\n",
              "0      93436  20100629          C\n",
              "1      93436  20100630  -0.002511\n",
              "2      93436  20100701  -0.078473\n",
              "3      93436  20100702  -0.125683\n",
              "4      93436  20100706  -0.160938\n",
              "...      ...       ...        ...\n",
              "2894   93436  20211227   0.025248\n",
              "2895   93436  20211228  -0.005000\n",
              "2896   93436  20211229  -0.002095\n",
              "2897   93436  20211230  -0.014592\n",
              "2898   93436  20211231  -0.012669\n",
              "\n",
              "[2899 rows x 3 columns]"
            ],
            "text/html": [
              "\n",
              "  <div id=\"df-b7aaa0ff-27e9-4e59-a5d4-0946706104b9\">\n",
              "    <div class=\"colab-df-container\">\n",
              "      <div>\n",
              "<style scoped>\n",
              "    .dataframe tbody tr th:only-of-type {\n",
              "        vertical-align: middle;\n",
              "    }\n",
              "\n",
              "    .dataframe tbody tr th {\n",
              "        vertical-align: top;\n",
              "    }\n",
              "\n",
              "    .dataframe thead th {\n",
              "        text-align: right;\n",
              "    }\n",
              "</style>\n",
              "<table border=\"1\" class=\"dataframe\">\n",
              "  <thead>\n",
              "    <tr style=\"text-align: right;\">\n",
              "      <th></th>\n",
              "      <th>PERMNO</th>\n",
              "      <th>date</th>\n",
              "      <th>RET</th>\n",
              "    </tr>\n",
              "  </thead>\n",
              "  <tbody>\n",
              "    <tr>\n",
              "      <th>0</th>\n",
              "      <td>93436</td>\n",
              "      <td>20100629</td>\n",
              "      <td>C</td>\n",
              "    </tr>\n",
              "    <tr>\n",
              "      <th>1</th>\n",
              "      <td>93436</td>\n",
              "      <td>20100630</td>\n",
              "      <td>-0.002511</td>\n",
              "    </tr>\n",
              "    <tr>\n",
              "      <th>2</th>\n",
              "      <td>93436</td>\n",
              "      <td>20100701</td>\n",
              "      <td>-0.078473</td>\n",
              "    </tr>\n",
              "    <tr>\n",
              "      <th>3</th>\n",
              "      <td>93436</td>\n",
              "      <td>20100702</td>\n",
              "      <td>-0.125683</td>\n",
              "    </tr>\n",
              "    <tr>\n",
              "      <th>4</th>\n",
              "      <td>93436</td>\n",
              "      <td>20100706</td>\n",
              "      <td>-0.160938</td>\n",
              "    </tr>\n",
              "    <tr>\n",
              "      <th>...</th>\n",
              "      <td>...</td>\n",
              "      <td>...</td>\n",
              "      <td>...</td>\n",
              "    </tr>\n",
              "    <tr>\n",
              "      <th>2894</th>\n",
              "      <td>93436</td>\n",
              "      <td>20211227</td>\n",
              "      <td>0.025248</td>\n",
              "    </tr>\n",
              "    <tr>\n",
              "      <th>2895</th>\n",
              "      <td>93436</td>\n",
              "      <td>20211228</td>\n",
              "      <td>-0.005000</td>\n",
              "    </tr>\n",
              "    <tr>\n",
              "      <th>2896</th>\n",
              "      <td>93436</td>\n",
              "      <td>20211229</td>\n",
              "      <td>-0.002095</td>\n",
              "    </tr>\n",
              "    <tr>\n",
              "      <th>2897</th>\n",
              "      <td>93436</td>\n",
              "      <td>20211230</td>\n",
              "      <td>-0.014592</td>\n",
              "    </tr>\n",
              "    <tr>\n",
              "      <th>2898</th>\n",
              "      <td>93436</td>\n",
              "      <td>20211231</td>\n",
              "      <td>-0.012669</td>\n",
              "    </tr>\n",
              "  </tbody>\n",
              "</table>\n",
              "<p>2899 rows × 3 columns</p>\n",
              "</div>\n",
              "      <button class=\"colab-df-convert\" onclick=\"convertToInteractive('df-b7aaa0ff-27e9-4e59-a5d4-0946706104b9')\"\n",
              "              title=\"Convert this dataframe to an interactive table.\"\n",
              "              style=\"display:none;\">\n",
              "        \n",
              "  <svg xmlns=\"http://www.w3.org/2000/svg\" height=\"24px\"viewBox=\"0 0 24 24\"\n",
              "       width=\"24px\">\n",
              "    <path d=\"M0 0h24v24H0V0z\" fill=\"none\"/>\n",
              "    <path d=\"M18.56 5.44l.94 2.06.94-2.06 2.06-.94-2.06-.94-.94-2.06-.94 2.06-2.06.94zm-11 1L8.5 8.5l.94-2.06 2.06-.94-2.06-.94L8.5 2.5l-.94 2.06-2.06.94zm10 10l.94 2.06.94-2.06 2.06-.94-2.06-.94-.94-2.06-.94 2.06-2.06.94z\"/><path d=\"M17.41 7.96l-1.37-1.37c-.4-.4-.92-.59-1.43-.59-.52 0-1.04.2-1.43.59L10.3 9.45l-7.72 7.72c-.78.78-.78 2.05 0 2.83L4 21.41c.39.39.9.59 1.41.59.51 0 1.02-.2 1.41-.59l7.78-7.78 2.81-2.81c.8-.78.8-2.07 0-2.86zM5.41 20L4 18.59l7.72-7.72 1.47 1.35L5.41 20z\"/>\n",
              "  </svg>\n",
              "      </button>\n",
              "      \n",
              "  <style>\n",
              "    .colab-df-container {\n",
              "      display:flex;\n",
              "      flex-wrap:wrap;\n",
              "      gap: 12px;\n",
              "    }\n",
              "\n",
              "    .colab-df-convert {\n",
              "      background-color: #E8F0FE;\n",
              "      border: none;\n",
              "      border-radius: 50%;\n",
              "      cursor: pointer;\n",
              "      display: none;\n",
              "      fill: #1967D2;\n",
              "      height: 32px;\n",
              "      padding: 0 0 0 0;\n",
              "      width: 32px;\n",
              "    }\n",
              "\n",
              "    .colab-df-convert:hover {\n",
              "      background-color: #E2EBFA;\n",
              "      box-shadow: 0px 1px 2px rgba(60, 64, 67, 0.3), 0px 1px 3px 1px rgba(60, 64, 67, 0.15);\n",
              "      fill: #174EA6;\n",
              "    }\n",
              "\n",
              "    [theme=dark] .colab-df-convert {\n",
              "      background-color: #3B4455;\n",
              "      fill: #D2E3FC;\n",
              "    }\n",
              "\n",
              "    [theme=dark] .colab-df-convert:hover {\n",
              "      background-color: #434B5C;\n",
              "      box-shadow: 0px 1px 3px 1px rgba(0, 0, 0, 0.15);\n",
              "      filter: drop-shadow(0px 1px 2px rgba(0, 0, 0, 0.3));\n",
              "      fill: #FFFFFF;\n",
              "    }\n",
              "  </style>\n",
              "\n",
              "      <script>\n",
              "        const buttonEl =\n",
              "          document.querySelector('#df-b7aaa0ff-27e9-4e59-a5d4-0946706104b9 button.colab-df-convert');\n",
              "        buttonEl.style.display =\n",
              "          google.colab.kernel.accessAllowed ? 'block' : 'none';\n",
              "\n",
              "        async function convertToInteractive(key) {\n",
              "          const element = document.querySelector('#df-b7aaa0ff-27e9-4e59-a5d4-0946706104b9');\n",
              "          const dataTable =\n",
              "            await google.colab.kernel.invokeFunction('convertToInteractive',\n",
              "                                                     [key], {});\n",
              "          if (!dataTable) return;\n",
              "\n",
              "          const docLinkHtml = 'Like what you see? Visit the ' +\n",
              "            '<a target=\"_blank\" href=https://colab.research.google.com/notebooks/data_table.ipynb>data table notebook</a>'\n",
              "            + ' to learn more about interactive tables.';\n",
              "          element.innerHTML = '';\n",
              "          dataTable['output_type'] = 'display_data';\n",
              "          await google.colab.output.renderOutput(dataTable, element);\n",
              "          const docLink = document.createElement('div');\n",
              "          docLink.innerHTML = docLinkHtml;\n",
              "          element.appendChild(docLink);\n",
              "        }\n",
              "      </script>\n",
              "    </div>\n",
              "  </div>\n",
              "  "
            ]
          },
          "metadata": {}
        }
      ],
      "source": [
        "tsla = pd.read_csv(\"/content/TSLA.csv\")\n",
        "display(tsla)"
      ]
    },
    {
      "cell_type": "code",
      "execution_count": 58,
      "metadata": {
        "colab": {
          "base_uri": "https://localhost:8080/",
          "height": 362
        },
        "id": "sJv56skZIp1L",
        "outputId": "46a99039-639b-42a5-b918-399f1e522778"
      },
      "outputs": [
        {
          "output_type": "stream",
          "name": "stderr",
          "text": [
            "/usr/local/lib/python3.7/dist-packages/seaborn/distributions.py:2619: FutureWarning: `distplot` is a deprecated function and will be removed in a future version. Please adapt your code to use either `displot` (a figure-level function with similar flexibility) or `histplot` (an axes-level function for histograms).\n",
            "  warnings.warn(msg, FutureWarning)\n"
          ]
        },
        {
          "output_type": "display_data",
          "data": {
            "text/plain": [
              "<Figure size 432x288 with 1 Axes>"
            ],
            "image/png": "[encoded data removed]"
          },
          "metadata": {
            "needs_background": "light"
          }
        }
      ],
      "source": [
        "sns.distplot(tsla['RET'].drop(0),bins=100,color='purple')\n",
        "plt.suptitle('Daily % return of Alphabet Inc. stock price,\\n01-04-2020 to 30-09-2020', fontsize=12, color='black')\n",
        "plt.grid(True)\n",
        "plt.show()"
      ]
    },
    {
      "cell_type": "markdown",
      "metadata": {
        "id": "yPtAirubIp1L"
      },
      "source": [
        "## Since this are returns of a stock we expect the distribution to be heavy tailed\n",
        "We dont have enough datapoints to show that the distribution is heavy tailes, still we can see that the mass of the distribution seems to be more concentrated in the middle and in the tail and less on the middle part!"
      ]
    },
    {
      "cell_type": "code",
      "execution_count": 59,
      "metadata": {
        "colab": {
          "base_uri": "https://localhost:8080/",
          "height": 265
        },
        "id": "QOy3jYwBIp1N",
        "outputId": "1de16bbd-b309-46da-f4aa-1897f66cffbb"
      },
      "outputs": [
        {
          "output_type": "display_data",
          "data": {
            "text/plain": [
              "<Figure size 432x288 with 1 Axes>"
            ],
            "image/png": "[encoded data removed]"
          },
          "metadata": {
            "needs_background": "light"
          }
        }
      ],
      "source": [
        "values = tsla['RET'].drop(0).values.astype(float)\n",
        "plt.hist(values, bins=100, density = True, log = False, label = 'Distribution of TSLA returns')\n",
        "mu = values.mean()\n",
        "sigma = values.std()\n",
        "x = np.linspace(mu - 3*sigma, mu + 3*sigma, 100)\n",
        "plt.plot(x, stats.norm.pdf(x, mu, sigma), label = 'Normal distribution')\n",
        "plt.legend()\n",
        "plt.show()"
      ]
    },
    {
      "cell_type": "markdown",
      "source": [
        "Let's look at the most extreeme values to check if there are some outliers that are unreasonable. We can observe below that most extreeme values are have magnitude less than 0.25. Everything looks good as expected (data source is wrds)."
      ],
      "metadata": {
        "id": "H0APhgyyb3xa"
      }
    },
    {
      "cell_type": "code",
      "source": [
        "sortedVals = np.sort(tsla['RET'].drop(0).astype(float).values)\n",
        "print('smallest rets',sortedVals[:10])\n",
        "print('biggest rets',sortedVals[-10:])"
      ],
      "metadata": {
        "colab": {
          "base_uri": "https://localhost:8080/"
        },
        "id": "tu6VLreAb1sr",
        "outputId": "18ae8f81-ab2b-4d05-e28a-9f247ff993e6"
      },
      "execution_count": 60,
      "outputs": [
        {
          "output_type": "stream",
          "name": "stdout",
          "text": [
            "smallest rets [-0.210628 -0.193274 -0.185778 -0.171758 -0.160938 -0.160344 -0.150914\n",
            " -0.145071 -0.143093 -0.139015]\n",
            "biggest rets [0.165338 0.167179 0.170392 0.173471 0.176692 0.183877 0.192042 0.196412\n",
            " 0.198949 0.244029]\n"
          ]
        }
      ]
    },
    {
      "cell_type": "code",
      "execution_count": 61,
      "metadata": {
        "id": "KaJGreNUIp1O",
        "colab": {
          "base_uri": "https://localhost:8080/",
          "height": 661
        },
        "outputId": "17c60ebb-6008-4d93-f4bf-1a1ee0bca740"
      },
      "outputs": [
        {
          "output_type": "execute_result",
          "data": {
            "text/plain": [
              "       Tweet UserScreenName   UserName                 Timestamp  \\\n",
              "0          0      Elon Musk  @elonmusk  2010-06-04T18:31:57.000Z   \n",
              "1          1      Elon Musk  @elonmusk  2011-12-01T09:55:11.000Z   \n",
              "2          2      Elon Musk  @elonmusk  2011-12-01T10:29:04.000Z   \n",
              "3          3      Elon Musk  @elonmusk  2011-12-03T08:20:28.000Z   \n",
              "4          4      Elon Musk  @elonmusk  2011-12-03T08:22:07.000Z   \n",
              "...      ...            ...        ...                       ...   \n",
              "12201  12201      Elon Musk  @elonmusk  2022-03-03T04:25:03.000Z   \n",
              "12202  12202      Elon Musk  @elonmusk  2022-03-03T08:13:32.000Z   \n",
              "12203  12203      Elon Musk  @elonmusk  2022-03-02T03:15:03.000Z   \n",
              "12204  12204      Elon Musk  @elonmusk  2022-03-04T21:40:29.000Z   \n",
              "12205  12205      Elon Musk  @elonmusk  2022-03-04T19:17:16.000Z   \n",
              "\n",
              "                                                    text Emojis Comments  \\\n",
              "0      Please ignore prior tweets, as that was someon...    NaN      873   \n",
              "1      Went to Iceland on Sat to ride bumper cars on ...    NaN       30   \n",
              "2      I made the volume on the Model S http://ow.ly/...    NaN       29   \n",
              "3      Great Voltaire quote, arguably better than Twa...    NaN       23   \n",
              "4          That was a total non sequitur btw\\n26\\n14\\n50    NaN       26   \n",
              "...                                                  ...    ...      ...   \n",
              "12201      Replying to \\n@TheBabylonBee\\n515\\n464\\n14.5K      🤣      515   \n",
              "12202  Replying to \\n@OwenSparks_\\n @ICannot_Enough\\n...    NaN      286   \n",
              "12203  Replying to \\n@DBurkland\\nInvestigating\\n350\\n...    NaN      350   \n",
              "12204  Replying to \\n@RenataKonkoly\\n @MLUKBrandenbur...    NaN      233   \n",
              "12205  Replying to \\n@MLUKBrandenburg\\n @gigafactory_...    NaN      620   \n",
              "\n",
              "      Likes Retweets                                         Image link  \\\n",
              "0       648    5,453                                                 []   \n",
              "1        24      188  ['https://pbs.twimg.com/media/Afkf5DMCAAEJGFr?...   \n",
              "2        17       78                                                 []   \n",
              "3        30       44                                                 []   \n",
              "4        14       50                                                 []   \n",
              "...     ...      ...                                                ...   \n",
              "12201   464    14.5K                                                 []   \n",
              "12202   204    4,003                                                 []   \n",
              "12203   165    5,133                                                 []   \n",
              "12204   185    4,191                                                 []   \n",
              "12205   822      11K                                                 []   \n",
              "\n",
              "                                               Tweet URL  \n",
              "0        https://twitter.com/elonmusk/status/15434727182  \n",
              "1      https://twitter.com/elonmusk/status/1421799282...  \n",
              "2      https://twitter.com/elonmusk/status/1421884581...  \n",
              "3      https://twitter.com/elonmusk/status/1428808713...  \n",
              "4      https://twitter.com/elonmusk/status/1428812840...  \n",
              "...                                                  ...  \n",
              "12201  https://twitter.com/elonmusk/status/1499239406...  \n",
              "12202  https://twitter.com/elonmusk/status/1499296906...  \n",
              "12203  https://twitter.com/elonmusk/status/1498859400...  \n",
              "12204  https://twitter.com/elonmusk/status/1499862369...  \n",
              "12205  https://twitter.com/elonmusk/status/1499826328...  \n",
              "\n",
              "[12206 rows x 11 columns]"
            ],
            "text/html": [
              "\n",
              "  <div id=\"df-ece4f42f-eeae-4d03-b79c-934e956d3c5d\">\n",
              "    <div class=\"colab-df-container\">\n",
              "      <div>\n",
              "<style scoped>\n",
              "    .dataframe tbody tr th:only-of-type {\n",
              "        vertical-align: middle;\n",
              "    }\n",
              "\n",
              "    .dataframe tbody tr th {\n",
              "        vertical-align: top;\n",
              "    }\n",
              "\n",
              "    .dataframe thead th {\n",
              "        text-align: right;\n",
              "    }\n",
              "</style>\n",
              "<table border=\"1\" class=\"dataframe\">\n",
              "  <thead>\n",
              "    <tr style=\"text-align: right;\">\n",
              "      <th></th>\n",
              "      <th>Tweet</th>\n",
              "      <th>UserScreenName</th>\n",
              "      <th>UserName</th>\n",
              "      <th>Timestamp</th>\n",
              "      <th>text</th>\n",
              "      <th>Emojis</th>\n",
              "      <th>Comments</th>\n",
              "      <th>Likes</th>\n",
              "      <th>Retweets</th>\n",
              "      <th>Image link</th>\n",
              "      <th>Tweet URL</th>\n",
              "    </tr>\n",
              "  </thead>\n",
              "  <tbody>\n",
              "    <tr>\n",
              "      <th>0</th>\n",
              "      <td>0</td>\n",
              "      <td>Elon Musk</td>\n",
              "      <td>@elonmusk</td>\n",
              "      <td>2010-06-04T18:31:57.000Z</td>\n",
              "      <td>Please ignore prior tweets, as that was someon...</td>\n",
              "      <td>NaN</td>\n",
              "      <td>873</td>\n",
              "      <td>648</td>\n",
              "      <td>5,453</td>\n",
              "      <td>[]</td>\n",
              "      <td>https://twitter.com/elonmusk/status/15434727182</td>\n",
              "    </tr>\n",
              "    <tr>\n",
              "      <th>1</th>\n",
              "      <td>1</td>\n",
              "      <td>Elon Musk</td>\n",
              "      <td>@elonmusk</td>\n",
              "      <td>2011-12-01T09:55:11.000Z</td>\n",
              "      <td>Went to Iceland on Sat to ride bumper cars on ...</td>\n",
              "      <td>NaN</td>\n",
              "      <td>30</td>\n",
              "      <td>24</td>\n",
              "      <td>188</td>\n",
              "      <td>['https://pbs.twimg.com/media/Afkf5DMCAAEJGFr?...</td>\n",
              "      <td>https://twitter.com/elonmusk/status/1421799282...</td>\n",
              "    </tr>\n",
              "    <tr>\n",
              "      <th>2</th>\n",
              "      <td>2</td>\n",
              "      <td>Elon Musk</td>\n",
              "      <td>@elonmusk</td>\n",
              "      <td>2011-12-01T10:29:04.000Z</td>\n",
              "      <td>I made the volume on the Model S http://ow.ly/...</td>\n",
              "      <td>NaN</td>\n",
              "      <td>29</td>\n",
              "      <td>17</td>\n",
              "      <td>78</td>\n",
              "      <td>[]</td>\n",
              "      <td>https://twitter.com/elonmusk/status/1421884581...</td>\n",
              "    </tr>\n",
              "    <tr>\n",
              "      <th>3</th>\n",
              "      <td>3</td>\n",
              "      <td>Elon Musk</td>\n",
              "      <td>@elonmusk</td>\n",
              "      <td>2011-12-03T08:20:28.000Z</td>\n",
              "      <td>Great Voltaire quote, arguably better than Twa...</td>\n",
              "      <td>NaN</td>\n",
              "      <td>23</td>\n",
              "      <td>30</td>\n",
              "      <td>44</td>\n",
              "      <td>[]</td>\n",
              "      <td>https://twitter.com/elonmusk/status/1428808713...</td>\n",
              "    </tr>\n",
              "    <tr>\n",
              "      <th>4</th>\n",
              "      <td>4</td>\n",
              "      <td>Elon Musk</td>\n",
              "      <td>@elonmusk</td>\n",
              "      <td>2011-12-03T08:22:07.000Z</td>\n",
              "      <td>That was a total non sequitur btw\\n26\\n14\\n50</td>\n",
              "      <td>NaN</td>\n",
              "      <td>26</td>\n",
              "      <td>14</td>\n",
              "      <td>50</td>\n",
              "      <td>[]</td>\n",
              "      <td>https://twitter.com/elonmusk/status/1428812840...</td>\n",
              "    </tr>\n",
              "    <tr>\n",
              "      <th>...</th>\n",
              "      <td>...</td>\n",
              "      <td>...</td>\n",
              "      <td>...</td>\n",
              "      <td>...</td>\n",
              "      <td>...</td>\n",
              "      <td>...</td>\n",
              "      <td>...</td>\n",
              "      <td>...</td>\n",
              "      <td>...</td>\n",
              "      <td>...</td>\n",
              "      <td>...</td>\n",
              "    </tr>\n",
              "    <tr>\n",
              "      <th>12201</th>\n",
              "      <td>12201</td>\n",
              "      <td>Elon Musk</td>\n",
              "      <td>@elonmusk</td>\n",
              "      <td>2022-03-03T04:25:03.000Z</td>\n",
              "      <td>Replying to \\n@TheBabylonBee\\n515\\n464\\n14.5K</td>\n",
              "      <td>🤣</td>\n",
              "      <td>515</td>\n",
              "      <td>464</td>\n",
              "      <td>14.5K</td>\n",
              "      <td>[]</td>\n",
              "      <td>https://twitter.com/elonmusk/status/1499239406...</td>\n",
              "    </tr>\n",
              "    <tr>\n",
              "      <th>12202</th>\n",
              "      <td>12202</td>\n",
              "      <td>Elon Musk</td>\n",
              "      <td>@elonmusk</td>\n",
              "      <td>2022-03-03T08:13:32.000Z</td>\n",
              "      <td>Replying to \\n@OwenSparks_\\n @ICannot_Enough\\n...</td>\n",
              "      <td>NaN</td>\n",
              "      <td>286</td>\n",
              "      <td>204</td>\n",
              "      <td>4,003</td>\n",
              "      <td>[]</td>\n",
              "      <td>https://twitter.com/elonmusk/status/1499296906...</td>\n",
              "    </tr>\n",
              "    <tr>\n",
              "      <th>12203</th>\n",
              "      <td>12203</td>\n",
              "      <td>Elon Musk</td>\n",
              "      <td>@elonmusk</td>\n",
              "      <td>2022-03-02T03:15:03.000Z</td>\n",
              "      <td>Replying to \\n@DBurkland\\nInvestigating\\n350\\n...</td>\n",
              "      <td>NaN</td>\n",
              "      <td>350</td>\n",
              "      <td>165</td>\n",
              "      <td>5,133</td>\n",
              "      <td>[]</td>\n",
              "      <td>https://twitter.com/elonmusk/status/1498859400...</td>\n",
              "    </tr>\n",
              "    <tr>\n",
              "      <th>12204</th>\n",
              "      <td>12204</td>\n",
              "      <td>Elon Musk</td>\n",
              "      <td>@elonmusk</td>\n",
              "      <td>2022-03-04T21:40:29.000Z</td>\n",
              "      <td>Replying to \\n@RenataKonkoly\\n @MLUKBrandenbur...</td>\n",
              "      <td>NaN</td>\n",
              "      <td>233</td>\n",
              "      <td>185</td>\n",
              "      <td>4,191</td>\n",
              "      <td>[]</td>\n",
              "      <td>https://twitter.com/elonmusk/status/1499862369...</td>\n",
              "    </tr>\n",
              "    <tr>\n",
              "      <th>12205</th>\n",
              "      <td>12205</td>\n",
              "      <td>Elon Musk</td>\n",
              "      <td>@elonmusk</td>\n",
              "      <td>2022-03-04T19:17:16.000Z</td>\n",
              "      <td>Replying to \\n@MLUKBrandenburg\\n @gigafactory_...</td>\n",
              "      <td>NaN</td>\n",
              "      <td>620</td>\n",
              "      <td>822</td>\n",
              "      <td>11K</td>\n",
              "      <td>[]</td>\n",
              "      <td>https://twitter.com/elonmusk/status/1499826328...</td>\n",
              "    </tr>\n",
              "  </tbody>\n",
              "</table>\n",
              "<p>12206 rows × 11 columns</p>\n",
              "</div>\n",
              "      <button class=\"colab-df-convert\" onclick=\"convertToInteractive('df-ece4f42f-eeae-4d03-b79c-934e956d3c5d')\"\n",
              "              title=\"Convert this dataframe to an interactive table.\"\n",
              "              style=\"display:none;\">\n",
              "        \n",
              "  <svg xmlns=\"http://www.w3.org/2000/svg\" height=\"24px\"viewBox=\"0 0 24 24\"\n",
              "       width=\"24px\">\n",
              "    <path d=\"M0 0h24v24H0V0z\" fill=\"none\"/>\n",
              "    <path d=\"M18.56 5.44l.94 2.06.94-2.06 2.06-.94-2.06-.94-.94-2.06-.94 2.06-2.06.94zm-11 1L8.5 8.5l.94-2.06 2.06-.94-2.06-.94L8.5 2.5l-.94 2.06-2.06.94zm10 10l.94 2.06.94-2.06 2.06-.94-2.06-.94-.94-2.06-.94 2.06-2.06.94z\"/><path d=\"M17.41 7.96l-1.37-1.37c-.4-.4-.92-.59-1.43-.59-.52 0-1.04.2-1.43.59L10.3 9.45l-7.72 7.72c-.78.78-.78 2.05 0 2.83L4 21.41c.39.39.9.59 1.41.59.51 0 1.02-.2 1.41-.59l7.78-7.78 2.81-2.81c.8-.78.8-2.07 0-2.86zM5.41 20L4 18.59l7.72-7.72 1.47 1.35L5.41 20z\"/>\n",
              "  </svg>\n",
              "      </button>\n",
              "      \n",
              "  <style>\n",
              "    .colab-df-container {\n",
              "      display:flex;\n",
              "      flex-wrap:wrap;\n",
              "      gap: 12px;\n",
              "    }\n",
              "\n",
              "    .colab-df-convert {\n",
              "      background-color: #E8F0FE;\n",
              "      border: none;\n",
              "      border-radius: 50%;\n",
              "      cursor: pointer;\n",
              "      display: none;\n",
              "      fill: #1967D2;\n",
              "      height: 32px;\n",
              "      padding: 0 0 0 0;\n",
              "      width: 32px;\n",
              "    }\n",
              "\n",
              "    .colab-df-convert:hover {\n",
              "      background-color: #E2EBFA;\n",
              "      box-shadow: 0px 1px 2px rgba(60, 64, 67, 0.3), 0px 1px 3px 1px rgba(60, 64, 67, 0.15);\n",
              "      fill: #174EA6;\n",
              "    }\n",
              "\n",
              "    [theme=dark] .colab-df-convert {\n",
              "      background-color: #3B4455;\n",
              "      fill: #D2E3FC;\n",
              "    }\n",
              "\n",
              "    [theme=dark] .colab-df-convert:hover {\n",
              "      background-color: #434B5C;\n",
              "      box-shadow: 0px 1px 3px 1px rgba(0, 0, 0, 0.15);\n",
              "      filter: drop-shadow(0px 1px 2px rgba(0, 0, 0, 0.3));\n",
              "      fill: #FFFFFF;\n",
              "    }\n",
              "  </style>\n",
              "\n",
              "      <script>\n",
              "        const buttonEl =\n",
              "          document.querySelector('#df-ece4f42f-eeae-4d03-b79c-934e956d3c5d button.colab-df-convert');\n",
              "        buttonEl.style.display =\n",
              "          google.colab.kernel.accessAllowed ? 'block' : 'none';\n",
              "\n",
              "        async function convertToInteractive(key) {\n",
              "          const element = document.querySelector('#df-ece4f42f-eeae-4d03-b79c-934e956d3c5d');\n",
              "          const dataTable =\n",
              "            await google.colab.kernel.invokeFunction('convertToInteractive',\n",
              "                                                     [key], {});\n",
              "          if (!dataTable) return;\n",
              "\n",
              "          const docLinkHtml = 'Like what you see? Visit the ' +\n",
              "            '<a target=\"_blank\" href=https://colab.research.google.com/notebooks/data_table.ipynb>data table notebook</a>'\n",
              "            + ' to learn more about interactive tables.';\n",
              "          element.innerHTML = '';\n",
              "          dataTable['output_type'] = 'display_data';\n",
              "          await google.colab.output.renderOutput(dataTable, element);\n",
              "          const docLink = document.createElement('div');\n",
              "          docLink.innerHTML = docLinkHtml;\n",
              "          element.appendChild(docLink);\n",
              "        }\n",
              "      </script>\n",
              "    </div>\n",
              "  </div>\n",
              "  "
            ]
          },
          "metadata": {},
          "execution_count": 61
        }
      ],
      "source": [
        "df = pd.read_csv(\"/content/elonmusk.csv\")\n",
        "df"
      ]
    },
    {
      "cell_type": "code",
      "source": [
        "df['text']= df['text'].astype(str)"
      ],
      "metadata": {
        "id": "U6lBRMt7K_I9"
      },
      "execution_count": 62,
      "outputs": []
    },
    {
      "cell_type": "markdown",
      "source": [
        "Let's look at some of our tweets:\n",
        "after looking at some tweets here is one that explain all our unexpected foundings."
      ],
      "metadata": {
        "id": "cnywy300d-Sg"
      }
    },
    {
      "cell_type": "code",
      "source": [
        "for text in list(df['text'][df['text'].apply(lambda x: x[:13] == ('Replying to ' + '\\n'))].iloc[88:89]):\n",
        "  print(text)\n",
        "  print(\"----------------------------------------------\")\n",
        "print(df['text'].iloc[12202])"
      ],
      "metadata": {
        "colab": {
          "base_uri": "https://localhost:8080/"
        },
        "id": "2m9a-xbXOUH4",
        "outputId": "32dfffd8-efd1-49fd-dc62-4c760a210494"
      },
      "execution_count": 63,
      "outputs": [
        {
          "output_type": "stream",
          "name": "stdout",
          "text": [
            "Replying to \n",
            "@TheMilns\n",
            "@TheMilns\n",
            " Try this: http://m.youtube.com/#/watch?feature=youtu.be&v=se7_JpbtPwA&desktop_uri=%2Fwatch%3Fv%3Dse7_JpbtPwA%26feature%3Dyoutu.be…\n",
            "2\n",
            "4\n",
            "3\n",
            "----------------------------------------------\n",
            "Replying to \n",
            "@OwenSparks_\n",
            " @ICannot_Enough\n",
            " and 2 others\n",
            "Yes\n",
            "286\n",
            "204\n",
            "4,003\n"
          ]
        }
      ]
    },
    {
      "cell_type": "code",
      "source": [
        "for i in range(100,1000):\n",
        "  for text in list(df['text'][df['text'].apply(lambda x: 'and '+str(i) +'others' in x)].values[0:100]):\n",
        "    print(text)\n",
        "    print(\"----------------------------------------------\")"
      ],
      "metadata": {
        "id": "eczv9gAzUdUx"
      },
      "execution_count": 64,
      "outputs": []
    },
    {
      "cell_type": "markdown",
      "source": [
        "By looking into some tweets we can see that:\n",
        "* We have the last 3 numbers that are the number of comments/likes/retweets that we need to remove!\n",
        "* Some tweets starts with \n",
        "\n",
        "      Replying to \n",
        "\n",
        "      @FareedZakaria\n",
        "\n",
        "      @FareedZakaria\n",
        "\n",
        "      (Could be followed by) 'and number others'\n",
        "We need to remove it.\n",
        "* There are many websites url that are not really informative and we could think about removing them\n",
        "* From last cell above we can see that the maximum number contained in a 'and number others' inside a tweet is 100. (We will assume that in the following implementation)\n"
      ],
      "metadata": {
        "id": "WQJLhE0qOyBo"
      }
    },
    {
      "cell_type": "code",
      "source": [
        "def reformat(text):\n",
        "  \"\"\"for every line in the tweets remove white spaces\n",
        "  that are at the beginning or at the end of the line\"\"\"\n",
        "  return \"\\n\".join([line.strip() for line in text.split('\\n')])\n",
        "  \n",
        "def removeReplyingTo(text):\n",
        "  \"\"\"Remove all expression 'Replying to' followed by a list\n",
        "  of '@user' (and sometimes) and n others\"\"\"\n",
        "  # if the sentence contains an expression\n",
        "  # of type 'Replying to' followed by a list\n",
        "  # of '@user' we remove them\n",
        "  if text[:12] == ('Replying to' + '\\n'):\n",
        "    text = text[12:]\n",
        "    while (text != '' and text[0] == '@'):\n",
        "      try : \n",
        "        idx = text.index('\\n') \n",
        "        idx += 1\n",
        "      except:\n",
        "        break\n",
        "      if(len(text[:idx].split(\" \")) == 1):\n",
        "        text = text[idx:]\n",
        "      else: break\n",
        "  # if the sentence contains an expression\n",
        "  # of type 'and number others' we remove it\n",
        "  if text[0:4] == 'and ':\n",
        "    if text[6:12] == 'others':\n",
        "      text = text[13:]\n",
        "    elif text[7:13] == 'others':\n",
        "      text = text[14:]\n",
        "  return text\n",
        "\n",
        "def removeEndNumbers(text):\n",
        "  \"\"\"Removes last three lines from a tweet, this lines are containing number of \\\n",
        "   comments/likes/retweets\"\"\"\n",
        "  return \"\\n\".join(text.split('\\n')[0:-3])\n",
        "\n",
        "def removeUrls(text):\n",
        "  \"\"\"Remove URLS\"\"\"\n",
        "  text = re.sub(r\"http\\S+\", \"\", text)\n",
        "  text = re.sub(r\"https\\S+\", \"\", text)\n",
        "  return text\n",
        "\n",
        "def clean_prepro(df):\n",
        "  df = df.apply(lambda text: reformat(text))\n",
        "  df_clean = df.apply(lambda text: removeEndNumbers(text))\n",
        "  print(\"I'm done part 1\")\n",
        "  df_clean = df_clean.apply(lambda text: removeUrls(text))\n",
        "  print(\"I'm done part 2\")\n",
        "  df_clean = df_clean.apply(lambda text: removeReplyingTo(text))\n",
        "  print(\"I'm done part 3\")\n",
        "  return df_clean"
      ],
      "metadata": {
        "id": "wqtrkdCRKJoi"
      },
      "execution_count": 65,
      "outputs": []
    },
    {
      "cell_type": "code",
      "source": [
        "# testing\n",
        "print(\"--------------------FIRST TEST--------------------------------\")\n",
        "text = df['text'].iloc[12202]\n",
        "print(text)\n",
        "print(removeReplyingTo(removeEndNumbers(text)))\n",
        "print(\"--------------------SECOND TEST--------------------------------\")\n",
        "text = df['text'].iloc[457]\t\n",
        "print(text)\n",
        "removeReplyingTo(removeUrls(removeEndNumbers(text)))"
      ],
      "metadata": {
        "colab": {
          "base_uri": "https://localhost:8080/",
          "height": 418
        },
        "id": "LniZLA-DXsJW",
        "outputId": "e912b217-8546-4c09-fc07-f44c003878d1"
      },
      "execution_count": 44,
      "outputs": [
        {
          "output_type": "stream",
          "name": "stdout",
          "text": [
            "--------------------FIRST TEST--------------------------------\n",
            "Replying to \n",
            "@OwenSparks_\n",
            " @ICannot_Enough\n",
            " and 2 others\n",
            "Yes\n",
            "286\n",
            "204\n",
            "4,003\n",
            "Replying to \n",
            "@OwenSparks_\n",
            " @ICannot_Enough\n",
            " and 2 others\n",
            "Yes\n",
            "--------------------SECOND TEST--------------------------------\n",
            "Replying to \n",
            "@TheMilns\n",
            "@TheMilns\n",
            " Try this: http://m.youtube.com/#/watch?feature=youtu.be&v=se7_JpbtPwA&desktop_uri=%2Fwatch%3Fv%3Dse7_JpbtPwA%26feature%3Dyoutu.be…\n",
            "2\n",
            "4\n",
            "3\n"
          ]
        },
        {
          "output_type": "execute_result",
          "data": {
            "text/plain": [
              "'Replying to \\n@TheMilns\\n@TheMilns\\n Try this: '"
            ],
            "application/vnd.google.colaboratory.intrinsic+json": {
              "type": "string"
            }
          },
          "metadata": {},
          "execution_count": 44
        }
      ]
    },
    {
      "cell_type": "code",
      "source": [
        "df['length'] = df['text'].apply(lambda text: len(text.split()))\n"
      ],
      "metadata": {
        "id": "4x-AcR4DXxEK"
      },
      "execution_count": 66,
      "outputs": []
    },
    {
      "cell_type": "code",
      "execution_count": 67,
      "metadata": {
        "id": "p0a2snLjIp1P"
      },
      "outputs": [],
      "source": [
        "df['day'] = pd.to_datetime(df['Timestamp'].apply(lambda date : date[0:10]))"
      ]
    },
    {
      "cell_type": "markdown",
      "metadata": {
        "id": "6Hdyoc52PY1F"
      },
      "source": [
        "We can see that often tweets are starting with Replying to @USER, this part of the tweet is not informative for us, and will probably be removed from the dataset."
      ]
    },
    {
      "cell_type": "markdown",
      "metadata": {
        "id": "_JNKw-gBIp1P"
      },
      "source": [
        "## 2. Let's explore the distribution of lenght of tweets."
      ]
    },
    {
      "cell_type": "code",
      "execution_count": 68,
      "metadata": {
        "colab": {
          "base_uri": "https://localhost:8080/",
          "height": 295
        },
        "id": "Kq15PoFxIp1P",
        "outputId": "b6c1bc78-e236-4423-a2a2-740236698eaf"
      },
      "outputs": [
        {
          "output_type": "display_data",
          "data": {
            "text/plain": [
              "<Figure size 432x288 with 1 Axes>"
            ],
            "image/png": "[encoded data removed]"
          },
          "metadata": {
            "needs_background": "light"
          }
        }
      ],
      "source": [
        "#Plotting an histogram of the length of the quotations in words.   \n",
        "plothisto(df['length'], 'length','number of occurences','distribution of number of words in the quotes',50)"
      ]
    },
    {
      "cell_type": "markdown",
      "metadata": {
        "id": "6SAufSYiIp1Q"
      },
      "source": [
        "## 2. Let's explore the tweets mean lenght over time."
      ]
    },
    {
      "cell_type": "code",
      "execution_count": 69,
      "metadata": {
        "colab": {
          "base_uri": "https://localhost:8080/",
          "height": 423
        },
        "id": "vCzTM-yyIp1Q",
        "outputId": "13cf5746-762a-407a-fd24-fcf845eff558"
      },
      "outputs": [
        {
          "output_type": "display_data",
          "data": {
            "text/plain": [
              "            day     length\n",
              "0    2010-06-04  20.000000\n",
              "1    2011-12-01  26.000000\n",
              "2    2011-12-03  17.000000\n",
              "3    2011-12-04  15.000000\n",
              "4    2011-12-21  27.142857\n",
              "...         ...        ...\n",
              "2224 2022-02-26  11.333333\n",
              "2225 2022-03-01  26.000000\n",
              "2226 2022-03-02  29.428571\n",
              "2227 2022-03-03  28.285714\n",
              "2228 2022-03-04  15.000000\n",
              "\n",
              "[2229 rows x 2 columns]"
            ],
            "text/html": [
              "\n",
              "  <div id=\"df-9925428a-e791-4c85-be3b-21946109ea9c\">\n",
              "    <div class=\"colab-df-container\">\n",
              "      <div>\n",
              "<style scoped>\n",
              "    .dataframe tbody tr th:only-of-type {\n",
              "        vertical-align: middle;\n",
              "    }\n",
              "\n",
              "    .dataframe tbody tr th {\n",
              "        vertical-align: top;\n",
              "    }\n",
              "\n",
              "    .dataframe thead th {\n",
              "        text-align: right;\n",
              "    }\n",
              "</style>\n",
              "<table border=\"1\" class=\"dataframe\">\n",
              "  <thead>\n",
              "    <tr style=\"text-align: right;\">\n",
              "      <th></th>\n",
              "      <th>day</th>\n",
              "      <th>length</th>\n",
              "    </tr>\n",
              "  </thead>\n",
              "  <tbody>\n",
              "    <tr>\n",
              "      <th>0</th>\n",
              "      <td>2010-06-04</td>\n",
              "      <td>20.000000</td>\n",
              "    </tr>\n",
              "    <tr>\n",
              "      <th>1</th>\n",
              "      <td>2011-12-01</td>\n",
              "      <td>26.000000</td>\n",
              "    </tr>\n",
              "    <tr>\n",
              "      <th>2</th>\n",
              "      <td>2011-12-03</td>\n",
              "      <td>17.000000</td>\n",
              "    </tr>\n",
              "    <tr>\n",
              "      <th>3</th>\n",
              "      <td>2011-12-04</td>\n",
              "      <td>15.000000</td>\n",
              "    </tr>\n",
              "    <tr>\n",
              "      <th>4</th>\n",
              "      <td>2011-12-21</td>\n",
              "      <td>27.142857</td>\n",
              "    </tr>\n",
              "    <tr>\n",
              "      <th>...</th>\n",
              "      <td>...</td>\n",
              "      <td>...</td>\n",
              "    </tr>\n",
              "    <tr>\n",
              "      <th>2224</th>\n",
              "      <td>2022-02-26</td>\n",
              "      <td>11.333333</td>\n",
              "    </tr>\n",
              "    <tr>\n",
              "      <th>2225</th>\n",
              "      <td>2022-03-01</td>\n",
              "      <td>26.000000</td>\n",
              "    </tr>\n",
              "    <tr>\n",
              "      <th>2226</th>\n",
              "      <td>2022-03-02</td>\n",
              "      <td>29.428571</td>\n",
              "    </tr>\n",
              "    <tr>\n",
              "      <th>2227</th>\n",
              "      <td>2022-03-03</td>\n",
              "      <td>28.285714</td>\n",
              "    </tr>\n",
              "    <tr>\n",
              "      <th>2228</th>\n",
              "      <td>2022-03-04</td>\n",
              "      <td>15.000000</td>\n",
              "    </tr>\n",
              "  </tbody>\n",
              "</table>\n",
              "<p>2229 rows × 2 columns</p>\n",
              "</div>\n",
              "      <button class=\"colab-df-convert\" onclick=\"convertToInteractive('df-9925428a-e791-4c85-be3b-21946109ea9c')\"\n",
              "              title=\"Convert this dataframe to an interactive table.\"\n",
              "              style=\"display:none;\">\n",
              "        \n",
              "  <svg xmlns=\"http://www.w3.org/2000/svg\" height=\"24px\"viewBox=\"0 0 24 24\"\n",
              "       width=\"24px\">\n",
              "    <path d=\"M0 0h24v24H0V0z\" fill=\"none\"/>\n",
              "    <path d=\"M18.56 5.44l.94 2.06.94-2.06 2.06-.94-2.06-.94-.94-2.06-.94 2.06-2.06.94zm-11 1L8.5 8.5l.94-2.06 2.06-.94-2.06-.94L8.5 2.5l-.94 2.06-2.06.94zm10 10l.94 2.06.94-2.06 2.06-.94-2.06-.94-.94-2.06-.94 2.06-2.06.94z\"/><path d=\"M17.41 7.96l-1.37-1.37c-.4-.4-.92-.59-1.43-.59-.52 0-1.04.2-1.43.59L10.3 9.45l-7.72 7.72c-.78.78-.78 2.05 0 2.83L4 21.41c.39.39.9.59 1.41.59.51 0 1.02-.2 1.41-.59l7.78-7.78 2.81-2.81c.8-.78.8-2.07 0-2.86zM5.41 20L4 18.59l7.72-7.72 1.47 1.35L5.41 20z\"/>\n",
              "  </svg>\n",
              "      </button>\n",
              "      \n",
              "  <style>\n",
              "    .colab-df-container {\n",
              "      display:flex;\n",
              "      flex-wrap:wrap;\n",
              "      gap: 12px;\n",
              "    }\n",
              "\n",
              "    .colab-df-convert {\n",
              "      background-color: #E8F0FE;\n",
              "      border: none;\n",
              "      border-radius: 50%;\n",
              "      cursor: pointer;\n",
              "      display: none;\n",
              "      fill: #1967D2;\n",
              "      height: 32px;\n",
              "      padding: 0 0 0 0;\n",
              "      width: 32px;\n",
              "    }\n",
              "\n",
              "    .colab-df-convert:hover {\n",
              "      background-color: #E2EBFA;\n",
              "      box-shadow: 0px 1px 2px rgba(60, 64, 67, 0.3), 0px 1px 3px 1px rgba(60, 64, 67, 0.15);\n",
              "      fill: #174EA6;\n",
              "    }\n",
              "\n",
              "    [theme=dark] .colab-df-convert {\n",
              "      background-color: #3B4455;\n",
              "      fill: #D2E3FC;\n",
              "    }\n",
              "\n",
              "    [theme=dark] .colab-df-convert:hover {\n",
              "      background-color: #434B5C;\n",
              "      box-shadow: 0px 1px 3px 1px rgba(0, 0, 0, 0.15);\n",
              "      filter: drop-shadow(0px 1px 2px rgba(0, 0, 0, 0.3));\n",
              "      fill: #FFFFFF;\n",
              "    }\n",
              "  </style>\n",
              "\n",
              "      <script>\n",
              "        const buttonEl =\n",
              "          document.querySelector('#df-9925428a-e791-4c85-be3b-21946109ea9c button.colab-df-convert');\n",
              "        buttonEl.style.display =\n",
              "          google.colab.kernel.accessAllowed ? 'block' : 'none';\n",
              "\n",
              "        async function convertToInteractive(key) {\n",
              "          const element = document.querySelector('#df-9925428a-e791-4c85-be3b-21946109ea9c');\n",
              "          const dataTable =\n",
              "            await google.colab.kernel.invokeFunction('convertToInteractive',\n",
              "                                                     [key], {});\n",
              "          if (!dataTable) return;\n",
              "\n",
              "          const docLinkHtml = 'Like what you see? Visit the ' +\n",
              "            '<a target=\"_blank\" href=https://colab.research.google.com/notebooks/data_table.ipynb>data table notebook</a>'\n",
              "            + ' to learn more about interactive tables.';\n",
              "          element.innerHTML = '';\n",
              "          dataTable['output_type'] = 'display_data';\n",
              "          await google.colab.output.renderOutput(dataTable, element);\n",
              "          const docLink = document.createElement('div');\n",
              "          docLink.innerHTML = docLinkHtml;\n",
              "          element.appendChild(docLink);\n",
              "        }\n",
              "      </script>\n",
              "    </div>\n",
              "  </div>\n",
              "  "
            ]
          },
          "metadata": {}
        }
      ],
      "source": [
        "dailylen = df[['length','day']].groupby(by = 'day').mean().reset_index()\n",
        "display(dailylen)"
      ]
    },
    {
      "cell_type": "code",
      "execution_count": 70,
      "metadata": {
        "colab": {
          "base_uri": "https://localhost:8080/",
          "height": 265
        },
        "id": "2pUCg8-HIp1Q",
        "outputId": "25a56d7d-e392-4a2a-bb2c-f1470baa99de"
      },
      "outputs": [
        {
          "output_type": "display_data",
          "data": {
            "text/plain": [
              "<Figure size 432x288 with 1 Axes>"
            ],
            "image/png": "[encoded data removed]"
          },
          "metadata": {
            "needs_background": "light"
          }
        }
      ],
      "source": [
        "plt.scatter(dailylen['day'], dailylen['length']);"
      ]
    },
    {
      "cell_type": "code",
      "execution_count": 71,
      "metadata": {
        "colab": {
          "base_uri": "https://localhost:8080/",
          "height": 226
        },
        "id": "Xckqh90TIp1Q",
        "outputId": "9c00a88e-5bfe-4241-d886-7799816874ad"
      },
      "outputs": [
        {
          "output_type": "display_data",
          "data": {
            "text/plain": [
              "0        733927\n",
              "1        734472\n",
              "2        734472\n",
              "3        734474\n",
              "4        734474\n",
              "          ...  \n",
              "12201    738217\n",
              "12202    738217\n",
              "12203    738216\n",
              "12204    738218\n",
              "12205    738218\n",
              "Name: date_ordinal, Length: 12206, dtype: int64"
            ]
          },
          "metadata": {}
        }
      ],
      "source": [
        "df['date_ordinal'] = pd.to_datetime(df['Timestamp']).apply(lambda date: date.toordinal())\n",
        "display(df['date_ordinal'])"
      ]
    },
    {
      "cell_type": "code",
      "execution_count": 72,
      "metadata": {
        "colab": {
          "base_uri": "https://localhost:8080/",
          "height": 280
        },
        "id": "ERx-SPZ4Ip1R",
        "outputId": "6f46907e-ce06-40d0-b700-14df0dbb9717"
      },
      "outputs": [
        {
          "output_type": "display_data",
          "data": {
            "text/plain": [
              "<Figure size 432x288 with 1 Axes>"
            ],
            "image/png": "[encoded data removed]"
          },
          "metadata": {
            "needs_background": "light"
          }
        }
      ],
      "source": [
        "sns.regplot(x='date_ordinal', y='length', data=df,marker=\"None\");"
      ]
    },
    {
      "cell_type": "markdown",
      "metadata": {
        "id": "FQkjF6g_Ip1R"
      },
      "source": [
        "The lenght of the tweets of Elon Musk is decreasing over time!"
      ]
    },
    {
      "cell_type": "markdown",
      "metadata": {
        "id": "sjb5jn06Ip1R"
      },
      "source": [
        "## 2. Let's analyize the distribution of number of tweets over time."
      ]
    },
    {
      "cell_type": "code",
      "execution_count": 73,
      "metadata": {
        "colab": {
          "base_uri": "https://localhost:8080/",
          "height": 295
        },
        "id": "wlWCcGcUIp1S",
        "outputId": "6fb5d79b-3fa4-4189-d09b-eb95bdde42d6"
      },
      "outputs": [
        {
          "output_type": "display_data",
          "data": {
            "text/plain": [
              "<Figure size 432x288 with 1 Axes>"
            ],
            "image/png": "[encoded data removed]"
          },
          "metadata": {
            "needs_background": "light"
          }
        }
      ],
      "source": [
        "formatted_df = df.copy()\n",
        "#change time format\n",
        "formatted_df[\"date\"] = pd.to_datetime(formatted_df['Timestamp'], format='%Y-%m-%d %H:%M:%S')\n",
        "\n",
        "#plot the data\n",
        "bins = 100\n",
        "hist = plt.hist(formatted_df[\"date\"].dt.date,bins)\n",
        "plt.xlabel(\"Date\")\n",
        "plt.ylabel(\"Number of quotes\")\n",
        "plt.title(\"Number of quotes per date\")\n",
        "plt.show()"
      ]
    },
    {
      "cell_type": "markdown",
      "metadata": {
        "id": "jTnYZKuhIp1S"
      },
      "source": [
        "We can observe that the number of Elon Musk's tweets has increased over time"
      ]
    },
    {
      "cell_type": "markdown",
      "source": [
        "## How many tweets are tweets and how many are replies?\n",
        "Let's check how many tweets are reply to others, and how many are posts on the account."
      ],
      "metadata": {
        "id": "1KtI1GKNkNjy"
      }
    },
    {
      "cell_type": "code",
      "source": [
        "reformattedtext = df['text'].apply(lambda text: reformat(text))\n",
        "print('The total number of tweets is: ',reformattedtext.size)\n",
        "replies = reformattedtext[reformattedtext.apply(lambda x: x[:12] == ('Replying to' + '\\n'))]\n",
        "print('The total number of replies is: ',replies.size)\n",
        "print('The total number of main posts is: ',reformattedtext.size-replies.size)                                                     "
      ],
      "metadata": {
        "colab": {
          "base_uri": "https://localhost:8080/"
        },
        "id": "HXNmaUeakOEy",
        "outputId": "b20010b9-ef3d-4629-f50e-31b0e619c2e9"
      },
      "execution_count": 74,
      "outputs": [
        {
          "output_type": "stream",
          "name": "stdout",
          "text": [
            "The total number of tweets is:  12206\n",
            "The total number of replies is:  8844\n",
            "The total number of main posts is:  3362\n"
          ]
        }
      ]
    },
    {
      "cell_type": "markdown",
      "source": [
        "We can see that Elon Musk main activity on the platform is post answering."
      ],
      "metadata": {
        "id": "KS2knkQxkOxe"
      }
    },
    {
      "cell_type": "markdown",
      "source": [
        "## At what time does Elon Musk uses twitter?\n",
        "Let's see at what time Elon Musk uses twitter."
      ],
      "metadata": {
        "id": "aSPJ05NTmBNu"
      }
    },
    {
      "cell_type": "code",
      "source": [
        "x = df['Timestamp'].apply(lambda time: time[11:13]).value_counts().index.values\n",
        "y = df['Timestamp'].apply(lambda time: time[11:13]).value_counts().values\n",
        "plt.scatter(x,y)\n",
        "plt.plot()"
      ],
      "metadata": {
        "colab": {
          "base_uri": "https://localhost:8080/",
          "height": 282
        },
        "id": "LKpy5vv9kPNr",
        "outputId": "6782d938-5c45-43e2-a635-adf780631285"
      },
      "execution_count": 75,
      "outputs": [
        {
          "output_type": "execute_result",
          "data": {
            "text/plain": [
              "[]"
            ]
          },
          "metadata": {},
          "execution_count": 75
        },
        {
          "output_type": "display_data",
          "data": {
            "text/plain": [
              "<Figure size 432x288 with 1 Axes>"
            ],
            "image/png": "[encoded data removed]"
          },
          "metadata": {
            "needs_background": "light"
          }
        }
      ]
    },
    {
      "cell_type": "markdown",
      "metadata": {
        "id": "FZJX9WztIp1S"
      },
      "source": [
        "## What about the content of the tweets?\n",
        "Let's check the most frequend words that are not stopwords or punctuation or verbs or tags"
      ]
    },
    {
      "cell_type": "code",
      "execution_count": 76,
      "metadata": {
        "id": "Da_6MQiAIp1S"
      },
      "outputs": [],
      "source": [
        "def clean(series):\n",
        "    \"function that cleans a quote\"\n",
        "    series = hp.fillna(series)\n",
        "    series = hp.lowercase(series)\n",
        "    series = hp.remove_digits(series)\n",
        "    series = hp.remove_diacritics(series)\n",
        "    series = hp.remove_stopwords(series)\n",
        "    series = hp.remove_whitespace(series)\n",
        "    series = hp.remove_punctuation(series)\n",
        "    return series\n",
        "\n",
        "def remove_verbs(series):\n",
        "    \"\"\" function that removes all verbs from a series of sentences (series in the sense of pandas)\"\"\"\n",
        "    def remove_verbs_from_sentence(sentence):\n",
        "        \"\"\" function that removes all verbs from a sentence\"\"\"\n",
        "        #tokenizes the sentence (makes it become a list of words)\n",
        "        tokens = nltk.word_tokenize(sentence)\n",
        "\n",
        "        #tags words, for example if the word is a verb in it's base form then it tags it with 'VB'\n",
        "        #tagged becomes a list of tuples with (verb,tag) as format\n",
        "        tagged = nltk.pos_tag(tokens)\n",
        "\n",
        "        #filter all verbs from list\n",
        "        tagged =list(filter(lambda x: x[1] not in  ['VB','VBD','VBG','VBN','VBP','VBZ','MD'],tagged))\n",
        " \n",
        "        #remove tags from words\n",
        "        words = list(map(lambda x: x[0], tagged))\n",
        "\n",
        "        #join the words to have a sentence once againg\n",
        "        sentence = ' '.join(words)\n",
        "        return sentence\n",
        "\n",
        "    return series.apply(remove_verbs_from_sentence)"
      ]
    },
    {
      "cell_type": "code",
      "execution_count": 77,
      "metadata": {
        "id": "0LNWB6eCIp1V",
        "colab": {
          "base_uri": "https://localhost:8080/"
        },
        "outputId": "cd4fe8ef-cce4-46d3-9160-bad9daa74e95"
      },
      "outputs": [
        {
          "output_type": "stream",
          "name": "stdout",
          "text": [
            "I'm done part 1\n",
            "I'm done part 2\n",
            "I'm done part 3\n"
          ]
        }
      ],
      "source": [
        "cleanedtxt = clean(clean_prepro(df['text']))"
      ]
    },
    {
      "cell_type": "code",
      "execution_count": 81,
      "metadata": {
        "id": "c_5j5KG2Ip1V",
        "colab": {
          "base_uri": "https://localhost:8080/"
        },
        "outputId": "aef8eed8-ca8f-41e2-e66c-1b89e961a6ba"
      },
      "outputs": [
        {
          "name": "stdout",
          "output_type": "stream",
          "text": [
            "NLTK Downloader\n",
            "---------------------------------------------------------------------------\n",
            "    d) Download   l) List    u) Update   c) Config   h) Help   q) Quit\n",
            "---------------------------------------------------------------------------\n",
            "Downloader> d\n",
            "\n",
            "Download which package (l=list; x=cancel)?\n",
            "  Identifier> averaged_perceptron_tagger\n"
          ]
        },
        {
          "output_type": "stream",
          "name": "stderr",
          "text": [
            "    Downloading package averaged_perceptron_tagger to\n",
            "        /root/nltk_data...\n",
            "      Unzipping taggers/averaged_perceptron_tagger.zip.\n"
          ]
        },
        {
          "name": "stdout",
          "output_type": "stream",
          "text": [
            "\n",
            "---------------------------------------------------------------------------\n",
            "    d) Download   l) List    u) Update   c) Config   h) Help   q) Quit\n",
            "---------------------------------------------------------------------------\n",
            "Downloader> q\n"
          ]
        }
      ],
      "source": [
        "# punkt\n",
        "# averaged_perceptron_tagger\n",
        "nltk.download()\n",
        "cleanedtxtNoVerbs = remove_verbs(cleanedtxt)"
      ]
    },
    {
      "cell_type": "code",
      "execution_count": 82,
      "metadata": {
        "colab": {
          "base_uri": "https://localhost:8080/"
        },
        "id": "FfktEq9LIp1V",
        "outputId": "4fbd8b77-1e0d-4eb7-fc37-27c91266365c"
      },
      "outputs": [
        {
          "output_type": "execute_result",
          "data": {
            "text/plain": [
              "tesla         1764\n",
              "spacex         628\n",
              "yes            521\n",
              "model          500\n",
              "good           489\n",
              "com            430\n",
              "great          409\n",
              "like           408\n",
              "car            380\n",
              "one            345\n",
              "much           336\n",
              "time           325\n",
              "new            320\n",
              "next           306\n",
              "high           297\n",
              "cars           294\n",
              "rocket         285\n",
              "people         280\n",
              "first          277\n",
              "year           266\n",
              "true           254\n",
              "launch         249\n",
              "also           245\n",
              "production     236\n",
              "probably       230\n",
              "soon           230\n",
              "even           226\n",
              "yeah           223\n",
              "falcon         222\n",
              "many           220\n",
              "sure           218\n",
              "us             213\n",
              "space          212\n",
              "thanks         208\n",
              "better         206\n",
              "right          202\n",
              "world          201\n",
              "years          199\n",
              "work           197\n",
              "way            197\n",
              "Name: text, dtype: int64"
            ]
          },
          "metadata": {},
          "execution_count": 82
        }
      ],
      "source": [
        "\n",
        "hero.top_words(cleanedtxtNoVerbs)[:40]"
      ]
    },
    {
      "cell_type": "markdown",
      "metadata": {
        "id": "AgOCVCW2QGZu"
      },
      "source": [
        "We see that many words present are still some wird punctuation that needs to be removed to see the real most frequent words. We see that mosto of the content is related to elon musk in general (spacex,elonmusk...) but we are happy to remark that the first, most frequent significant word is TESLA!\n",
        "That said we can deduce that many tweets are not involving tesla for example we can see (with no surprise) that between the  tranding word there are spaceX and rocket. \n",
        "Even if it's true that tesla and spaceX could be correlated, and therefore the tweets of spaceX could potentially impact tesla's returns, we have to keep in mind that topic selection to keep only relevant tweets is an option for the preprocessing."
      ]
    },
    {
      "cell_type": "markdown",
      "source": [
        "## PREPROCESSING\n",
        "We are going to add the following columns to the dataset:\n",
        "* clean_txt which contains cleaned version of the text\n",
        "* clean_txt25,clean_txt50,clean_txt75,clean_txt100 which contains cleaned version of the text limited to a maximum number of words\n",
        "\n",
        "\n"
      ],
      "metadata": {
        "id": "VEp_cYstTV6g"
      }
    },
    {
      "cell_type": "code",
      "source": [
        "df['cleantext'] = clean(clean_prepro(df['text']))"
      ],
      "metadata": {
        "id": "isMdzSVsNVH5",
        "colab": {
          "base_uri": "https://localhost:8080/"
        },
        "outputId": "8447c969-fe8f-4413-b11e-9a65ac963145"
      },
      "execution_count": 83,
      "outputs": [
        {
          "output_type": "stream",
          "name": "stdout",
          "text": [
            "I'm done part 1\n",
            "I'm done part 2\n",
            "I'm done part 3\n"
          ]
        }
      ]
    },
    {
      "cell_type": "code",
      "source": [
        "def keepNwords(text,numWords):\n",
        "  return \" \".join(text.split(\" \")[:numWords])\n",
        "\n",
        "df['clean25'] = df['cleantext'].apply(lambda text: keepNwords(text,25))\n",
        "df['clean50'] = df['cleantext'].apply(lambda text: keepNwords(text,50))\n",
        "df['clean75'] = df['cleantext'].apply(lambda text: keepNwords(text,75))\n",
        "df['clean100'] = df['cleantext'].apply(lambda text: keepNwords(text,100))\n"
      ],
      "metadata": {
        "id": "N9qBbUSTTZzG"
      },
      "execution_count": 84,
      "outputs": []
    },
    {
      "cell_type": "code",
      "source": [
        "df"
      ],
      "metadata": {
        "colab": {
          "base_uri": "https://localhost:8080/",
          "height": 870
        },
        "id": "KY1WbI8LVuUE",
        "outputId": "420fca74-1572-4b6a-b51b-382f139bf9ae"
      },
      "execution_count": 85,
      "outputs": [
        {
          "output_type": "execute_result",
          "data": {
            "text/plain": [
              "       Tweet UserScreenName   UserName                 Timestamp  \\\n",
              "0          0      Elon Musk  @elonmusk  2010-06-04T18:31:57.000Z   \n",
              "1          1      Elon Musk  @elonmusk  2011-12-01T09:55:11.000Z   \n",
              "2          2      Elon Musk  @elonmusk  2011-12-01T10:29:04.000Z   \n",
              "3          3      Elon Musk  @elonmusk  2011-12-03T08:20:28.000Z   \n",
              "4          4      Elon Musk  @elonmusk  2011-12-03T08:22:07.000Z   \n",
              "...      ...            ...        ...                       ...   \n",
              "12201  12201      Elon Musk  @elonmusk  2022-03-03T04:25:03.000Z   \n",
              "12202  12202      Elon Musk  @elonmusk  2022-03-03T08:13:32.000Z   \n",
              "12203  12203      Elon Musk  @elonmusk  2022-03-02T03:15:03.000Z   \n",
              "12204  12204      Elon Musk  @elonmusk  2022-03-04T21:40:29.000Z   \n",
              "12205  12205      Elon Musk  @elonmusk  2022-03-04T19:17:16.000Z   \n",
              "\n",
              "                                                    text Emojis Comments  \\\n",
              "0      Please ignore prior tweets, as that was someon...    NaN      873   \n",
              "1      Went to Iceland on Sat to ride bumper cars on ...    NaN       30   \n",
              "2      I made the volume on the Model S http://ow.ly/...    NaN       29   \n",
              "3      Great Voltaire quote, arguably better than Twa...    NaN       23   \n",
              "4          That was a total non sequitur btw\\n26\\n14\\n50    NaN       26   \n",
              "...                                                  ...    ...      ...   \n",
              "12201      Replying to \\n@TheBabylonBee\\n515\\n464\\n14.5K      🤣      515   \n",
              "12202  Replying to \\n@OwenSparks_\\n @ICannot_Enough\\n...    NaN      286   \n",
              "12203  Replying to \\n@DBurkland\\nInvestigating\\n350\\n...    NaN      350   \n",
              "12204  Replying to \\n@RenataKonkoly\\n @MLUKBrandenbur...    NaN      233   \n",
              "12205  Replying to \\n@MLUKBrandenburg\\n @gigafactory_...    NaN      620   \n",
              "\n",
              "      Likes Retweets                                         Image link  \\\n",
              "0       648    5,453                                                 []   \n",
              "1        24      188  ['https://pbs.twimg.com/media/Afkf5DMCAAEJGFr?...   \n",
              "2        17       78                                                 []   \n",
              "3        30       44                                                 []   \n",
              "4        14       50                                                 []   \n",
              "...     ...      ...                                                ...   \n",
              "12201   464    14.5K                                                 []   \n",
              "12202   204    4,003                                                 []   \n",
              "12203   165    5,133                                                 []   \n",
              "12204   185    4,191                                                 []   \n",
              "12205   822      11K                                                 []   \n",
              "\n",
              "                                               Tweet URL  length        day  \\\n",
              "0        https://twitter.com/elonmusk/status/15434727182      20 2010-06-04   \n",
              "1      https://twitter.com/elonmusk/status/1421799282...      27 2011-12-01   \n",
              "2      https://twitter.com/elonmusk/status/1421884581...      25 2011-12-01   \n",
              "3      https://twitter.com/elonmusk/status/1428808713...      24 2011-12-03   \n",
              "4      https://twitter.com/elonmusk/status/1428812840...      10 2011-12-03   \n",
              "...                                                  ...     ...        ...   \n",
              "12201  https://twitter.com/elonmusk/status/1499239406...       6 2022-03-03   \n",
              "12202  https://twitter.com/elonmusk/status/1499296906...      11 2022-03-03   \n",
              "12203  https://twitter.com/elonmusk/status/1498859400...       7 2022-03-02   \n",
              "12204  https://twitter.com/elonmusk/status/1499862369...      13 2022-03-04   \n",
              "12205  https://twitter.com/elonmusk/status/1499826328...      21 2022-03-04   \n",
              "\n",
              "       date_ordinal                                          cleantext  \\\n",
              "0            733927  please ignore prior tweets  someone pretending...   \n",
              "1            734472  went iceland sat ride bumper cars ice    count...   \n",
              "2            734472  made volume model go   need work miniature sto...   \n",
              "3            734474  great voltaire quote  arguably better twain  h...   \n",
              "4            734474                             total non sequitur btw   \n",
              "...             ...                                                ...   \n",
              "12201        738217                                      thebabylonbee   \n",
              "12202        738217                                                yes   \n",
              "12203        738216                                      investigating   \n",
              "12204        738218                                        haha sure     \n",
              "12205        738218  ich mochte mich recht herzlich bedanken  die z...   \n",
              "\n",
              "                                                 clean25  \\\n",
              "0      please ignore prior tweets  someone pretending...   \n",
              "1      went iceland sat ride bumper cars ice    count...   \n",
              "2      made volume model go   need work miniature sto...   \n",
              "3      great voltaire quote  arguably better twain  h...   \n",
              "4                                 total non sequitur btw   \n",
              "...                                                  ...   \n",
              "12201                                      thebabylonbee   \n",
              "12202                                                yes   \n",
              "12203                                      investigating   \n",
              "12204                                        haha sure     \n",
              "12205  ich mochte mich recht herzlich bedanken  die z...   \n",
              "\n",
              "                                                 clean50  \\\n",
              "0      please ignore prior tweets  someone pretending...   \n",
              "1      went iceland sat ride bumper cars ice    count...   \n",
              "2      made volume model go   need work miniature sto...   \n",
              "3      great voltaire quote  arguably better twain  h...   \n",
              "4                                 total non sequitur btw   \n",
              "...                                                  ...   \n",
              "12201                                      thebabylonbee   \n",
              "12202                                                yes   \n",
              "12203                                      investigating   \n",
              "12204                                        haha sure     \n",
              "12205  ich mochte mich recht herzlich bedanken  die z...   \n",
              "\n",
              "                                                 clean75  \\\n",
              "0      please ignore prior tweets  someone pretending...   \n",
              "1      went iceland sat ride bumper cars ice    count...   \n",
              "2      made volume model go   need work miniature sto...   \n",
              "3      great voltaire quote  arguably better twain  h...   \n",
              "4                                 total non sequitur btw   \n",
              "...                                                  ...   \n",
              "12201                                      thebabylonbee   \n",
              "12202                                                yes   \n",
              "12203                                      investigating   \n",
              "12204                                        haha sure     \n",
              "12205  ich mochte mich recht herzlich bedanken  die z...   \n",
              "\n",
              "                                                clean100  \n",
              "0      please ignore prior tweets  someone pretending...  \n",
              "1      went iceland sat ride bumper cars ice    count...  \n",
              "2      made volume model go   need work miniature sto...  \n",
              "3      great voltaire quote  arguably better twain  h...  \n",
              "4                                 total non sequitur btw  \n",
              "...                                                  ...  \n",
              "12201                                      thebabylonbee  \n",
              "12202                                                yes  \n",
              "12203                                      investigating  \n",
              "12204                                        haha sure    \n",
              "12205  ich mochte mich recht herzlich bedanken  die z...  \n",
              "\n",
              "[12206 rows x 19 columns]"
            ],
            "text/html": [
              "\n",
              "  <div id=\"df-51c02c53-e9cd-4f76-9fa9-f8554539096d\">\n",
              "    <div class=\"colab-df-container\">\n",
              "      <div>\n",
              "<style scoped>\n",
              "    .dataframe tbody tr th:only-of-type {\n",
              "        vertical-align: middle;\n",
              "    }\n",
              "\n",
              "    .dataframe tbody tr th {\n",
              "        vertical-align: top;\n",
              "    }\n",
              "\n",
              "    .dataframe thead th {\n",
              "        text-align: right;\n",
              "    }\n",
              "</style>\n",
              "<table border=\"1\" class=\"dataframe\">\n",
              "  <thead>\n",
              "    <tr style=\"text-align: right;\">\n",
              "      <th></th>\n",
              "      <th>Tweet</th>\n",
              "      <th>UserScreenName</th>\n",
              "      <th>UserName</th>\n",
              "      <th>Timestamp</th>\n",
              "      <th>text</th>\n",
              "      <th>Emojis</th>\n",
              "      <th>Comments</th>\n",
              "      <th>Likes</th>\n",
              "      <th>Retweets</th>\n",
              "      <th>Image link</th>\n",
              "      <th>Tweet URL</th>\n",
              "      <th>length</th>\n",
              "      <th>day</th>\n",
              "      <th>date_ordinal</th>\n",
              "      <th>cleantext</th>\n",
              "      <th>clean25</th>\n",
              "      <th>clean50</th>\n",
              "      <th>clean75</th>\n",
              "      <th>clean100</th>\n",
              "    </tr>\n",
              "  </thead>\n",
              "  <tbody>\n",
              "    <tr>\n",
              "      <th>0</th>\n",
              "      <td>0</td>\n",
              "      <td>Elon Musk</td>\n",
              "      <td>@elonmusk</td>\n",
              "      <td>2010-06-04T18:31:57.000Z</td>\n",
              "      <td>Please ignore prior tweets, as that was someon...</td>\n",
              "      <td>NaN</td>\n",
              "      <td>873</td>\n",
              "      <td>648</td>\n",
              "      <td>5,453</td>\n",
              "      <td>[]</td>\n",
              "      <td>https://twitter.com/elonmusk/status/15434727182</td>\n",
              "      <td>20</td>\n",
              "      <td>2010-06-04</td>\n",
              "      <td>733927</td>\n",
              "      <td>please ignore prior tweets  someone pretending...</td>\n",
              "      <td>please ignore prior tweets  someone pretending...</td>\n",
              "      <td>please ignore prior tweets  someone pretending...</td>\n",
              "      <td>please ignore prior tweets  someone pretending...</td>\n",
              "      <td>please ignore prior tweets  someone pretending...</td>\n",
              "    </tr>\n",
              "    <tr>\n",
              "      <th>1</th>\n",
              "      <td>1</td>\n",
              "      <td>Elon Musk</td>\n",
              "      <td>@elonmusk</td>\n",
              "      <td>2011-12-01T09:55:11.000Z</td>\n",
              "      <td>Went to Iceland on Sat to ride bumper cars on ...</td>\n",
              "      <td>NaN</td>\n",
              "      <td>30</td>\n",
              "      <td>24</td>\n",
              "      <td>188</td>\n",
              "      <td>['https://pbs.twimg.com/media/Afkf5DMCAAEJGFr?...</td>\n",
              "      <td>https://twitter.com/elonmusk/status/1421799282...</td>\n",
              "      <td>27</td>\n",
              "      <td>2011-12-01</td>\n",
              "      <td>734472</td>\n",
              "      <td>went iceland sat ride bumper cars ice    count...</td>\n",
              "      <td>went iceland sat ride bumper cars ice    count...</td>\n",
              "      <td>went iceland sat ride bumper cars ice    count...</td>\n",
              "      <td>went iceland sat ride bumper cars ice    count...</td>\n",
              "      <td>went iceland sat ride bumper cars ice    count...</td>\n",
              "    </tr>\n",
              "    <tr>\n",
              "      <th>2</th>\n",
              "      <td>2</td>\n",
              "      <td>Elon Musk</td>\n",
              "      <td>@elonmusk</td>\n",
              "      <td>2011-12-01T10:29:04.000Z</td>\n",
              "      <td>I made the volume on the Model S http://ow.ly/...</td>\n",
              "      <td>NaN</td>\n",
              "      <td>29</td>\n",
              "      <td>17</td>\n",
              "      <td>78</td>\n",
              "      <td>[]</td>\n",
              "      <td>https://twitter.com/elonmusk/status/1421884581...</td>\n",
              "      <td>25</td>\n",
              "      <td>2011-12-01</td>\n",
              "      <td>734472</td>\n",
              "      <td>made volume model go   need work miniature sto...</td>\n",
              "      <td>made volume model go   need work miniature sto...</td>\n",
              "      <td>made volume model go   need work miniature sto...</td>\n",
              "      <td>made volume model go   need work miniature sto...</td>\n",
              "      <td>made volume model go   need work miniature sto...</td>\n",
              "    </tr>\n",
              "    <tr>\n",
              "      <th>3</th>\n",
              "      <td>3</td>\n",
              "      <td>Elon Musk</td>\n",
              "      <td>@elonmusk</td>\n",
              "      <td>2011-12-03T08:20:28.000Z</td>\n",
              "      <td>Great Voltaire quote, arguably better than Twa...</td>\n",
              "      <td>NaN</td>\n",
              "      <td>23</td>\n",
              "      <td>30</td>\n",
              "      <td>44</td>\n",
              "      <td>[]</td>\n",
              "      <td>https://twitter.com/elonmusk/status/1428808713...</td>\n",
              "      <td>24</td>\n",
              "      <td>2011-12-03</td>\n",
              "      <td>734474</td>\n",
              "      <td>great voltaire quote  arguably better twain  h...</td>\n",
              "      <td>great voltaire quote  arguably better twain  h...</td>\n",
              "      <td>great voltaire quote  arguably better twain  h...</td>\n",
              "      <td>great voltaire quote  arguably better twain  h...</td>\n",
              "      <td>great voltaire quote  arguably better twain  h...</td>\n",
              "    </tr>\n",
              "    <tr>\n",
              "      <th>4</th>\n",
              "      <td>4</td>\n",
              "      <td>Elon Musk</td>\n",
              "      <td>@elonmusk</td>\n",
              "      <td>2011-12-03T08:22:07.000Z</td>\n",
              "      <td>That was a total non sequitur btw\\n26\\n14\\n50</td>\n",
              "      <td>NaN</td>\n",
              "      <td>26</td>\n",
              "      <td>14</td>\n",
              "      <td>50</td>\n",
              "      <td>[]</td>\n",
              "      <td>https://twitter.com/elonmusk/status/1428812840...</td>\n",
              "      <td>10</td>\n",
              "      <td>2011-12-03</td>\n",
              "      <td>734474</td>\n",
              "      <td>total non sequitur btw</td>\n",
              "      <td>total non sequitur btw</td>\n",
              "      <td>total non sequitur btw</td>\n",
              "      <td>total non sequitur btw</td>\n",
              "      <td>total non sequitur btw</td>\n",
              "    </tr>\n",
              "    <tr>\n",
              "      <th>...</th>\n",
              "      <td>...</td>\n",
              "      <td>...</td>\n",
              "      <td>...</td>\n",
              "      <td>...</td>\n",
              "      <td>...</td>\n",
              "      <td>...</td>\n",
              "      <td>...</td>\n",
              "      <td>...</td>\n",
              "      <td>...</td>\n",
              "      <td>...</td>\n",
              "      <td>...</td>\n",
              "      <td>...</td>\n",
              "      <td>...</td>\n",
              "      <td>...</td>\n",
              "      <td>...</td>\n",
              "      <td>...</td>\n",
              "      <td>...</td>\n",
              "      <td>...</td>\n",
              "      <td>...</td>\n",
              "    </tr>\n",
              "    <tr>\n",
              "      <th>12201</th>\n",
              "      <td>12201</td>\n",
              "      <td>Elon Musk</td>\n",
              "      <td>@elonmusk</td>\n",
              "      <td>2022-03-03T04:25:03.000Z</td>\n",
              "      <td>Replying to \\n@TheBabylonBee\\n515\\n464\\n14.5K</td>\n",
              "      <td>🤣</td>\n",
              "      <td>515</td>\n",
              "      <td>464</td>\n",
              "      <td>14.5K</td>\n",
              "      <td>[]</td>\n",
              "      <td>https://twitter.com/elonmusk/status/1499239406...</td>\n",
              "      <td>6</td>\n",
              "      <td>2022-03-03</td>\n",
              "      <td>738217</td>\n",
              "      <td>thebabylonbee</td>\n",
              "      <td>thebabylonbee</td>\n",
              "      <td>thebabylonbee</td>\n",
              "      <td>thebabylonbee</td>\n",
              "      <td>thebabylonbee</td>\n",
              "    </tr>\n",
              "    <tr>\n",
              "      <th>12202</th>\n",
              "      <td>12202</td>\n",
              "      <td>Elon Musk</td>\n",
              "      <td>@elonmusk</td>\n",
              "      <td>2022-03-03T08:13:32.000Z</td>\n",
              "      <td>Replying to \\n@OwenSparks_\\n @ICannot_Enough\\n...</td>\n",
              "      <td>NaN</td>\n",
              "      <td>286</td>\n",
              "      <td>204</td>\n",
              "      <td>4,003</td>\n",
              "      <td>[]</td>\n",
              "      <td>https://twitter.com/elonmusk/status/1499296906...</td>\n",
              "      <td>11</td>\n",
              "      <td>2022-03-03</td>\n",
              "      <td>738217</td>\n",
              "      <td>yes</td>\n",
              "      <td>yes</td>\n",
              "      <td>yes</td>\n",
              "      <td>yes</td>\n",
              "      <td>yes</td>\n",
              "    </tr>\n",
              "    <tr>\n",
              "      <th>12203</th>\n",
              "      <td>12203</td>\n",
              "      <td>Elon Musk</td>\n",
              "      <td>@elonmusk</td>\n",
              "      <td>2022-03-02T03:15:03.000Z</td>\n",
              "      <td>Replying to \\n@DBurkland\\nInvestigating\\n350\\n...</td>\n",
              "      <td>NaN</td>\n",
              "      <td>350</td>\n",
              "      <td>165</td>\n",
              "      <td>5,133</td>\n",
              "      <td>[]</td>\n",
              "      <td>https://twitter.com/elonmusk/status/1498859400...</td>\n",
              "      <td>7</td>\n",
              "      <td>2022-03-02</td>\n",
              "      <td>738216</td>\n",
              "      <td>investigating</td>\n",
              "      <td>investigating</td>\n",
              "      <td>investigating</td>\n",
              "      <td>investigating</td>\n",
              "      <td>investigating</td>\n",
              "    </tr>\n",
              "    <tr>\n",
              "      <th>12204</th>\n",
              "      <td>12204</td>\n",
              "      <td>Elon Musk</td>\n",
              "      <td>@elonmusk</td>\n",
              "      <td>2022-03-04T21:40:29.000Z</td>\n",
              "      <td>Replying to \\n@RenataKonkoly\\n @MLUKBrandenbur...</td>\n",
              "      <td>NaN</td>\n",
              "      <td>233</td>\n",
              "      <td>185</td>\n",
              "      <td>4,191</td>\n",
              "      <td>[]</td>\n",
              "      <td>https://twitter.com/elonmusk/status/1499862369...</td>\n",
              "      <td>13</td>\n",
              "      <td>2022-03-04</td>\n",
              "      <td>738218</td>\n",
              "      <td>haha sure</td>\n",
              "      <td>haha sure</td>\n",
              "      <td>haha sure</td>\n",
              "      <td>haha sure</td>\n",
              "      <td>haha sure</td>\n",
              "    </tr>\n",
              "    <tr>\n",
              "      <th>12205</th>\n",
              "      <td>12205</td>\n",
              "      <td>Elon Musk</td>\n",
              "      <td>@elonmusk</td>\n",
              "      <td>2022-03-04T19:17:16.000Z</td>\n",
              "      <td>Replying to \\n@MLUKBrandenburg\\n @gigafactory_...</td>\n",
              "      <td>NaN</td>\n",
              "      <td>620</td>\n",
              "      <td>822</td>\n",
              "      <td>11K</td>\n",
              "      <td>[]</td>\n",
              "      <td>https://twitter.com/elonmusk/status/1499826328...</td>\n",
              "      <td>21</td>\n",
              "      <td>2022-03-04</td>\n",
              "      <td>738218</td>\n",
              "      <td>ich mochte mich recht herzlich bedanken  die z...</td>\n",
              "      <td>ich mochte mich recht herzlich bedanken  die z...</td>\n",
              "      <td>ich mochte mich recht herzlich bedanken  die z...</td>\n",
              "      <td>ich mochte mich recht herzlich bedanken  die z...</td>\n",
              "      <td>ich mochte mich recht herzlich bedanken  die z...</td>\n",
              "    </tr>\n",
              "  </tbody>\n",
              "</table>\n",
              "<p>12206 rows × 19 columns</p>\n",
              "</div>\n",
              "      <button class=\"colab-df-convert\" onclick=\"convertToInteractive('df-51c02c53-e9cd-4f76-9fa9-f8554539096d')\"\n",
              "              title=\"Convert this dataframe to an interactive table.\"\n",
              "              style=\"display:none;\">\n",
              "        \n",
              "  <svg xmlns=\"http://www.w3.org/2000/svg\" height=\"24px\"viewBox=\"0 0 24 24\"\n",
              "       width=\"24px\">\n",
              "    <path d=\"M0 0h24v24H0V0z\" fill=\"none\"/>\n",
              "    <path d=\"M18.56 5.44l.94 2.06.94-2.06 2.06-.94-2.06-.94-.94-2.06-.94 2.06-2.06.94zm-11 1L8.5 8.5l.94-2.06 2.06-.94-2.06-.94L8.5 2.5l-.94 2.06-2.06.94zm10 10l.94 2.06.94-2.06 2.06-.94-2.06-.94-.94-2.06-.94 2.06-2.06.94z\"/><path d=\"M17.41 7.96l-1.37-1.37c-.4-.4-.92-.59-1.43-.59-.52 0-1.04.2-1.43.59L10.3 9.45l-7.72 7.72c-.78.78-.78 2.05 0 2.83L4 21.41c.39.39.9.59 1.41.59.51 0 1.02-.2 1.41-.59l7.78-7.78 2.81-2.81c.8-.78.8-2.07 0-2.86zM5.41 20L4 18.59l7.72-7.72 1.47 1.35L5.41 20z\"/>\n",
              "  </svg>\n",
              "      </button>\n",
              "      \n",
              "  <style>\n",
              "    .colab-df-container {\n",
              "      display:flex;\n",
              "      flex-wrap:wrap;\n",
              "      gap: 12px;\n",
              "    }\n",
              "\n",
              "    .colab-df-convert {\n",
              "      background-color: #E8F0FE;\n",
              "      border: none;\n",
              "      border-radius: 50%;\n",
              "      cursor: pointer;\n",
              "      display: none;\n",
              "      fill: #1967D2;\n",
              "      height: 32px;\n",
              "      padding: 0 0 0 0;\n",
              "      width: 32px;\n",
              "    }\n",
              "\n",
              "    .colab-df-convert:hover {\n",
              "      background-color: #E2EBFA;\n",
              "      box-shadow: 0px 1px 2px rgba(60, 64, 67, 0.3), 0px 1px 3px 1px rgba(60, 64, 67, 0.15);\n",
              "      fill: #174EA6;\n",
              "    }\n",
              "\n",
              "    [theme=dark] .colab-df-convert {\n",
              "      background-color: #3B4455;\n",
              "      fill: #D2E3FC;\n",
              "    }\n",
              "\n",
              "    [theme=dark] .colab-df-convert:hover {\n",
              "      background-color: #434B5C;\n",
              "      box-shadow: 0px 1px 3px 1px rgba(0, 0, 0, 0.15);\n",
              "      filter: drop-shadow(0px 1px 2px rgba(0, 0, 0, 0.3));\n",
              "      fill: #FFFFFF;\n",
              "    }\n",
              "  </style>\n",
              "\n",
              "      <script>\n",
              "        const buttonEl =\n",
              "          document.querySelector('#df-51c02c53-e9cd-4f76-9fa9-f8554539096d button.colab-df-convert');\n",
              "        buttonEl.style.display =\n",
              "          google.colab.kernel.accessAllowed ? 'block' : 'none';\n",
              "\n",
              "        async function convertToInteractive(key) {\n",
              "          const element = document.querySelector('#df-51c02c53-e9cd-4f76-9fa9-f8554539096d');\n",
              "          const dataTable =\n",
              "            await google.colab.kernel.invokeFunction('convertToInteractive',\n",
              "                                                     [key], {});\n",
              "          if (!dataTable) return;\n",
              "\n",
              "          const docLinkHtml = 'Like what you see? Visit the ' +\n",
              "            '<a target=\"_blank\" href=https://colab.research.google.com/notebooks/data_table.ipynb>data table notebook</a>'\n",
              "            + ' to learn more about interactive tables.';\n",
              "          element.innerHTML = '';\n",
              "          dataTable['output_type'] = 'display_data';\n",
              "          await google.colab.output.renderOutput(dataTable, element);\n",
              "          const docLink = document.createElement('div');\n",
              "          docLink.innerHTML = docLinkHtml;\n",
              "          element.appendChild(docLink);\n",
              "        }\n",
              "      </script>\n",
              "    </div>\n",
              "  </div>\n",
              "  "
            ]
          },
          "metadata": {},
          "execution_count": 85
        }
      ]
    },
    {
      "cell_type": "code",
      "source": [
        "filepath = '/content/elonmuskClean.csv'\n",
        "df.to_csv(filepath)"
      ],
      "metadata": {
        "id": "CjhqAOZvVSgp"
      },
      "execution_count": 86,
      "outputs": []
    }
  ],
  "metadata": {
    "colab": {
      "collapsed_sections": [],
      "name": "dataExploration.ipynb",
      "provenance": []
    },
    "kernelspec": {
      "display_name": "Python 3",
      "language": "python",
      "name": "python3"
    },
    "language_info": {
      "codemirror_mode": {
        "name": "ipython",
        "version": 3
      },
      "file_extension": ".py",
      "mimetype": "text/x-python",
      "name": "python",
      "nbconvert_exporter": "python",
      "pygments_lexer": "ipython3",
      "version": "3.7.4"
    }
  },
  "nbformat": 4,
  "nbformat_minor": 0
}