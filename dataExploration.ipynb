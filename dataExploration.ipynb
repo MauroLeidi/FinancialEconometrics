{
 "cells": [
  {
   "cell_type": "code",
   "execution_count": null,
   "metadata": {},
   "outputs": [],
   "source": [
    "import pandas as pd\n",
    "import matplotlib.pyplot as plt\n",
    "import seaborn as sns\n",
    "import datetime"
   ]
  },
  {
   "cell_type": "code",
   "execution_count": 58,
   "metadata": {},
   "outputs": [],
   "source": [
    "#Plotting an histogram.\n",
    "def plothisto(toPlot, xlabel,ylabel,title,bins = 50):\n",
    "    plt.hist(toPlot, bins = bins)\n",
    "    plt.xlabel(xlabel)\n",
    "    plt.ylabel(ylabel)\n",
    "    plt.title(title)\n",
    "    plt.show()"
   ]
  },
  {
   "cell_type": "code",
   "execution_count": 65,
   "metadata": {},
   "outputs": [
    {
     "data": {
      "text/html": [
       "<div>\n",
       "<style scoped>\n",
       "    .dataframe tbody tr th:only-of-type {\n",
       "        vertical-align: middle;\n",
       "    }\n",
       "\n",
       "    .dataframe tbody tr th {\n",
       "        vertical-align: top;\n",
       "    }\n",
       "\n",
       "    .dataframe thead th {\n",
       "        text-align: right;\n",
       "    }\n",
       "</style>\n",
       "<table border=\"1\" class=\"dataframe\">\n",
       "  <thead>\n",
       "    <tr style=\"text-align: right;\">\n",
       "      <th></th>\n",
       "      <th>PERMNO</th>\n",
       "      <th>date</th>\n",
       "      <th>RET</th>\n",
       "    </tr>\n",
       "  </thead>\n",
       "  <tbody>\n",
       "    <tr>\n",
       "      <th>0</th>\n",
       "      <td>93436</td>\n",
       "      <td>20100629</td>\n",
       "      <td>C</td>\n",
       "    </tr>\n",
       "    <tr>\n",
       "      <th>1</th>\n",
       "      <td>93436</td>\n",
       "      <td>20100630</td>\n",
       "      <td>-0.002511</td>\n",
       "    </tr>\n",
       "    <tr>\n",
       "      <th>2</th>\n",
       "      <td>93436</td>\n",
       "      <td>20100701</td>\n",
       "      <td>-0.078473</td>\n",
       "    </tr>\n",
       "    <tr>\n",
       "      <th>3</th>\n",
       "      <td>93436</td>\n",
       "      <td>20100702</td>\n",
       "      <td>-0.125683</td>\n",
       "    </tr>\n",
       "    <tr>\n",
       "      <th>4</th>\n",
       "      <td>93436</td>\n",
       "      <td>20100706</td>\n",
       "      <td>-0.160938</td>\n",
       "    </tr>\n",
       "    <tr>\n",
       "      <th>...</th>\n",
       "      <td>...</td>\n",
       "      <td>...</td>\n",
       "      <td>...</td>\n",
       "    </tr>\n",
       "    <tr>\n",
       "      <th>2894</th>\n",
       "      <td>93436</td>\n",
       "      <td>20211227</td>\n",
       "      <td>0.025248</td>\n",
       "    </tr>\n",
       "    <tr>\n",
       "      <th>2895</th>\n",
       "      <td>93436</td>\n",
       "      <td>20211228</td>\n",
       "      <td>-0.005000</td>\n",
       "    </tr>\n",
       "    <tr>\n",
       "      <th>2896</th>\n",
       "      <td>93436</td>\n",
       "      <td>20211229</td>\n",
       "      <td>-0.002095</td>\n",
       "    </tr>\n",
       "    <tr>\n",
       "      <th>2897</th>\n",
       "      <td>93436</td>\n",
       "      <td>20211230</td>\n",
       "      <td>-0.014592</td>\n",
       "    </tr>\n",
       "    <tr>\n",
       "      <th>2898</th>\n",
       "      <td>93436</td>\n",
       "      <td>20211231</td>\n",
       "      <td>-0.012669</td>\n",
       "    </tr>\n",
       "  </tbody>\n",
       "</table>\n",
       "<p>2899 rows × 3 columns</p>\n",
       "</div>"
      ],
      "text/plain": [
       "      PERMNO      date        RET\n",
       "0      93436  20100629          C\n",
       "1      93436  20100630  -0.002511\n",
       "2      93436  20100701  -0.078473\n",
       "3      93436  20100702  -0.125683\n",
       "4      93436  20100706  -0.160938\n",
       "...      ...       ...        ...\n",
       "2894   93436  20211227   0.025248\n",
       "2895   93436  20211228  -0.005000\n",
       "2896   93436  20211229  -0.002095\n",
       "2897   93436  20211230  -0.014592\n",
       "2898   93436  20211231  -0.012669\n",
       "\n",
       "[2899 rows x 3 columns]"
      ]
     },
     "metadata": {},
     "output_type": "display_data"
    }
   ],
   "source": [
    "tsla = pd.read_csv(\"data/TSLA.csv\")\n",
    "display(tsla)"
   ]
  },
  {
   "cell_type": "code",
   "execution_count": 68,
   "metadata": {},
   "outputs": [
    {
     "data": {
      "image/png": "[encoded data removed]",
      "text/plain": [
       "<Figure size 1080x504 with 1 Axes>"
      ]
     },
     "metadata": {
      "needs_background": "light"
     },
     "output_type": "display_data"
    }
   ],
   "source": [
    "%matplotlib inline\n",
    "fig = plt.figure(figsize=(15, 7))\n",
    "ax1 = fig.add_subplot(1, 1, 1)\n",
    "tsla['RET'].hist(bins=50, ax=ax1)\n",
    "ax1.set_xlabel('Return')\n",
    "ax1.set_ylabel('Number of occurences')\n",
    "ax1.set_title('Returns distribution')\n",
    "plt.show()"
   ]
  },
  {
   "cell_type": "code",
   "execution_count": null,
   "metadata": {},
   "outputs": [],
   "source": []
  },
  {
   "cell_type": "code",
   "execution_count": null,
   "metadata": {},
   "outputs": [],
   "source": []
  },
  {
   "cell_type": "code",
   "execution_count": 3,
   "metadata": {},
   "outputs": [],
   "source": [
    "df = pd.read_csv(\"data/elonmusk.csv\")"
   ]
  },
  {
   "cell_type": "code",
   "execution_count": 4,
   "metadata": {},
   "outputs": [
    {
     "data": {
      "text/html": [
       "<div>\n",
       "<style scoped>\n",
       "    .dataframe tbody tr th:only-of-type {\n",
       "        vertical-align: middle;\n",
       "    }\n",
       "\n",
       "    .dataframe tbody tr th {\n",
       "        vertical-align: top;\n",
       "    }\n",
       "\n",
       "    .dataframe thead th {\n",
       "        text-align: right;\n",
       "    }\n",
       "</style>\n",
       "<table border=\"1\" class=\"dataframe\">\n",
       "  <thead>\n",
       "    <tr style=\"text-align: right;\">\n",
       "      <th></th>\n",
       "      <th>Tweet</th>\n",
       "      <th>UserScreenName</th>\n",
       "      <th>UserName</th>\n",
       "      <th>Timestamp</th>\n",
       "      <th>text</th>\n",
       "      <th>Emojis</th>\n",
       "      <th>Comments</th>\n",
       "      <th>Likes</th>\n",
       "      <th>Retweets</th>\n",
       "      <th>Image link</th>\n",
       "      <th>Tweet URL</th>\n",
       "      <th>length</th>\n",
       "    </tr>\n",
       "  </thead>\n",
       "  <tbody>\n",
       "    <tr>\n",
       "      <th>0</th>\n",
       "      <td>0</td>\n",
       "      <td>Elon Musk</td>\n",
       "      <td>@elonmusk</td>\n",
       "      <td>2010-06-04T18:31:57.000Z</td>\n",
       "      <td>Please ignore prior tweets, as that was someon...</td>\n",
       "      <td>NaN</td>\n",
       "      <td>873</td>\n",
       "      <td>648</td>\n",
       "      <td>5,453</td>\n",
       "      <td>[]</td>\n",
       "      <td>https://twitter.com/elonmusk/status/15434727182</td>\n",
       "      <td>20</td>\n",
       "    </tr>\n",
       "    <tr>\n",
       "      <th>1</th>\n",
       "      <td>1</td>\n",
       "      <td>Elon Musk</td>\n",
       "      <td>@elonmusk</td>\n",
       "      <td>2011-12-01T09:55:11.000Z</td>\n",
       "      <td>Went to Iceland on Sat to ride bumper cars on ...</td>\n",
       "      <td>NaN</td>\n",
       "      <td>30</td>\n",
       "      <td>24</td>\n",
       "      <td>188</td>\n",
       "      <td>['https://pbs.twimg.com/media/Afkf5DMCAAEJGFr?...</td>\n",
       "      <td>https://twitter.com/elonmusk/status/1421799282...</td>\n",
       "      <td>27</td>\n",
       "    </tr>\n",
       "    <tr>\n",
       "      <th>2</th>\n",
       "      <td>2</td>\n",
       "      <td>Elon Musk</td>\n",
       "      <td>@elonmusk</td>\n",
       "      <td>2011-12-01T10:29:04.000Z</td>\n",
       "      <td>I made the volume on the Model S http://ow.ly/...</td>\n",
       "      <td>NaN</td>\n",
       "      <td>29</td>\n",
       "      <td>17</td>\n",
       "      <td>78</td>\n",
       "      <td>[]</td>\n",
       "      <td>https://twitter.com/elonmusk/status/1421884581...</td>\n",
       "      <td>25</td>\n",
       "    </tr>\n",
       "    <tr>\n",
       "      <th>3</th>\n",
       "      <td>3</td>\n",
       "      <td>Elon Musk</td>\n",
       "      <td>@elonmusk</td>\n",
       "      <td>2011-12-03T08:20:28.000Z</td>\n",
       "      <td>Great Voltaire quote, arguably better than Twa...</td>\n",
       "      <td>NaN</td>\n",
       "      <td>23</td>\n",
       "      <td>30</td>\n",
       "      <td>44</td>\n",
       "      <td>[]</td>\n",
       "      <td>https://twitter.com/elonmusk/status/1428808713...</td>\n",
       "      <td>24</td>\n",
       "    </tr>\n",
       "    <tr>\n",
       "      <th>4</th>\n",
       "      <td>4</td>\n",
       "      <td>Elon Musk</td>\n",
       "      <td>@elonmusk</td>\n",
       "      <td>2011-12-03T08:22:07.000Z</td>\n",
       "      <td>That was a total non sequitur btw\\n26\\n14\\n50</td>\n",
       "      <td>NaN</td>\n",
       "      <td>26</td>\n",
       "      <td>14</td>\n",
       "      <td>50</td>\n",
       "      <td>[]</td>\n",
       "      <td>https://twitter.com/elonmusk/status/1428812840...</td>\n",
       "      <td>10</td>\n",
       "    </tr>\n",
       "    <tr>\n",
       "      <th>...</th>\n",
       "      <td>...</td>\n",
       "      <td>...</td>\n",
       "      <td>...</td>\n",
       "      <td>...</td>\n",
       "      <td>...</td>\n",
       "      <td>...</td>\n",
       "      <td>...</td>\n",
       "      <td>...</td>\n",
       "      <td>...</td>\n",
       "      <td>...</td>\n",
       "      <td>...</td>\n",
       "      <td>...</td>\n",
       "    </tr>\n",
       "    <tr>\n",
       "      <th>12201</th>\n",
       "      <td>12201</td>\n",
       "      <td>Elon Musk</td>\n",
       "      <td>@elonmusk</td>\n",
       "      <td>2022-03-03T04:25:03.000Z</td>\n",
       "      <td>Replying to \\n@TheBabylonBee\\n515\\n464\\n14.5K</td>\n",
       "      <td>🤣</td>\n",
       "      <td>515</td>\n",
       "      <td>464</td>\n",
       "      <td>14.5K</td>\n",
       "      <td>[]</td>\n",
       "      <td>https://twitter.com/elonmusk/status/1499239406...</td>\n",
       "      <td>6</td>\n",
       "    </tr>\n",
       "    <tr>\n",
       "      <th>12202</th>\n",
       "      <td>12202</td>\n",
       "      <td>Elon Musk</td>\n",
       "      <td>@elonmusk</td>\n",
       "      <td>2022-03-03T08:13:32.000Z</td>\n",
       "      <td>Replying to \\n@OwenSparks_\\n @ICannot_Enough\\n...</td>\n",
       "      <td>NaN</td>\n",
       "      <td>286</td>\n",
       "      <td>204</td>\n",
       "      <td>4,003</td>\n",
       "      <td>[]</td>\n",
       "      <td>https://twitter.com/elonmusk/status/1499296906...</td>\n",
       "      <td>11</td>\n",
       "    </tr>\n",
       "    <tr>\n",
       "      <th>12203</th>\n",
       "      <td>12203</td>\n",
       "      <td>Elon Musk</td>\n",
       "      <td>@elonmusk</td>\n",
       "      <td>2022-03-02T03:15:03.000Z</td>\n",
       "      <td>Replying to \\n@DBurkland\\nInvestigating\\n350\\n...</td>\n",
       "      <td>NaN</td>\n",
       "      <td>350</td>\n",
       "      <td>165</td>\n",
       "      <td>5,133</td>\n",
       "      <td>[]</td>\n",
       "      <td>https://twitter.com/elonmusk/status/1498859400...</td>\n",
       "      <td>7</td>\n",
       "    </tr>\n",
       "    <tr>\n",
       "      <th>12204</th>\n",
       "      <td>12204</td>\n",
       "      <td>Elon Musk</td>\n",
       "      <td>@elonmusk</td>\n",
       "      <td>2022-03-04T21:40:29.000Z</td>\n",
       "      <td>Replying to \\n@RenataKonkoly\\n @MLUKBrandenbur...</td>\n",
       "      <td>NaN</td>\n",
       "      <td>233</td>\n",
       "      <td>185</td>\n",
       "      <td>4,191</td>\n",
       "      <td>[]</td>\n",
       "      <td>https://twitter.com/elonmusk/status/1499862369...</td>\n",
       "      <td>13</td>\n",
       "    </tr>\n",
       "    <tr>\n",
       "      <th>12205</th>\n",
       "      <td>12205</td>\n",
       "      <td>Elon Musk</td>\n",
       "      <td>@elonmusk</td>\n",
       "      <td>2022-03-04T19:17:16.000Z</td>\n",
       "      <td>Replying to \\n@MLUKBrandenburg\\n @gigafactory_...</td>\n",
       "      <td>NaN</td>\n",
       "      <td>620</td>\n",
       "      <td>822</td>\n",
       "      <td>11K</td>\n",
       "      <td>[]</td>\n",
       "      <td>https://twitter.com/elonmusk/status/1499826328...</td>\n",
       "      <td>21</td>\n",
       "    </tr>\n",
       "  </tbody>\n",
       "</table>\n",
       "<p>12206 rows × 12 columns</p>\n",
       "</div>"
      ],
      "text/plain": [
       "       Tweet UserScreenName   UserName                 Timestamp  \\\n",
       "0          0      Elon Musk  @elonmusk  2010-06-04T18:31:57.000Z   \n",
       "1          1      Elon Musk  @elonmusk  2011-12-01T09:55:11.000Z   \n",
       "2          2      Elon Musk  @elonmusk  2011-12-01T10:29:04.000Z   \n",
       "3          3      Elon Musk  @elonmusk  2011-12-03T08:20:28.000Z   \n",
       "4          4      Elon Musk  @elonmusk  2011-12-03T08:22:07.000Z   \n",
       "...      ...            ...        ...                       ...   \n",
       "12201  12201      Elon Musk  @elonmusk  2022-03-03T04:25:03.000Z   \n",
       "12202  12202      Elon Musk  @elonmusk  2022-03-03T08:13:32.000Z   \n",
       "12203  12203      Elon Musk  @elonmusk  2022-03-02T03:15:03.000Z   \n",
       "12204  12204      Elon Musk  @elonmusk  2022-03-04T21:40:29.000Z   \n",
       "12205  12205      Elon Musk  @elonmusk  2022-03-04T19:17:16.000Z   \n",
       "\n",
       "                                                    text Emojis Comments  \\\n",
       "0      Please ignore prior tweets, as that was someon...    NaN      873   \n",
       "1      Went to Iceland on Sat to ride bumper cars on ...    NaN       30   \n",
       "2      I made the volume on the Model S http://ow.ly/...    NaN       29   \n",
       "3      Great Voltaire quote, arguably better than Twa...    NaN       23   \n",
       "4          That was a total non sequitur btw\\n26\\n14\\n50    NaN       26   \n",
       "...                                                  ...    ...      ...   \n",
       "12201      Replying to \\n@TheBabylonBee\\n515\\n464\\n14.5K      🤣      515   \n",
       "12202  Replying to \\n@OwenSparks_\\n @ICannot_Enough\\n...    NaN      286   \n",
       "12203  Replying to \\n@DBurkland\\nInvestigating\\n350\\n...    NaN      350   \n",
       "12204  Replying to \\n@RenataKonkoly\\n @MLUKBrandenbur...    NaN      233   \n",
       "12205  Replying to \\n@MLUKBrandenburg\\n @gigafactory_...    NaN      620   \n",
       "\n",
       "      Likes Retweets                                         Image link  \\\n",
       "0       648    5,453                                                 []   \n",
       "1        24      188  ['https://pbs.twimg.com/media/Afkf5DMCAAEJGFr?...   \n",
       "2        17       78                                                 []   \n",
       "3        30       44                                                 []   \n",
       "4        14       50                                                 []   \n",
       "...     ...      ...                                                ...   \n",
       "12201   464    14.5K                                                 []   \n",
       "12202   204    4,003                                                 []   \n",
       "12203   165    5,133                                                 []   \n",
       "12204   185    4,191                                                 []   \n",
       "12205   822      11K                                                 []   \n",
       "\n",
       "                                               Tweet URL  length  \n",
       "0        https://twitter.com/elonmusk/status/15434727182      20  \n",
       "1      https://twitter.com/elonmusk/status/1421799282...      27  \n",
       "2      https://twitter.com/elonmusk/status/1421884581...      25  \n",
       "3      https://twitter.com/elonmusk/status/1428808713...      24  \n",
       "4      https://twitter.com/elonmusk/status/1428812840...      10  \n",
       "...                                                  ...     ...  \n",
       "12201  https://twitter.com/elonmusk/status/1499239406...       6  \n",
       "12202  https://twitter.com/elonmusk/status/1499296906...      11  \n",
       "12203  https://twitter.com/elonmusk/status/1498859400...       7  \n",
       "12204  https://twitter.com/elonmusk/status/1499862369...      13  \n",
       "12205  https://twitter.com/elonmusk/status/1499826328...      21  \n",
       "\n",
       "[12206 rows x 12 columns]"
      ]
     },
     "execution_count": 4,
     "metadata": {},
     "output_type": "execute_result"
    }
   ],
   "source": [
    "df['length'] = df['text'].apply(lambda text: len(text.split()))\n",
    "df"
   ]
  },
  {
   "cell_type": "code",
   "execution_count": 13,
   "metadata": {},
   "outputs": [
    {
     "data": {
      "text/plain": [
       "0        2010-06-04\n",
       "1        2011-12-01\n",
       "2        2011-12-01\n",
       "3        2011-12-03\n",
       "4        2011-12-03\n",
       "            ...    \n",
       "12201    2022-03-03\n",
       "12202    2022-03-03\n",
       "12203    2022-03-02\n",
       "12204    2022-03-04\n",
       "12205    2022-03-04\n",
       "Name: Timestamp, Length: 12206, dtype: object"
      ]
     },
     "execution_count": 13,
     "metadata": {},
     "output_type": "execute_result"
    }
   ],
   "source": []
  },
  {
   "cell_type": "code",
   "execution_count": 16,
   "metadata": {},
   "outputs": [],
   "source": [
    "df['day'] = pd.to_datetime(df['Timestamp'].apply(lambda date : date[0:10]))"
   ]
  },
  {
   "cell_type": "markdown",
   "metadata": {},
   "source": [
    "## 2. Let's explore the distribution of lenght of tweets."
   ]
  },
  {
   "cell_type": "code",
   "execution_count": 9,
   "metadata": {},
   "outputs": [
    {
     "data": {
      "image/png": "[encoded data removed]",
      "text/plain": [
       "<Figure size 432x288 with 1 Axes>"
      ]
     },
     "metadata": {
      "needs_background": "light"
     },
     "output_type": "display_data"
    }
   ],
   "source": [
    "#Plotting an histogram of the length of the quotations in words.   \n",
    "plothisto(df['length'], 'length','number of occurences','distribution of number of words in the quotes',50)"
   ]
  },
  {
   "cell_type": "markdown",
   "metadata": {},
   "source": [
    "## 2. Let's explore the tweets mean lenght over time."
   ]
  },
  {
   "cell_type": "code",
   "execution_count": 33,
   "metadata": {},
   "outputs": [
    {
     "data": {
      "text/html": [
       "<div>\n",
       "<style scoped>\n",
       "    .dataframe tbody tr th:only-of-type {\n",
       "        vertical-align: middle;\n",
       "    }\n",
       "\n",
       "    .dataframe tbody tr th {\n",
       "        vertical-align: top;\n",
       "    }\n",
       "\n",
       "    .dataframe thead th {\n",
       "        text-align: right;\n",
       "    }\n",
       "</style>\n",
       "<table border=\"1\" class=\"dataframe\">\n",
       "  <thead>\n",
       "    <tr style=\"text-align: right;\">\n",
       "      <th></th>\n",
       "      <th>day</th>\n",
       "      <th>length</th>\n",
       "    </tr>\n",
       "  </thead>\n",
       "  <tbody>\n",
       "    <tr>\n",
       "      <th>0</th>\n",
       "      <td>2010-06-04</td>\n",
       "      <td>20.000000</td>\n",
       "    </tr>\n",
       "    <tr>\n",
       "      <th>1</th>\n",
       "      <td>2011-12-01</td>\n",
       "      <td>26.000000</td>\n",
       "    </tr>\n",
       "    <tr>\n",
       "      <th>2</th>\n",
       "      <td>2011-12-03</td>\n",
       "      <td>17.000000</td>\n",
       "    </tr>\n",
       "    <tr>\n",
       "      <th>3</th>\n",
       "      <td>2011-12-04</td>\n",
       "      <td>15.000000</td>\n",
       "    </tr>\n",
       "    <tr>\n",
       "      <th>4</th>\n",
       "      <td>2011-12-21</td>\n",
       "      <td>27.142857</td>\n",
       "    </tr>\n",
       "    <tr>\n",
       "      <th>...</th>\n",
       "      <td>...</td>\n",
       "      <td>...</td>\n",
       "    </tr>\n",
       "    <tr>\n",
       "      <th>2224</th>\n",
       "      <td>2022-02-26</td>\n",
       "      <td>11.333333</td>\n",
       "    </tr>\n",
       "    <tr>\n",
       "      <th>2225</th>\n",
       "      <td>2022-03-01</td>\n",
       "      <td>26.000000</td>\n",
       "    </tr>\n",
       "    <tr>\n",
       "      <th>2226</th>\n",
       "      <td>2022-03-02</td>\n",
       "      <td>29.428571</td>\n",
       "    </tr>\n",
       "    <tr>\n",
       "      <th>2227</th>\n",
       "      <td>2022-03-03</td>\n",
       "      <td>28.285714</td>\n",
       "    </tr>\n",
       "    <tr>\n",
       "      <th>2228</th>\n",
       "      <td>2022-03-04</td>\n",
       "      <td>15.000000</td>\n",
       "    </tr>\n",
       "  </tbody>\n",
       "</table>\n",
       "<p>2229 rows × 2 columns</p>\n",
       "</div>"
      ],
      "text/plain": [
       "            day     length\n",
       "0    2010-06-04  20.000000\n",
       "1    2011-12-01  26.000000\n",
       "2    2011-12-03  17.000000\n",
       "3    2011-12-04  15.000000\n",
       "4    2011-12-21  27.142857\n",
       "...         ...        ...\n",
       "2224 2022-02-26  11.333333\n",
       "2225 2022-03-01  26.000000\n",
       "2226 2022-03-02  29.428571\n",
       "2227 2022-03-03  28.285714\n",
       "2228 2022-03-04  15.000000\n",
       "\n",
       "[2229 rows x 2 columns]"
      ]
     },
     "metadata": {},
     "output_type": "display_data"
    }
   ],
   "source": [
    "dailylen = df[['length','day']].groupby(by = 'day').mean().reset_index()\n",
    "display(dailylen)"
   ]
  },
  {
   "cell_type": "code",
   "execution_count": 47,
   "metadata": {},
   "outputs": [
    {
     "data": {
      "image/png": "[encoded data removed]",
      "text/plain": [
       "<Figure size 432x288 with 1 Axes>"
      ]
     },
     "metadata": {
      "needs_background": "light"
     },
     "output_type": "display_data"
    }
   ],
   "source": [
    "plt.scatter(dailylen['day'], dailylen['length']);"
   ]
  },
  {
   "cell_type": "code",
   "execution_count": 48,
   "metadata": {},
   "outputs": [
    {
     "data": {
      "text/plain": [
       "0        733927\n",
       "1        734472\n",
       "2        734472\n",
       "3        734474\n",
       "4        734474\n",
       "          ...  \n",
       "12201    738217\n",
       "12202    738217\n",
       "12203    738216\n",
       "12204    738218\n",
       "12205    738218\n",
       "Name: date_ordinal, Length: 12206, dtype: int64"
      ]
     },
     "metadata": {},
     "output_type": "display_data"
    }
   ],
   "source": [
    "df['date_ordinal'] = pd.to_datetime(df['Timestamp']).apply(lambda date: date.toordinal())\n",
    "display(df['date_ordinal'])"
   ]
  },
  {
   "cell_type": "code",
   "execution_count": 56,
   "metadata": {},
   "outputs": [
    {
     "data": {
      "image/png": "[encoded data removed]",
      "text/plain": [
       "<Figure size 432x288 with 1 Axes>"
      ]
     },
     "metadata": {
      "needs_background": "light"
     },
     "output_type": "display_data"
    }
   ],
   "source": [
    "sns.regplot(x='date_ordinal', y='length', data=df,marker=\"None\");"
   ]
  },
  {
   "cell_type": "markdown",
   "metadata": {},
   "source": [
    "The lenght of the tweets of Elon Musk is decreasing over time!"
   ]
  },
  {
   "cell_type": "markdown",
   "metadata": {},
   "source": [
    "## 2. Let's analyize the distribution of number of tweets over time."
   ]
  },
  {
   "cell_type": "code",
   "execution_count": null,
   "metadata": {},
   "outputs": [],
   "source": [
    "#Plotting an histogram of the Number of daily posts.   \n",
    "plothisto(df['length'], 'length','number of occurences','distribution of number of words in the quotes',50)"
   ]
  },
  {
   "cell_type": "code",
   "execution_count": 61,
   "metadata": {},
   "outputs": [
    {
     "data": {
      "image/png": "[encoded data removed]",
      "text/plain": [
       "<Figure size 432x288 with 1 Axes>"
      ]
     },
     "metadata": {
      "needs_background": "light"
     },
     "output_type": "display_data"
    }
   ],
   "source": [
    "formatted_df = df.copy()\n",
    "#change time format\n",
    "formatted_df[\"date\"] = pd.to_datetime(formatted_df['Timestamp'], format='%Y-%m-%d %H:%M:%S')\n",
    "\n",
    "#plot the data\n",
    "bins = 100\n",
    "hist = plt.hist(formatted_df[\"date\"].dt.date,bins)\n",
    "#plt.xlim([datetime.date(2020, 3, 15), datetime.date(2020, 4, 1)])\n",
    "#plt.xticks([datetime.date(2020, i, 1) for i in range(1,5)])\n",
    "plt.xlabel(\"Date\")\n",
    "plt.ylabel(\"Number of quotes\")\n",
    "plt.title(\"Number of quotes per date\")\n",
    "plt.show()"
   ]
  },
  {
   "cell_type": "markdown",
   "metadata": {},
   "source": [
    "We can observe that the number of Elon Musk's tweets has increased over time"
   ]
  },
  {
   "cell_type": "code",
   "execution_count": null,
   "metadata": {},
   "outputs": [],
   "source": []
  }
 ],
 "metadata": {
  "kernelspec": {
   "display_name": "Python 3 (ipykernel)",
   "language": "python",
   "name": "python3"
  },
  "language_info": {
   "codemirror_mode": {
    "name": "ipython",
    "version": 3
   },
   "file_extension": ".py",
   "mimetype": "text/x-python",
   "name": "python",
   "nbconvert_exporter": "python",
   "pygments_lexer": "ipython3",
   "version": "3.8.12"
  }
 },
 "nbformat": 4,
 "nbformat_minor": 2
}
